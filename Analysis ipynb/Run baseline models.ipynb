{
 "cells": [
  {
   "cell_type": "code",
   "execution_count": 3,
   "metadata": {
    "collapsed": true
   },
   "outputs": [],
   "source": [
    "from convertdata import *\n",
    "import numpy as np\n",
    "import pandas as pd"
   ]
  },
  {
   "cell_type": "markdown",
   "metadata": {},
   "source": [
    "# Run baseline model for Yeast and E.coli"
   ]
  },
  {
   "cell_type": "code",
   "execution_count": 4,
   "metadata": {},
   "outputs": [
    {
     "data": {
      "text/plain": [
       "'./data/ecoli/'"
      ]
     },
     "execution_count": 4,
     "metadata": {},
     "output_type": "execute_result"
    }
   ],
   "source": [
    "organism = \"ecoli\"\n",
    "path = './data/'+organism+'/'\n",
    "path"
   ]
  },
  {
   "cell_type": "code",
   "execution_count": 5,
   "metadata": {
    "collapsed": true
   },
   "outputs": [],
   "source": [
    "linkfile = path + \"edgelist_biogrid.txt\"\n",
    "\n",
    "edgelist = pd.read_csv(linkfile, sep=\" \", header=None)\n",
    "\n",
    "neg_adj = pd.read_csv(path + \"neg_sample.txt\", header = None, sep=\",\")\n",
    "neg_adj.columns = ['A', 'B', 'C']"
   ]
  },
  {
   "cell_type": "code",
   "execution_count": 6,
   "metadata": {},
   "outputs": [
    {
     "data": {
      "text/plain": [
       "(148340, 3)"
      ]
     },
     "execution_count": 6,
     "metadata": {},
     "output_type": "execute_result"
    }
   ],
   "source": [
    "edgelist.shape"
   ]
  },
  {
   "cell_type": "code",
   "execution_count": 7,
   "metadata": {},
   "outputs": [
    {
     "data": {
      "text/plain": [
       "(20196270, 3)"
      ]
     },
     "execution_count": 7,
     "metadata": {},
     "output_type": "execute_result"
    }
   ],
   "source": [
    "neg_adj.shape"
   ]
  },
  {
   "cell_type": "code",
   "execution_count": 8,
   "metadata": {
    "collapsed": true
   },
   "outputs": [],
   "source": [
    "def convertdata(path, edgelist, neg_adj, train_file, test_file, validation_file, test_size=0.2):\n",
    "    remove_file(test_file)\n",
    "    remove_file(train_file)\n",
    "    remove_file(validation_file)\n",
    "\n",
    "    edgelist = edgelist.sample(frac=1).reset_index(drop=True)\n",
    "    print(\"Splitting edgelist to train and test\")\n",
    "    x_train, x_test = train_test_split(edgelist, test_size=test_size)\n",
    "\n",
    "    print(\"Sampling equal number of negative links\")\n",
    "    neg_adj_0 = neg_adj\n",
    "    n = x_test.shape[0]\n",
    "    ind = random.sample(range(len(neg_adj_0)), n)\n",
    "    neg_adj_0 = pd.DataFrame(np.random.permutation(neg_adj_0))\n",
    "    X_test_0 = neg_adj_0.iloc[ind, :]\n",
    "\n",
    "    \n",
    "    print(\"Creating validation and test set\")\n",
    "    X_test = pd.DataFrame(np.vstack((x_test, X_test_0))).astype(int)\n",
    "    X_test, X_validation = train_test_split(X_test, test_size=0.5)\n",
    "\n",
    "    print(\"Writing to file\")\n",
    "    X_test.to_csv(test_file, header=None, sep=' ', index=False, mode='a')\n",
    "    X_validation.to_csv(validation_file, header=None, sep=' ', index=False, mode='a')\n",
    "    x_train.to_csv(train_file, header=None, sep=' ', index=False, mode='a')"
   ]
  },
  {
   "cell_type": "code",
   "execution_count": null,
   "metadata": {
    "collapsed": true
   },
   "outputs": [],
   "source": []
  },
  {
   "cell_type": "code",
   "execution_count": 9,
   "metadata": {},
   "outputs": [
    {
     "name": "stdout",
     "output_type": "stream",
     "text": [
      "0.2\n",
      "./data/ecoli/\n",
      "converting data for iteration 2 with random seed 2\n",
      "Splitting edgelist to train and test\n",
      "Sampling equal number of negative links\n",
      "Creating validation and test set\n",
      "Writing to file\n",
      "0.3\n",
      "./data/ecoli/\n",
      "converting data for iteration 3 with random seed 3\n",
      "Splitting edgelist to train and test\n",
      "Sampling equal number of negative links\n",
      "Creating validation and test set\n",
      "Writing to file\n",
      "0.4\n",
      "./data/ecoli/\n",
      "converting data for iteration 4 with random seed 4\n",
      "Splitting edgelist to train and test\n",
      "Sampling equal number of negative links\n",
      "Creating validation and test set\n",
      "Writing to file\n",
      "0.5\n",
      "./data/ecoli/\n",
      "converting data for iteration 5 with random seed 5\n",
      "Splitting edgelist to train and test\n",
      "Sampling equal number of negative links\n",
      "Creating validation and test set\n",
      "Writing to file\n",
      "0.6\n",
      "./data/ecoli/\n",
      "converting data for iteration 6 with random seed 6\n",
      "Splitting edgelist to train and test\n",
      "Sampling equal number of negative links\n",
      "Creating validation and test set\n",
      "Writing to file\n",
      "0.7\n",
      "./data/ecoli/\n",
      "converting data for iteration 7 with random seed 7\n",
      "Splitting edgelist to train and test\n",
      "Sampling equal number of negative links\n",
      "Creating validation and test set\n",
      "Writing to file\n"
     ]
    }
   ],
   "source": [
    "for i in range(2, 8):\n",
    "    np.random.seed(i)\n",
    "    test_size = float(i)/10\n",
    "    print(test_size)\n",
    "    print(path)\n",
    "    print(\"converting data for iteration \" + str(i) + \" with random seed \" + str(i))\n",
    "    trainlinkfile = path + \"data_ref/edgelist_train_\"+str(test_size)+\".txt\"\n",
    "    testlinkfile = path + \"data_ref/edgelist_test_\"+str(test_size)+\".txt\"\n",
    "    vallinkfile = path + \"data_ref/edgelist_val_\"+str(test_size)+\".txt\"\n",
    "    convertdata(path, edgelist, neg_adj, trainlinkfile, testlinkfile, vallinkfile, test_size=test_size)"
   ]
  },
  {
   "cell_type": "code",
   "execution_count": null,
   "metadata": {
    "collapsed": true
   },
   "outputs": [],
   "source": []
  },
  {
   "cell_type": "code",
   "execution_count": 3,
   "metadata": {
    "collapsed": true
   },
   "outputs": [],
   "source": [
    "import pickle\n",
    "from evaluation import *\n",
    "from numba import jit\n",
    "\n",
    "@jit\n",
    "def read_test_link(testlinkfile):\n",
    "    X_test = []\n",
    "    f = open(testlinkfile)\n",
    "    line = f.readline()\n",
    "    while line:\n",
    "        line = line.strip().split(\" \")\n",
    "        X_test.append([int(line[0]), int(line[1]), int(line[2])])\n",
    "        line = f.readline()\n",
    "    f.close()\n",
    "#     print(\"test link number:\", len(X_test))\n",
    "    return X_test\n"
   ]
  },
  {
   "cell_type": "code",
   "execution_count": 4,
   "metadata": {
    "collapsed": true
   },
   "outputs": [],
   "source": [
    "from joblib import Parallel, delayed\n",
    "import multiprocessing\n",
    "from sklearn.metrics import average_precision_score, roc_auc_score\n",
    "from sklearn.metrics.pairwise import cosine_similarity"
   ]
  },
  {
   "cell_type": "code",
   "execution_count": 5,
   "metadata": {
    "collapsed": true
   },
   "outputs": [],
   "source": [
    "def evaluate_ROC(X_test, cosine_matrix):\n",
    "    y_true = [ X_test[i][2] for i in range(len(X_test))]\n",
    "    y_predict = [cosine_matrix[X_test[i][0], X_test[i][1]]  for i in range(len(X_test))]\n",
    "    roc = roc_auc_score(y_true, y_predict)\n",
    "    if roc < 0.5:\n",
    "        roc = 1 - roc\n",
    "    pr = average_precision_score(y_true, y_predict)\n",
    "    return roc, pr"
   ]
  },
  {
   "cell_type": "markdown",
   "metadata": {
    "collapsed": true
   },
   "source": [
    "# LINE"
   ]
  },
  {
   "cell_type": "code",
   "execution_count": 10,
   "metadata": {},
   "outputs": [
    {
     "name": "stdout",
     "output_type": "stream",
     "text": [
      "Evaluating for iteration 3\n",
      "103838\n",
      "LINE Method without attributes: Accuracy (ROC) in Test Data set 0.754263930 0.714346920\n",
      "LINE Method with Attributes: Accuracy (ROC) in Test Data set 0.539857209 0.565137008\n",
      "Evaluating for iteration 4\n",
      "103838\n",
      "LINE Method without attributes: Accuracy (ROC) in Test Data set 0.754333475 0.714368608\n",
      "LINE Method with Attributes: Accuracy (ROC) in Test Data set 0.539874529 0.565077692\n",
      "Evaluating for iteration 5\n",
      "103838\n",
      "LINE Method without attributes: Accuracy (ROC) in Test Data set 0.754105350 0.714290780\n",
      "LINE Method with Attributes: Accuracy (ROC) in Test Data set 0.539844874 0.565093947\n",
      "Evaluating for iteration 6\n",
      "103838\n",
      "LINE Method without attributes: Accuracy (ROC) in Test Data set 0.754356197 0.714381633\n",
      "LINE Method with Attributes: Accuracy (ROC) in Test Data set 0.539911506 0.565163435\n",
      "Evaluating for iteration 7\n",
      "103838\n",
      "LINE Method without attributes: Accuracy (ROC) in Test Data set 0.754278215 0.714355791\n",
      "LINE Method with Attributes: Accuracy (ROC) in Test Data set 0.539869412 0.565097891\n",
      "Evaluating for iteration 8\n",
      "103838\n",
      "LINE Method without attributes: Accuracy (ROC) in Test Data set 0.754262975 0.714351650\n",
      "LINE Method with Attributes: Accuracy (ROC) in Test Data set 0.539867251 0.565094515\n"
     ]
    }
   ],
   "source": [
    "for i in range(2, 8):\n",
    "    np.random.seed(i)\n",
    "    test_size = float(i)/10\n",
    "    print(\"Evaluating for iteration \" +str(i + 1))\n",
    "    test_data = read_test_link(path + \"data_ref/edgelist_test_0.7.txt\")\n",
    "    print(len(test_data))\n",
    "    embeddings_file = \"output/ecoli/line_embeddings/final_emb_0.2.txt\"\n",
    "    emb = load_embedding(embeddings_file, 4511, combineAttribute=False, datafile=path+\"data_standard.txt\")\n",
    "    cosine_matrix = cosine_similarity(emb, emb)\n",
    "    roc, pr = evaluate_ROC_from_cosine_matrix(test_data, cosine_matrix)\n",
    "    print(\"LINE Method without attributes: Accuracy (ROC) in Test Data set\", \"{0:.9f} {1:.9f}\".format(roc, pr))\n",
    "\n",
    "    emb = load_embedding(embeddings_file, 4511, combineAttribute=True, datafile=path+\"data_standard.txt\")\n",
    "    cosine_matrix = cosine_similarity(emb, emb)\n",
    "    roc, pr = evaluate_ROC_from_cosine_matrix(test_data, cosine_matrix)\n",
    "    print(\"LINE Method with Attributes: Accuracy (ROC) in Test Data set\", \"{0:.9f} {1:.9f}\".format(roc, pr))"
   ]
  },
  {
   "cell_type": "markdown",
   "metadata": {},
   "source": [
    "# Node2Vec"
   ]
  },
  {
   "cell_type": "code",
   "execution_count": 1,
   "metadata": {
    "collapsed": true
   },
   "outputs": [],
   "source": [
    "organism = \"ecoli\"\n",
    "path = './data/'+organism+'/'"
   ]
  },
  {
   "cell_type": "code",
   "execution_count": 6,
   "metadata": {},
   "outputs": [
    {
     "name": "stdout",
     "output_type": "stream",
     "text": [
      "Evaluating for iteration 1\n"
     ]
    },
    {
     "data": {
      "text/plain": [
       "29668"
      ]
     },
     "execution_count": 6,
     "metadata": {},
     "output_type": "execute_result"
    }
   ],
   "source": [
    "i = 0\n",
    "print(\"Evaluating for iteration \" +str(i + 1))\n",
    "test_data = read_test_link(path + \"data_ref/edgelist_test_\"+str(i)+\".txt\")\n",
    "len(test_data)"
   ]
  },
  {
   "cell_type": "code",
   "execution_count": 12,
   "metadata": {},
   "outputs": [
    {
     "data": {
      "text/plain": [
       "(4511, 128)"
      ]
     },
     "execution_count": 12,
     "metadata": {},
     "output_type": "execute_result"
    }
   ],
   "source": [
    "embeddings_file = \"output/ecoli/deepWalk_embeddings/final_emb_0.2.txt\"\n",
    "emb = load_embedding(embeddings_file, 4511, combineAttribute=False, datafile=path+\"data_standard.txt\")\n",
    "emb.shape"
   ]
  },
  {
   "cell_type": "code",
   "execution_count": null,
   "metadata": {
    "collapsed": true
   },
   "outputs": [],
   "source": []
  },
  {
   "cell_type": "code",
   "execution_count": 13,
   "metadata": {},
   "outputs": [
    {
     "name": "stdout",
     "output_type": "stream",
     "text": [
      "Node2vec Method without attributes: Accuracy (ROC) in Test Data set 0.774772212 0.750232074\n",
      "Node2vec Method with Attributes: Accuracy (ROC) in Test Data set 0.539318339 0.567778448\n"
     ]
    }
   ],
   "source": [
    "cosine_matrix = cosine_similarity(emb, emb)\n",
    "roc, pr = evaluate_ROC(test_data, cosine_matrix)\n",
    "print(\"Node2vec Method without attributes: Accuracy (ROC) in Test Data set\", \"{0:.9f} {1:.9f}\".format(roc, pr))\n",
    "\n",
    "emb = load_embedding(embeddings_file, 4511, combineAttribute=True, datafile=path+\"data_standard.txt\")\n",
    "cosine_matrix = cosine_similarity(emb, emb)\n",
    "roc, pr = evaluate_ROC(test_data, cosine_matrix)\n",
    "print(\"Node2vec Method with Attributes: Accuracy (ROC) in Test Data set\", \"{0:.9f} {1:.9f}\".format(roc, pr))"
   ]
  },
  {
   "cell_type": "code",
   "execution_count": 12,
   "metadata": {
    "collapsed": true
   },
   "outputs": [],
   "source": [
    "import networkx as nx\n",
    "from node2vec import Node2Vec\n",
    "from bokeh.models.graphs import from_networkx"
   ]
  },
  {
   "cell_type": "code",
   "execution_count": 4,
   "metadata": {
    "collapsed": true
   },
   "outputs": [],
   "source": [
    "# Create a graph\n",
    "graph = nx.read_edgelist(path + \"data_ref/edgelist_train_0.txt\", nodetype=int, data=(('weight',float),))"
   ]
  },
  {
   "cell_type": "code",
   "execution_count": 17,
   "metadata": {
    "collapsed": true
   },
   "outputs": [],
   "source": [
    "from bokeh.plotting import figure\n",
    "from bokeh.io import show, output_file"
   ]
  },
  {
   "cell_type": "code",
   "execution_count": 10,
   "metadata": {
    "collapsed": true
   },
   "outputs": [],
   "source": [
    "plot = figure(title=\"Networkx Integration Demonstration\", x_range=(-1.1,1.1), y_range=(-1.1,1.1),\n",
    "              tools=\"\", toolbar_location=None)"
   ]
  },
  {
   "cell_type": "code",
   "execution_count": 13,
   "metadata": {
    "collapsed": true
   },
   "outputs": [],
   "source": [
    "G = from_networkx(graph, nx.spring_layout, scale=2, center=(0,0))"
   ]
  },
  {
   "cell_type": "code",
   "execution_count": 15,
   "metadata": {
    "collapsed": true
   },
   "outputs": [],
   "source": [
    "plot.renderers.append(G)"
   ]
  },
  {
   "cell_type": "code",
   "execution_count": 18,
   "metadata": {
    "collapsed": true
   },
   "outputs": [],
   "source": [
    "show(plot)"
   ]
  }
 ],
 "metadata": {
  "kernelspec": {
   "display_name": "Python 3",
   "language": "python",
   "name": "python3"
  },
  "language_info": {
   "codemirror_mode": {
    "name": "ipython",
    "version": 3
   },
   "file_extension": ".py",
   "mimetype": "text/x-python",
   "name": "python",
   "nbconvert_exporter": "python",
   "pygments_lexer": "ipython3",
   "version": "3.6.3"
  }
 },
 "nbformat": 4,
 "nbformat_minor": 2
}
