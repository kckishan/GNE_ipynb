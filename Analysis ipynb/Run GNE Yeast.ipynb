{
 "cells": [
  {
   "cell_type": "code",
   "execution_count": 3,
   "metadata": {
    "collapsed": true
   },
   "outputs": [],
   "source": [
    "import pickle \n",
    "import LoadData as data\n",
    "import numpy as np\n",
    "from GNE import GNE\n",
    "from evaluation import *\n",
    "from utils import *\n",
    "import pandas as pd\n",
    "import scipy.sparse as sp\n",
    "import random\n",
    "import pandas as pd"
   ]
  },
  {
   "cell_type": "code",
   "execution_count": null,
   "metadata": {
    "collapsed": true
   },
   "outputs": [],
   "source": [
    "def split_seq(seq, num_splits):\n",
    "        newseq = []\n",
    "        splitsize = 1.0/num_splits*len(seq)\n",
    "        for i in range(num_splits):\n",
    "                newseq.append(seq[int(round(i*splitsize)):int(round((i+1)*splitsize))])\n",
    "        return newseq"
   ]
  },
  {
   "cell_type": "code",
   "execution_count": null,
   "metadata": {
    "collapsed": true
   },
   "outputs": [],
   "source": []
  },
  {
   "cell_type": "code",
   "execution_count": 1,
   "metadata": {
    "collapsed": true
   },
   "outputs": [],
   "source": [
    "path = './data/yeast/'"
   ]
  },
  {
   "cell_type": "code",
   "execution_count": 4,
   "metadata": {},
   "outputs": [],
   "source": [
    "geneids = pd.read_csv(path + \"gene_ids.tsv\", sep=\"\\t\")"
   ]
  },
  {
   "cell_type": "code",
   "execution_count": 5,
   "metadata": {},
   "outputs": [
    {
     "name": "stdout",
     "output_type": "stream",
     "text": [
      "### Loading [./data/yeast/edgelist_biogrid.txt]...\n"
     ]
    }
   ],
   "source": [
    "num_genes = geneids.shape[0]\n",
    "link_file = path + \"edgelist_biogrid.txt\"\n",
    "\n",
    "adj = load_network(link_file, num_genes)"
   ]
  },
  {
   "cell_type": "code",
   "execution_count": 6,
   "metadata": {},
   "outputs": [
    {
     "data": {
      "text/plain": [
       "544652.0"
      ]
     },
     "execution_count": 6,
     "metadata": {},
     "output_type": "execute_result"
    }
   ],
   "source": [
    "np.sum(adj)"
   ]
  },
  {
   "cell_type": "code",
   "execution_count": null,
   "metadata": {
    "collapsed": true
   },
   "outputs": [],
   "source": [
    "def create_dataset_for_comparison(path, adj):\n",
    "    print(\"Creating 2 split of data\")\n",
    "    g = nx.Graph(adj)\n",
    "    adj = nx.to_scipy_sparse_matrix(g)\n",
    "    # Remove diagonal elements\n",
    "    adj = adj - sp.dia_matrix((adj.diagonal()[np.newaxis, :], [0]), shape=adj.shape)\n",
    "    adj.eliminate_zeros()\n",
    "\n",
    "    # Split link information to train and validation with test split size\n",
    "    edgelist = convertAdjMatrixToSortedRankTSV(adj.todense())\n",
    "    geneids = edgelist.iloc[:, :2]\n",
    "    col1 = np.array(geneids).min(axis=1).astype(int)\n",
    "    col2 = np.array(geneids).max(axis=1).astype(int)\n",
    "    col3 = np.array(edgelist.iloc[:, 2])\n",
    "    data_df = pd.DataFrame()\n",
    "    data_df['i'] = col1\n",
    "    data_df['j'] = col2\n",
    "    data_df['k'] = col3\n",
    "    data_df = data_df.drop_duplicates()\n",
    "\n",
    "    pos_edges = data_df.loc[data_df.iloc[:, 2] == 1]\n",
    "    neg_edgelist = data_df.loc[data_df.iloc[:, 2] == 0]\n",
    "    ind = random.sample(range(len(neg_edgelist)), pos_edges.shape[0])\n",
    "    neg_edges = pd.DataFrame(np.random.permutation(neg_edgelist.values))\n",
    "    neg_edges = neg_edges.iloc[ind, :]\n",
    "\n",
    "#     assert set(map(tuple, pos_edges)).isdisjoint(set(map(tuple, neg_edges)))\n",
    "    return pos_edges, neg_edges"
   ]
  },
  {
   "cell_type": "code",
   "execution_count": null,
   "metadata": {},
   "outputs": [],
   "source": [
    "X_pos, X_neg = create_dataset_for_comparison(path, adj)"
   ]
  },
  {
   "cell_type": "code",
   "execution_count": null,
   "metadata": {
    "collapsed": true
   },
   "outputs": [],
   "source": [
    "X_pos, X_neg = X_pos.values, X_neg.values"
   ]
  },
  {
   "cell_type": "code",
   "execution_count": null,
   "metadata": {
    "collapsed": true
   },
   "outputs": [],
   "source": [
    "X_pos, X_neg = X_pos.astype(int), X_neg.astype(int)"
   ]
  },
  {
   "cell_type": "code",
   "execution_count": null,
   "metadata": {
    "collapsed": true
   },
   "outputs": [],
   "source": [
    "randomized_indices = np.random.permutation(range(len(X_pos)))"
   ]
  },
  {
   "cell_type": "code",
   "execution_count": null,
   "metadata": {
    "collapsed": true
   },
   "outputs": [],
   "source": [
    "index_splits = split_seq(range(len(X_pos)), 2)"
   ]
  },
  {
   "cell_type": "code",
   "execution_count": null,
   "metadata": {
    "collapsed": true
   },
   "outputs": [],
   "source": [
    "test_index = randomized_indices[index_splits[1]]"
   ]
  },
  {
   "cell_type": "code",
   "execution_count": null,
   "metadata": {
    "collapsed": true
   },
   "outputs": [],
   "source": [
    "train_index = randomized_indices[index_splits[0]]"
   ]
  },
  {
   "cell_type": "code",
   "execution_count": null,
   "metadata": {
    "collapsed": true
   },
   "outputs": [],
   "source": [
    "train_edges = X_pos[train_index,:]\n",
    "train_edges_false = X_neg[train_index,:]\n",
    "val_edges = X_pos[train_index,:]\n",
    "val_edges_false = X_neg[train_index,:]\n",
    "test_edges = X_pos[test_index,:]\n",
    "test_edges_false = X_neg[test_index,:]"
   ]
  },
  {
   "cell_type": "code",
   "execution_count": null,
   "metadata": {
    "collapsed": true
   },
   "outputs": [],
   "source": [
    "# pd.DataFrame(train_edges).to_csv(\"/Users/kk3671/Documents/Op÷enNE/data/yeast/train_links_0.5_split_1.txt\", index=False, header=False, sep=' ')"
   ]
  },
  {
   "cell_type": "code",
   "execution_count": null,
   "metadata": {
    "collapsed": true
   },
   "outputs": [],
   "source": [
    "# pd.DataFrame(test_edges).to_csv(\"/Users/kk3671/Documents/OpenNE/data/yeast/train_links_0.5_split_2.txt\", index=False, header=False, sep=' ')"
   ]
  },
  {
   "cell_type": "code",
   "execution_count": null,
   "metadata": {
    "collapsed": true
   },
   "outputs": [],
   "source": [
    "train_data = np.concatenate([train_edges, train_edges_false])\n",
    "test_data =  np.concatenate([test_edges, test_edges_false])"
   ]
  },
  {
   "cell_type": "code",
   "execution_count": null,
   "metadata": {},
   "outputs": [],
   "source": [
    "pd.DataFrame(train_data).to_csv(\"/Users/kk3671/Documents/OpenNE/data/yeast/train_data_1.txt\", index=False, header=False, sep=' ')\n",
    "pd.DataFrame(test_data).to_csv(\"/Users/kk3671/Documents/OpenNE/data/yeast/train_data_2.txt\", index=False, header=False, sep=' ')"
   ]
  },
  {
   "cell_type": "code",
   "execution_count": null,
   "metadata": {
    "collapsed": true
   },
   "outputs": [],
   "source": [
    "train_data = pd.read_csv(\"/Users/kk3671/Documents/OpenNE/data/yeast/train_data_1.txt\", header=None, sep=' ')\n",
    "test_data = pd.read_csv(\"/Users/kk3671/Documents/OpenNE/data/yeast/train_data_2.txt\",  header=None, sep=' ')"
   ]
  },
  {
   "cell_type": "code",
   "execution_count": null,
   "metadata": {
    "collapsed": true
   },
   "outputs": [],
   "source": [
    "train_edges = train_data.loc[train_data.iloc[:,2]==1].values\n",
    "train_edges_false = train_data.loc[train_data.iloc[:,2]==0].values\n",
    "val_edges = train_data.loc[train_data.iloc[:,2]==1].values\n",
    "val_edges_false = train_data.loc[train_data.iloc[:,2]==0].values\n",
    "test_edges = test_data.loc[test_data.iloc[:,2]==1].values\n",
    "test_edges_false = test_data.loc[test_data.iloc[:,2]==0].values"
   ]
  },
  {
   "cell_type": "code",
   "execution_count": null,
   "metadata": {},
   "outputs": [],
   "source": [
    "train_edges.shape"
   ]
  },
  {
   "cell_type": "code",
   "execution_count": null,
   "metadata": {
    "collapsed": true
   },
   "outputs": [],
   "source": [
    "validation_edges =  np.concatenate([val_edges, val_edges_false])\n",
    "val_edge_labels = np.concatenate([np.ones(len(val_edges)), np.zeros(len(val_edges_false))])"
   ]
  },
  {
   "cell_type": "code",
   "execution_count": null,
   "metadata": {
    "collapsed": true
   },
   "outputs": [],
   "source": [
    "a1_rows = set(map(tuple, train_edges))"
   ]
  },
  {
   "cell_type": "code",
   "execution_count": null,
   "metadata": {
    "collapsed": true
   },
   "outputs": [],
   "source": [
    "a2_rows = set(map(tuple, test_edges))"
   ]
  },
  {
   "cell_type": "code",
   "execution_count": null,
   "metadata": {},
   "outputs": [],
   "source": [
    "a1_rows.isdisjoint(a2_rows)"
   ]
  },
  {
   "cell_type": "code",
   "execution_count": 13,
   "metadata": {
    "collapsed": true
   },
   "outputs": [],
   "source": [
    "feature_file = path + 'expression_data.tsv'"
   ]
  },
  {
   "cell_type": "code",
   "execution_count": 7,
   "metadata": {
    "collapsed": true
   },
   "outputs": [],
   "source": [
    "from convertdata import *"
   ]
  },
  {
   "cell_type": "code",
   "execution_count": null,
   "metadata": {
    "collapsed": true
   },
   "outputs": [],
   "source": []
  },
  {
   "cell_type": "code",
   "execution_count": 8,
   "metadata": {},
   "outputs": [
    {
     "name": "stdout",
     "output_type": "stream",
     "text": [
      "Creating train test and validation_split\n"
     ]
    }
   ],
   "source": [
    "dataset = create_train_test_split(path, adj, test_size=0.1, validation_size=0.1)"
   ]
  },
  {
   "cell_type": "code",
   "execution_count": 9,
   "metadata": {},
   "outputs": [],
   "source": [
    "train_edges = dataset['train_pos']\n",
    "train_edges_false = dataset['train_neg']\n",
    "val_edges = dataset['val_pos']\n",
    "val_edges_false = dataset['val_neg']\n",
    "test_edges = dataset['test_pos']\n",
    "test_edges_false = dataset['test_neg']"
   ]
  },
  {
   "cell_type": "code",
   "execution_count": 10,
   "metadata": {},
   "outputs": [
    {
     "name": "stdout",
     "output_type": "stream",
     "text": [
      "Total nodes: 5950\n",
      "Total edges: 544652.0\n",
      "Training edges (positive): 395875\n",
      "Training edges (negative): 395875\n",
      "Validation edges (positive): 43987\n",
      "Validation edges (negative): 43987\n",
      "Test edges (positive): 48874\n",
      "Test edges (negative): 48874\n"
     ]
    }
   ],
   "source": [
    "# Inspect train/test split\n",
    "print(\"Total nodes:\", adj.shape[0])\n",
    "print(\"Total edges:\", np.sum(adj))  # adj is symmetric, so nnz (num non-zero) = 2*num_edges\n",
    "print(\"Training edges (positive):\", len(train_edges))\n",
    "print(\"Training edges (negative):\", len(train_edges_false))\n",
    "print(\"Validation edges (positive):\", len(val_edges))\n",
    "print(\"Validation edges (negative):\", len(val_edges_false))\n",
    "print(\"Test edges (positive):\", len(test_edges))\n",
    "print(\"Test edges (negative):\", len(test_edges_false))"
   ]
  },
  {
   "cell_type": "code",
   "execution_count": 11,
   "metadata": {
    "collapsed": true
   },
   "outputs": [],
   "source": [
    "validation_edges =  np.concatenate([val_edges, val_edges_false])\n",
    "val_edge_labels = np.concatenate([np.ones(len(val_edges)), np.zeros(len(val_edges_false))])"
   ]
  },
  {
   "cell_type": "code",
   "execution_count": null,
   "metadata": {
    "collapsed": true
   },
   "outputs": [],
   "source": []
  },
  {
   "cell_type": "code",
   "execution_count": null,
   "metadata": {
    "collapsed": true
   },
   "outputs": [],
   "source": []
  },
  {
   "cell_type": "code",
   "execution_count": null,
   "metadata": {
    "collapsed": true
   },
   "outputs": [],
   "source": []
  },
  {
   "cell_type": "code",
   "execution_count": 14,
   "metadata": {},
   "outputs": [
    {
     "name": "stdout",
     "output_type": "stream",
     "text": [
      "Constructing Nodes\n",
      "attr_M: 536\n",
      "id_N: 5950\n",
      "Reading training links\n",
      "Constructing Neighborhood maps\n",
      "Constructing train data\n"
     ]
    }
   ],
   "source": [
    "Data = data.LoadData(path, train_links=train_edges, features_file=feature_file)"
   ]
  },
  {
   "cell_type": "code",
   "execution_count": 15,
   "metadata": {},
   "outputs": [
    {
     "data": {
      "text/plain": [
       "791750"
      ]
     },
     "execution_count": 15,
     "metadata": {},
     "output_type": "execute_result"
    }
   ],
   "source": [
    "len(Data.links)"
   ]
  },
  {
   "cell_type": "code",
   "execution_count": 16,
   "metadata": {},
   "outputs": [
    {
     "data": {
      "text/plain": [
       "48874"
      ]
     },
     "execution_count": 16,
     "metadata": {},
     "output_type": "execute_result"
    }
   ],
   "source": [
    "len(test_edges)"
   ]
  },
  {
   "cell_type": "code",
   "execution_count": 17,
   "metadata": {},
   "outputs": [
    {
     "data": {
      "text/plain": [
       "87974"
      ]
     },
     "execution_count": 17,
     "metadata": {},
     "output_type": "execute_result"
    }
   ],
   "source": [
    "len(validation_edges)"
   ]
  },
  {
   "cell_type": "code",
   "execution_count": 18,
   "metadata": {},
   "outputs": [
    {
     "data": {
      "text/plain": [
       "{'alpha': 0,\n",
       " 'attr_embedding_size': 128,\n",
       " 'batch_size': 256,\n",
       " 'epoch': 20,\n",
       " 'id_embedding_size': 128,\n",
       " 'learning_rate': 0.005,\n",
       " 'n_neg_samples': 10,\n",
       " 'representation_size': 128}"
      ]
     },
     "execution_count": 18,
     "metadata": {},
     "output_type": "execute_result"
    }
   ],
   "source": [
    "parameters = {}\n",
    "parameters['id_embedding_size'] = 128\n",
    "parameters['attr_embedding_size'] = 128\n",
    "parameters['batch_size'] = 256\n",
    "parameters['alpha'] = 0\n",
    "parameters['n_neg_samples'] = 10\n",
    "parameters['epoch'] = 20\n",
    "parameters['representation_size'] = 128\n",
    "parameters['learning_rate'] = 0.005\n",
    "parameters"
   ]
  },
  {
   "cell_type": "code",
   "execution_count": null,
   "metadata": {
    "collapsed": true
   },
   "outputs": [],
   "source": []
  },
  {
   "cell_type": "code",
   "execution_count": 19,
   "metadata": {},
   "outputs": [
    {
     "name": "stdout",
     "output_type": "stream",
     "text": [
      "{'id_embedding_size': 128, 'attr_embedding_size': 128, 'batch_size': 256, 'alpha': 0, 'n_neg_samples': 10, 'epoch': 20, 'representation_size': 128, 'learning_rate': 0.005}\n",
      "Using structure and attribute embedding\n",
      "Epoch:      1, Train-Batch Loss: 6.310084483, Validation AUC: 0.557508353 *\n",
      "Epoch:      2, Train-Batch Loss: 1.949577686, Validation AUC: 0.563390622 *\n",
      "Epoch:      3, Train-Batch Loss: 1.582844538, Validation AUC: 0.590562869 *\n",
      "Epoch:      4, Train-Batch Loss: 1.516007597, Validation AUC: 0.638523756 *\n",
      "Epoch:      5, Train-Batch Loss: 1.492391334, Validation AUC: 0.685045378 *\n",
      "Epoch:      6, Train-Batch Loss: 1.433447374, Validation AUC: 0.718403083 *\n",
      "Epoch:      7, Train-Batch Loss: 1.402797732, Validation AUC: 0.738265165 *\n",
      "Epoch:      8, Train-Batch Loss: 1.371006530, Validation AUC: 0.750990422 *\n",
      "Epoch:      9, Train-Batch Loss: 1.387766419, Validation AUC: 0.758661669 *\n"
     ]
    },
    {
     "name": "stderr",
     "output_type": "stream",
     "text": [
      "/Users/kk3671/Documents/GNE_bk/evaluation.py:13: RuntimeWarning: overflow encountered in exp\n",
      "  return 1 / (1 + np.exp(-x))\n"
     ]
    },
    {
     "name": "stdout",
     "output_type": "stream",
     "text": [
      "Epoch:     10, Train-Batch Loss: 1.355640317, Validation AUC: 0.762884010 *\n",
      "Epoch:     11, Train-Batch Loss: 1.360708615, Validation AUC: 0.763946740 *\n",
      "Epoch:     12, Train-Batch Loss: 1.364342529, Validation AUC: 0.761929607 \n",
      "Epoch:     13, Train-Batch Loss: 1.342732669, Validation AUC: 0.759919975 \n",
      "Epoch:     14, Train-Batch Loss: 1.312292517, Validation AUC: 0.757366515 \n",
      "No improvement found in a while, stopping optimization.\n",
      "{'id_embedding_size': 128, 'attr_embedding_size': 128, 'batch_size': 256, 'alpha': 1, 'n_neg_samples': 10, 'epoch': 20, 'representation_size': 128, 'learning_rate': 0.005}\n",
      "Using structure and attribute embedding\n",
      "Epoch:      1, Train-Batch Loss: 7.703314566, Validation AUC: 0.666438791 *\n",
      "Epoch:      2, Train-Batch Loss: 4.920528603, Validation AUC: 0.707863075 *\n",
      "Epoch:      3, Train-Batch Loss: 2.679996250, Validation AUC: 0.746812381 *\n",
      "Epoch:      4, Train-Batch Loss: 1.687004831, Validation AUC: 0.757842852 *\n",
      "Epoch:      5, Train-Batch Loss: 1.603077887, Validation AUC: 0.771933069 *\n",
      "Epoch:      6, Train-Batch Loss: 1.536834433, Validation AUC: 0.784443413 *\n",
      "Epoch:      7, Train-Batch Loss: 1.512389474, Validation AUC: 0.791403814 *\n",
      "Epoch:      8, Train-Batch Loss: 1.481894891, Validation AUC: 0.795784212 *\n",
      "Epoch:      9, Train-Batch Loss: 1.506677415, Validation AUC: 0.795106782 \n",
      "Epoch:     10, Train-Batch Loss: 1.478902300, Validation AUC: 0.791101561 \n",
      "Epoch:     11, Train-Batch Loss: 1.488173666, Validation AUC: 0.783946980 \n",
      "No improvement found in a while, stopping optimization.\n"
     ]
    }
   ],
   "source": [
    "for i in [0,1]:\n",
    "    parameters['alpha'] = i\n",
    "    model = GNE(path, Data, 2018, parameters)\n",
    "    embeddings = model.train(validation_edges, val_edge_labels)\n",
    "    pd.DataFrame(embeddings).to_csv(\"embeddings_yeast_alpha_\"+str(parameters['alpha'])+\".txt\", header=False, index=False, sep=\",\")"
   ]
  },
  {
   "cell_type": "code",
   "execution_count": null,
   "metadata": {
    "collapsed": true
   },
   "outputs": [],
   "source": []
  },
  {
   "cell_type": "code",
   "execution_count": 20,
   "metadata": {
    "collapsed": true
   },
   "outputs": [],
   "source": [
    "embeddings_1 = pd.read_csv(\"embeddings_yeast_alpha_0.txt\", header=None, sep=\",\")\n",
    "embeddings_2 = pd.read_csv(\"embeddings_yeast_alpha_1.txt\", header=None, sep=\",\")"
   ]
  },
  {
   "cell_type": "code",
   "execution_count": null,
   "metadata": {},
   "outputs": [],
   "source": []
  },
  {
   "cell_type": "code",
   "execution_count": 21,
   "metadata": {
    "collapsed": true
   },
   "outputs": [],
   "source": [
    "embeddings_1 = embeddings_1.values\n",
    "embeddings_2 = embeddings_2.values"
   ]
  },
  {
   "cell_type": "code",
   "execution_count": 22,
   "metadata": {},
   "outputs": [],
   "source": [
    "# Train-set edge embeddings\n",
    "pos_train_edge_embs = get_edge_embeddings(embeddings_1, train_edges)\n",
    "neg_train_edge_embs = get_edge_embeddings(embeddings_1, train_edges_false)\n",
    "train_edge_embs = np.concatenate([pos_train_edge_embs, neg_train_edge_embs])\n",
    "# Create train-set edge labels: 1 = real edge, 0 = false edge\n",
    "train_edge_labels = np.concatenate([np.ones(len(train_edges)), np.zeros(len(train_edges_false))])"
   ]
  },
  {
   "cell_type": "code",
   "execution_count": null,
   "metadata": {
    "collapsed": true
   },
   "outputs": [],
   "source": []
  },
  {
   "cell_type": "code",
   "execution_count": null,
   "metadata": {
    "collapsed": true
   },
   "outputs": [],
   "source": []
  },
  {
   "cell_type": "code",
   "execution_count": null,
   "metadata": {
    "collapsed": true
   },
   "outputs": [],
   "source": []
  },
  {
   "cell_type": "code",
   "execution_count": 23,
   "metadata": {},
   "outputs": [
    {
     "data": {
      "text/plain": [
       "LogisticRegression(C=1.0, class_weight=None, dual=False, fit_intercept=True,\n",
       "          intercept_scaling=1, max_iter=100, multi_class='ovr', n_jobs=1,\n",
       "          penalty='l2', random_state=0, solver='liblinear', tol=0.0001,\n",
       "          verbose=0, warm_start=False)"
      ]
     },
     "execution_count": 23,
     "metadata": {},
     "output_type": "execute_result"
    }
   ],
   "source": [
    "# Train logistic regression classifier on train-set edge embeddings\n",
    "from sklearn.linear_model import LogisticRegression\n",
    "\n",
    "edge_classifier_1 = LogisticRegression(random_state=0)\n",
    "edge_classifier_1.fit(train_edge_embs, train_edge_labels)"
   ]
  },
  {
   "cell_type": "code",
   "execution_count": null,
   "metadata": {
    "collapsed": true
   },
   "outputs": [],
   "source": [
    "# test_preds = edge_classifier.predict_proba(test_edge_embs)[:, 1]\n",
    "# test_roc = roc_auc_score(test_edge_labels, test_preds)\n",
    "# test_ap = average_precision_score(test_edge_labels, test_preds)"
   ]
  },
  {
   "cell_type": "code",
   "execution_count": null,
   "metadata": {},
   "outputs": [],
   "source": [
    "# print('GNE Test ROC score: ', str(test_roc))\n",
    "# print('GNE Test AP score: ', str(test_ap))"
   ]
  },
  {
   "cell_type": "code",
   "execution_count": 24,
   "metadata": {
    "collapsed": true
   },
   "outputs": [],
   "source": [
    "# Train-set edge embeddings\n",
    "pos_train_edge_embs = get_edge_embeddings(embeddings_2, train_edges)\n",
    "neg_train_edge_embs = get_edge_embeddings(embeddings_2, train_edges_false)\n",
    "train_edge_embs = np.concatenate([pos_train_edge_embs, neg_train_edge_embs])"
   ]
  },
  {
   "cell_type": "code",
   "execution_count": 25,
   "metadata": {},
   "outputs": [
    {
     "data": {
      "text/plain": [
       "LogisticRegression(C=1.0, class_weight=None, dual=False, fit_intercept=True,\n",
       "          intercept_scaling=1, max_iter=100, multi_class='ovr', n_jobs=1,\n",
       "          penalty='l2', random_state=0, solver='liblinear', tol=0.0001,\n",
       "          verbose=0, warm_start=False)"
      ]
     },
     "execution_count": 25,
     "metadata": {},
     "output_type": "execute_result"
    }
   ],
   "source": [
    "# Train logistic regression classifier on train-set edge embeddings\n",
    "from sklearn.linear_model import LogisticRegression\n",
    "\n",
    "edge_classifier_2 = LogisticRegression(random_state=0)\n",
    "edge_classifier_2.fit(train_edge_embs, train_edge_labels)"
   ]
  },
  {
   "cell_type": "code",
   "execution_count": null,
   "metadata": {
    "collapsed": true
   },
   "outputs": [],
   "source": [
    "# Ecoli\n",
    "#GNE Test ROC score:  0.940158504921\n",
    "#GNE Test AP score:  0.93897040116"
   ]
  },
  {
   "cell_type": "code",
   "execution_count": null,
   "metadata": {
    "collapsed": true
   },
   "outputs": [],
   "source": [
    "# yeast\n",
    "# GNE Test ROC score:  0.821812518988\n",
    "# GNE Test AP score:  0.80728890868"
   ]
  },
  {
   "cell_type": "code",
   "execution_count": 26,
   "metadata": {},
   "outputs": [],
   "source": [
    "evaluation_data = pd.read_csv(\"/Users/kk3671/Documents/GNE/data/yeast/evaluation_data.txt\", header=None, sep=\" \")"
   ]
  },
  {
   "cell_type": "code",
   "execution_count": 27,
   "metadata": {
    "collapsed": true
   },
   "outputs": [],
   "source": [
    "test_edges = evaluation_data.iloc[:,:2].values"
   ]
  },
  {
   "cell_type": "code",
   "execution_count": 28,
   "metadata": {},
   "outputs": [],
   "source": [
    "test_pos = evaluation_data.loc[evaluation_data.iloc[:,2]==1,:]"
   ]
  },
  {
   "cell_type": "code",
   "execution_count": 29,
   "metadata": {},
   "outputs": [],
   "source": [
    "index = np.random.permutation(test_edges_false.shape[0])[:test_pos.shape[0]]"
   ]
  },
  {
   "cell_type": "code",
   "execution_count": 30,
   "metadata": {},
   "outputs": [],
   "source": [
    "test_edges_neg = test_edges_false[index,:]"
   ]
  },
  {
   "cell_type": "code",
   "execution_count": null,
   "metadata": {
    "collapsed": true
   },
   "outputs": [],
   "source": []
  },
  {
   "cell_type": "code",
   "execution_count": 31,
   "metadata": {
    "collapsed": true
   },
   "outputs": [],
   "source": [
    "test_edges_data = np.concatenate([test_pos.values,test_edges_neg])"
   ]
  },
  {
   "cell_type": "code",
   "execution_count": 32,
   "metadata": {
    "collapsed": true
   },
   "outputs": [],
   "source": [
    "test_edge_labels = np.concatenate([np.ones(len(test_pos)), np.zeros(len(test_edges_neg))])"
   ]
  },
  {
   "cell_type": "code",
   "execution_count": null,
   "metadata": {
    "collapsed": true
   },
   "outputs": [],
   "source": []
  },
  {
   "cell_type": "code",
   "execution_count": 33,
   "metadata": {
    "collapsed": true
   },
   "outputs": [],
   "source": [
    "test_edge_embs = get_edge_embeddings(embeddings, test_edges_data)"
   ]
  },
  {
   "cell_type": "code",
   "execution_count": null,
   "metadata": {},
   "outputs": [],
   "source": [
    "# test_edge_labels = evaluation_data.iloc[:,2].values"
   ]
  },
  {
   "cell_type": "code",
   "execution_count": 34,
   "metadata": {},
   "outputs": [
    {
     "name": "stdout",
     "output_type": "stream",
     "text": [
      "GNE Test ROC score:  0.701490073054\n",
      "GNE Test AP score:  0.685019702035\n"
     ]
    }
   ],
   "source": [
    "test_preds = edge_classifier_1.predict_proba(test_edge_embs)[:, 1]\n",
    "test_roc = roc_auc_score(test_edge_labels, test_preds)\n",
    "test_ap = average_precision_score(test_edge_labels, test_preds)\n",
    "print('GNE Test ROC score: ', str(test_roc))\n",
    "print('GNE Test AP score: ', str(test_ap))"
   ]
  },
  {
   "cell_type": "code",
   "execution_count": 35,
   "metadata": {
    "scrolled": true
   },
   "outputs": [
    {
     "name": "stdout",
     "output_type": "stream",
     "text": [
      "GNE Test ROC score:  0.714396129958\n",
      "GNE Test AP score:  0.690655808085\n"
     ]
    }
   ],
   "source": [
    "test_preds_all = edge_classifier_2.predict_proba(test_edge_embs)[:, 1]\n",
    "test_roc = roc_auc_score(test_edge_labels, test_preds_all)\n",
    "test_ap = average_precision_score(test_edge_labels, test_preds_all)\n",
    "print('GNE Test ROC score: ', str(test_roc))\n",
    "print('GNE Test AP score: ', str(test_ap))"
   ]
  },
  {
   "cell_type": "code",
   "execution_count": null,
   "metadata": {
    "collapsed": true
   },
   "outputs": [],
   "source": [
    "# structure\n",
    "# CNE Test ROC score:  0.6852121037\n",
    "# GNE Test AP score:  0.676090762932\n",
    "# all\n",
    "# GNE Test ROC score:  0.707318321648\n",
    "# GNE Test AP score:  0.679146387378"
   ]
  },
  {
   "cell_type": "code",
   "execution_count": 36,
   "metadata": {
    "collapsed": true
   },
   "outputs": [],
   "source": [
    "predictions = evaluation_data"
   ]
  },
  {
   "cell_type": "code",
   "execution_count": 37,
   "metadata": {
    "collapsed": true
   },
   "outputs": [],
   "source": [
    "predictions['structure'] = test_preds"
   ]
  },
  {
   "cell_type": "code",
   "execution_count": 38,
   "metadata": {
    "collapsed": true
   },
   "outputs": [],
   "source": [
    "predictions['all'] = test_preds_all"
   ]
  },
  {
   "cell_type": "code",
   "execution_count": 39,
   "metadata": {},
   "outputs": [
    {
     "data": {
      "text/html": [
       "<div>\n",
       "<style>\n",
       "    .dataframe thead tr:only-child th {\n",
       "        text-align: right;\n",
       "    }\n",
       "\n",
       "    .dataframe thead th {\n",
       "        text-align: left;\n",
       "    }\n",
       "\n",
       "    .dataframe tbody tr th {\n",
       "        vertical-align: top;\n",
       "    }\n",
       "</style>\n",
       "<table border=\"1\" class=\"dataframe\">\n",
       "  <thead>\n",
       "    <tr style=\"text-align: right;\">\n",
       "      <th></th>\n",
       "      <th>0</th>\n",
       "      <th>1</th>\n",
       "      <th>2</th>\n",
       "      <th>structure</th>\n",
       "      <th>all</th>\n",
       "    </tr>\n",
       "  </thead>\n",
       "  <tbody>\n",
       "    <tr>\n",
       "      <th>0</th>\n",
       "      <td>3844</td>\n",
       "      <td>5174</td>\n",
       "      <td>1</td>\n",
       "      <td>0.690379</td>\n",
       "      <td>0.705964</td>\n",
       "    </tr>\n",
       "    <tr>\n",
       "      <th>1</th>\n",
       "      <td>1275</td>\n",
       "      <td>2873</td>\n",
       "      <td>1</td>\n",
       "      <td>0.189159</td>\n",
       "      <td>0.104340</td>\n",
       "    </tr>\n",
       "    <tr>\n",
       "      <th>2</th>\n",
       "      <td>1824</td>\n",
       "      <td>5545</td>\n",
       "      <td>1</td>\n",
       "      <td>0.361572</td>\n",
       "      <td>0.626138</td>\n",
       "    </tr>\n",
       "    <tr>\n",
       "      <th>3</th>\n",
       "      <td>3143</td>\n",
       "      <td>4530</td>\n",
       "      <td>1</td>\n",
       "      <td>0.500160</td>\n",
       "      <td>0.488627</td>\n",
       "    </tr>\n",
       "    <tr>\n",
       "      <th>4</th>\n",
       "      <td>2100</td>\n",
       "      <td>3020</td>\n",
       "      <td>1</td>\n",
       "      <td>0.506807</td>\n",
       "      <td>0.771675</td>\n",
       "    </tr>\n",
       "    <tr>\n",
       "      <th>5</th>\n",
       "      <td>4350</td>\n",
       "      <td>2873</td>\n",
       "      <td>1</td>\n",
       "      <td>0.334140</td>\n",
       "      <td>0.308406</td>\n",
       "    </tr>\n",
       "    <tr>\n",
       "      <th>6</th>\n",
       "      <td>39</td>\n",
       "      <td>4854</td>\n",
       "      <td>1</td>\n",
       "      <td>0.682290</td>\n",
       "      <td>0.726682</td>\n",
       "    </tr>\n",
       "    <tr>\n",
       "      <th>7</th>\n",
       "      <td>1702</td>\n",
       "      <td>3752</td>\n",
       "      <td>1</td>\n",
       "      <td>0.542675</td>\n",
       "      <td>0.831660</td>\n",
       "    </tr>\n",
       "    <tr>\n",
       "      <th>8</th>\n",
       "      <td>4116</td>\n",
       "      <td>164</td>\n",
       "      <td>1</td>\n",
       "      <td>0.595382</td>\n",
       "      <td>0.679016</td>\n",
       "    </tr>\n",
       "    <tr>\n",
       "      <th>9</th>\n",
       "      <td>1225</td>\n",
       "      <td>179</td>\n",
       "      <td>1</td>\n",
       "      <td>0.359938</td>\n",
       "      <td>0.485050</td>\n",
       "    </tr>\n",
       "    <tr>\n",
       "      <th>10</th>\n",
       "      <td>5222</td>\n",
       "      <td>2873</td>\n",
       "      <td>1</td>\n",
       "      <td>0.506546</td>\n",
       "      <td>0.475394</td>\n",
       "    </tr>\n",
       "    <tr>\n",
       "      <th>11</th>\n",
       "      <td>1937</td>\n",
       "      <td>792</td>\n",
       "      <td>1</td>\n",
       "      <td>0.376084</td>\n",
       "      <td>0.390902</td>\n",
       "    </tr>\n",
       "    <tr>\n",
       "      <th>12</th>\n",
       "      <td>409</td>\n",
       "      <td>735</td>\n",
       "      <td>1</td>\n",
       "      <td>0.144267</td>\n",
       "      <td>0.086058</td>\n",
       "    </tr>\n",
       "    <tr>\n",
       "      <th>13</th>\n",
       "      <td>5326</td>\n",
       "      <td>179</td>\n",
       "      <td>1</td>\n",
       "      <td>0.392981</td>\n",
       "      <td>0.438745</td>\n",
       "    </tr>\n",
       "    <tr>\n",
       "      <th>14</th>\n",
       "      <td>3266</td>\n",
       "      <td>3473</td>\n",
       "      <td>1</td>\n",
       "      <td>0.894500</td>\n",
       "      <td>0.991000</td>\n",
       "    </tr>\n",
       "    <tr>\n",
       "      <th>15</th>\n",
       "      <td>1237</td>\n",
       "      <td>735</td>\n",
       "      <td>1</td>\n",
       "      <td>0.402819</td>\n",
       "      <td>0.258122</td>\n",
       "    </tr>\n",
       "    <tr>\n",
       "      <th>16</th>\n",
       "      <td>1310</td>\n",
       "      <td>735</td>\n",
       "      <td>1</td>\n",
       "      <td>0.352605</td>\n",
       "      <td>0.233673</td>\n",
       "    </tr>\n",
       "    <tr>\n",
       "      <th>17</th>\n",
       "      <td>5589</td>\n",
       "      <td>2661</td>\n",
       "      <td>1</td>\n",
       "      <td>0.605300</td>\n",
       "      <td>0.639261</td>\n",
       "    </tr>\n",
       "    <tr>\n",
       "      <th>18</th>\n",
       "      <td>98</td>\n",
       "      <td>2873</td>\n",
       "      <td>1</td>\n",
       "      <td>0.505014</td>\n",
       "      <td>0.333033</td>\n",
       "    </tr>\n",
       "    <tr>\n",
       "      <th>19</th>\n",
       "      <td>665</td>\n",
       "      <td>179</td>\n",
       "      <td>1</td>\n",
       "      <td>0.181309</td>\n",
       "      <td>0.097311</td>\n",
       "    </tr>\n",
       "    <tr>\n",
       "      <th>20</th>\n",
       "      <td>4910</td>\n",
       "      <td>2976</td>\n",
       "      <td>1</td>\n",
       "      <td>0.451166</td>\n",
       "      <td>0.297100</td>\n",
       "    </tr>\n",
       "    <tr>\n",
       "      <th>21</th>\n",
       "      <td>4055</td>\n",
       "      <td>179</td>\n",
       "      <td>1</td>\n",
       "      <td>0.325566</td>\n",
       "      <td>0.292459</td>\n",
       "    </tr>\n",
       "    <tr>\n",
       "      <th>22</th>\n",
       "      <td>4714</td>\n",
       "      <td>26</td>\n",
       "      <td>1</td>\n",
       "      <td>0.598349</td>\n",
       "      <td>0.800520</td>\n",
       "    </tr>\n",
       "    <tr>\n",
       "      <th>23</th>\n",
       "      <td>316</td>\n",
       "      <td>3094</td>\n",
       "      <td>1</td>\n",
       "      <td>0.320886</td>\n",
       "      <td>0.371509</td>\n",
       "    </tr>\n",
       "    <tr>\n",
       "      <th>24</th>\n",
       "      <td>5140</td>\n",
       "      <td>2795</td>\n",
       "      <td>1</td>\n",
       "      <td>0.740637</td>\n",
       "      <td>0.861345</td>\n",
       "    </tr>\n",
       "    <tr>\n",
       "      <th>25</th>\n",
       "      <td>254</td>\n",
       "      <td>26</td>\n",
       "      <td>1</td>\n",
       "      <td>0.244618</td>\n",
       "      <td>0.251898</td>\n",
       "    </tr>\n",
       "    <tr>\n",
       "      <th>26</th>\n",
       "      <td>4433</td>\n",
       "      <td>179</td>\n",
       "      <td>1</td>\n",
       "      <td>0.125231</td>\n",
       "      <td>0.188131</td>\n",
       "    </tr>\n",
       "    <tr>\n",
       "      <th>27</th>\n",
       "      <td>276</td>\n",
       "      <td>2124</td>\n",
       "      <td>1</td>\n",
       "      <td>0.592363</td>\n",
       "      <td>0.728491</td>\n",
       "    </tr>\n",
       "    <tr>\n",
       "      <th>28</th>\n",
       "      <td>3689</td>\n",
       "      <td>791</td>\n",
       "      <td>1</td>\n",
       "      <td>0.481178</td>\n",
       "      <td>0.706937</td>\n",
       "    </tr>\n",
       "    <tr>\n",
       "      <th>29</th>\n",
       "      <td>5186</td>\n",
       "      <td>535</td>\n",
       "      <td>1</td>\n",
       "      <td>0.879430</td>\n",
       "      <td>0.939686</td>\n",
       "    </tr>\n",
       "    <tr>\n",
       "      <th>...</th>\n",
       "      <td>...</td>\n",
       "      <td>...</td>\n",
       "      <td>...</td>\n",
       "      <td>...</td>\n",
       "      <td>...</td>\n",
       "    </tr>\n",
       "    <tr>\n",
       "      <th>12805</th>\n",
       "      <td>2654</td>\n",
       "      <td>2070</td>\n",
       "      <td>1</td>\n",
       "      <td>0.710706</td>\n",
       "      <td>0.889205</td>\n",
       "    </tr>\n",
       "    <tr>\n",
       "      <th>12806</th>\n",
       "      <td>2867</td>\n",
       "      <td>179</td>\n",
       "      <td>1</td>\n",
       "      <td>0.730996</td>\n",
       "      <td>0.831099</td>\n",
       "    </tr>\n",
       "    <tr>\n",
       "      <th>12807</th>\n",
       "      <td>3950</td>\n",
       "      <td>215</td>\n",
       "      <td>1</td>\n",
       "      <td>0.751989</td>\n",
       "      <td>0.886380</td>\n",
       "    </tr>\n",
       "    <tr>\n",
       "      <th>12808</th>\n",
       "      <td>3950</td>\n",
       "      <td>2532</td>\n",
       "      <td>1</td>\n",
       "      <td>0.522448</td>\n",
       "      <td>0.682868</td>\n",
       "    </tr>\n",
       "    <tr>\n",
       "      <th>12809</th>\n",
       "      <td>3344</td>\n",
       "      <td>3345</td>\n",
       "      <td>1</td>\n",
       "      <td>0.584260</td>\n",
       "      <td>0.370769</td>\n",
       "    </tr>\n",
       "    <tr>\n",
       "      <th>12810</th>\n",
       "      <td>3117</td>\n",
       "      <td>360</td>\n",
       "      <td>1</td>\n",
       "      <td>0.223870</td>\n",
       "      <td>0.157122</td>\n",
       "    </tr>\n",
       "    <tr>\n",
       "      <th>12811</th>\n",
       "      <td>396</td>\n",
       "      <td>258</td>\n",
       "      <td>1</td>\n",
       "      <td>0.533179</td>\n",
       "      <td>0.604227</td>\n",
       "    </tr>\n",
       "    <tr>\n",
       "      <th>12812</th>\n",
       "      <td>3960</td>\n",
       "      <td>179</td>\n",
       "      <td>1</td>\n",
       "      <td>0.190993</td>\n",
       "      <td>0.138038</td>\n",
       "    </tr>\n",
       "    <tr>\n",
       "      <th>12813</th>\n",
       "      <td>2194</td>\n",
       "      <td>735</td>\n",
       "      <td>1</td>\n",
       "      <td>0.440952</td>\n",
       "      <td>0.425917</td>\n",
       "    </tr>\n",
       "    <tr>\n",
       "      <th>12814</th>\n",
       "      <td>3616</td>\n",
       "      <td>3020</td>\n",
       "      <td>1</td>\n",
       "      <td>0.277202</td>\n",
       "      <td>0.497197</td>\n",
       "    </tr>\n",
       "    <tr>\n",
       "      <th>12815</th>\n",
       "      <td>3737</td>\n",
       "      <td>39</td>\n",
       "      <td>1</td>\n",
       "      <td>0.228253</td>\n",
       "      <td>0.250421</td>\n",
       "    </tr>\n",
       "    <tr>\n",
       "      <th>12816</th>\n",
       "      <td>2270</td>\n",
       "      <td>4533</td>\n",
       "      <td>1</td>\n",
       "      <td>0.263631</td>\n",
       "      <td>0.412860</td>\n",
       "    </tr>\n",
       "    <tr>\n",
       "      <th>12817</th>\n",
       "      <td>1648</td>\n",
       "      <td>735</td>\n",
       "      <td>1</td>\n",
       "      <td>0.319392</td>\n",
       "      <td>0.305993</td>\n",
       "    </tr>\n",
       "    <tr>\n",
       "      <th>12818</th>\n",
       "      <td>995</td>\n",
       "      <td>735</td>\n",
       "      <td>1</td>\n",
       "      <td>0.310231</td>\n",
       "      <td>0.421840</td>\n",
       "    </tr>\n",
       "    <tr>\n",
       "      <th>12819</th>\n",
       "      <td>44</td>\n",
       "      <td>735</td>\n",
       "      <td>1</td>\n",
       "      <td>0.472140</td>\n",
       "      <td>0.465391</td>\n",
       "    </tr>\n",
       "    <tr>\n",
       "      <th>12820</th>\n",
       "      <td>5798</td>\n",
       "      <td>2873</td>\n",
       "      <td>1</td>\n",
       "      <td>0.291637</td>\n",
       "      <td>0.259367</td>\n",
       "    </tr>\n",
       "    <tr>\n",
       "      <th>12821</th>\n",
       "      <td>2827</td>\n",
       "      <td>179</td>\n",
       "      <td>1</td>\n",
       "      <td>0.404298</td>\n",
       "      <td>0.535538</td>\n",
       "    </tr>\n",
       "    <tr>\n",
       "      <th>12822</th>\n",
       "      <td>5751</td>\n",
       "      <td>5174</td>\n",
       "      <td>1</td>\n",
       "      <td>0.242865</td>\n",
       "      <td>0.162225</td>\n",
       "    </tr>\n",
       "    <tr>\n",
       "      <th>12823</th>\n",
       "      <td>2977</td>\n",
       "      <td>5545</td>\n",
       "      <td>1</td>\n",
       "      <td>0.737464</td>\n",
       "      <td>0.921161</td>\n",
       "    </tr>\n",
       "    <tr>\n",
       "      <th>12824</th>\n",
       "      <td>1843</td>\n",
       "      <td>2243</td>\n",
       "      <td>1</td>\n",
       "      <td>0.239002</td>\n",
       "      <td>0.496378</td>\n",
       "    </tr>\n",
       "    <tr>\n",
       "      <th>12825</th>\n",
       "      <td>5337</td>\n",
       "      <td>179</td>\n",
       "      <td>1</td>\n",
       "      <td>0.145837</td>\n",
       "      <td>0.107250</td>\n",
       "    </tr>\n",
       "    <tr>\n",
       "      <th>12826</th>\n",
       "      <td>4948</td>\n",
       "      <td>179</td>\n",
       "      <td>1</td>\n",
       "      <td>0.654635</td>\n",
       "      <td>0.710845</td>\n",
       "    </tr>\n",
       "    <tr>\n",
       "      <th>12827</th>\n",
       "      <td>4375</td>\n",
       "      <td>179</td>\n",
       "      <td>1</td>\n",
       "      <td>0.380074</td>\n",
       "      <td>0.477499</td>\n",
       "    </tr>\n",
       "    <tr>\n",
       "      <th>12828</th>\n",
       "      <td>4574</td>\n",
       "      <td>179</td>\n",
       "      <td>1</td>\n",
       "      <td>0.757195</td>\n",
       "      <td>0.657929</td>\n",
       "    </tr>\n",
       "    <tr>\n",
       "      <th>12829</th>\n",
       "      <td>303</td>\n",
       "      <td>179</td>\n",
       "      <td>1</td>\n",
       "      <td>0.339761</td>\n",
       "      <td>0.259817</td>\n",
       "    </tr>\n",
       "    <tr>\n",
       "      <th>12830</th>\n",
       "      <td>2110</td>\n",
       "      <td>735</td>\n",
       "      <td>1</td>\n",
       "      <td>0.551665</td>\n",
       "      <td>0.629546</td>\n",
       "    </tr>\n",
       "    <tr>\n",
       "      <th>12831</th>\n",
       "      <td>257</td>\n",
       "      <td>4985</td>\n",
       "      <td>1</td>\n",
       "      <td>0.709428</td>\n",
       "      <td>0.863960</td>\n",
       "    </tr>\n",
       "    <tr>\n",
       "      <th>12832</th>\n",
       "      <td>2473</td>\n",
       "      <td>2873</td>\n",
       "      <td>1</td>\n",
       "      <td>0.397493</td>\n",
       "      <td>0.266426</td>\n",
       "    </tr>\n",
       "    <tr>\n",
       "      <th>12833</th>\n",
       "      <td>5428</td>\n",
       "      <td>3689</td>\n",
       "      <td>1</td>\n",
       "      <td>0.702096</td>\n",
       "      <td>0.937554</td>\n",
       "    </tr>\n",
       "    <tr>\n",
       "      <th>12834</th>\n",
       "      <td>3360</td>\n",
       "      <td>179</td>\n",
       "      <td>1</td>\n",
       "      <td>0.340448</td>\n",
       "      <td>0.535582</td>\n",
       "    </tr>\n",
       "  </tbody>\n",
       "</table>\n",
       "<p>12835 rows × 5 columns</p>\n",
       "</div>"
      ],
      "text/plain": [
       "          0     1  2  structure       all\n",
       "0      3844  5174  1   0.690379  0.705964\n",
       "1      1275  2873  1   0.189159  0.104340\n",
       "2      1824  5545  1   0.361572  0.626138\n",
       "3      3143  4530  1   0.500160  0.488627\n",
       "4      2100  3020  1   0.506807  0.771675\n",
       "5      4350  2873  1   0.334140  0.308406\n",
       "6        39  4854  1   0.682290  0.726682\n",
       "7      1702  3752  1   0.542675  0.831660\n",
       "8      4116   164  1   0.595382  0.679016\n",
       "9      1225   179  1   0.359938  0.485050\n",
       "10     5222  2873  1   0.506546  0.475394\n",
       "11     1937   792  1   0.376084  0.390902\n",
       "12      409   735  1   0.144267  0.086058\n",
       "13     5326   179  1   0.392981  0.438745\n",
       "14     3266  3473  1   0.894500  0.991000\n",
       "15     1237   735  1   0.402819  0.258122\n",
       "16     1310   735  1   0.352605  0.233673\n",
       "17     5589  2661  1   0.605300  0.639261\n",
       "18       98  2873  1   0.505014  0.333033\n",
       "19      665   179  1   0.181309  0.097311\n",
       "20     4910  2976  1   0.451166  0.297100\n",
       "21     4055   179  1   0.325566  0.292459\n",
       "22     4714    26  1   0.598349  0.800520\n",
       "23      316  3094  1   0.320886  0.371509\n",
       "24     5140  2795  1   0.740637  0.861345\n",
       "25      254    26  1   0.244618  0.251898\n",
       "26     4433   179  1   0.125231  0.188131\n",
       "27      276  2124  1   0.592363  0.728491\n",
       "28     3689   791  1   0.481178  0.706937\n",
       "29     5186   535  1   0.879430  0.939686\n",
       "...     ...   ... ..        ...       ...\n",
       "12805  2654  2070  1   0.710706  0.889205\n",
       "12806  2867   179  1   0.730996  0.831099\n",
       "12807  3950   215  1   0.751989  0.886380\n",
       "12808  3950  2532  1   0.522448  0.682868\n",
       "12809  3344  3345  1   0.584260  0.370769\n",
       "12810  3117   360  1   0.223870  0.157122\n",
       "12811   396   258  1   0.533179  0.604227\n",
       "12812  3960   179  1   0.190993  0.138038\n",
       "12813  2194   735  1   0.440952  0.425917\n",
       "12814  3616  3020  1   0.277202  0.497197\n",
       "12815  3737    39  1   0.228253  0.250421\n",
       "12816  2270  4533  1   0.263631  0.412860\n",
       "12817  1648   735  1   0.319392  0.305993\n",
       "12818   995   735  1   0.310231  0.421840\n",
       "12819    44   735  1   0.472140  0.465391\n",
       "12820  5798  2873  1   0.291637  0.259367\n",
       "12821  2827   179  1   0.404298  0.535538\n",
       "12822  5751  5174  1   0.242865  0.162225\n",
       "12823  2977  5545  1   0.737464  0.921161\n",
       "12824  1843  2243  1   0.239002  0.496378\n",
       "12825  5337   179  1   0.145837  0.107250\n",
       "12826  4948   179  1   0.654635  0.710845\n",
       "12827  4375   179  1   0.380074  0.477499\n",
       "12828  4574   179  1   0.757195  0.657929\n",
       "12829   303   179  1   0.339761  0.259817\n",
       "12830  2110   735  1   0.551665  0.629546\n",
       "12831   257  4985  1   0.709428  0.863960\n",
       "12832  2473  2873  1   0.397493  0.266426\n",
       "12833  5428  3689  1   0.702096  0.937554\n",
       "12834  3360   179  1   0.340448  0.535582\n",
       "\n",
       "[12835 rows x 5 columns]"
      ]
     },
     "execution_count": 39,
     "metadata": {},
     "output_type": "execute_result"
    }
   ],
   "source": [
    "predictions_true = predictions.loc[predictions.iloc[:,2]==1]\n",
    "predictions_true"
   ]
  },
  {
   "cell_type": "code",
   "execution_count": null,
   "metadata": {
    "collapsed": true
   },
   "outputs": [],
   "source": [
    "# predict÷ions_bk =predictions.copy("
   ]
  },
  {
   "cell_type": "code",
   "execution_count": null,
   "metadata": {
    "collapsed": true
   },
   "outputs": [],
   "source": [
    "# predictions = predictions_true"
   ]
  },
  {
   "cell_type": "code",
   "execution_count": null,
   "metadata": {
    "collapsed": true
   },
   "outputs": [],
   "source": [
    "# Structure only\n",
    "# GNE Test ROC score:  0.779685103723\n",
    "# GNE Test AP score:  0.781139913429"
   ]
  },
  {
   "cell_type": "code",
   "execution_count": null,
   "metadata": {
    "collapsed": true
   },
   "outputs": [],
   "source": [
    "# all only\n",
    "# GNE Test ROC score:  0.827404280591\n",
    "# GNE Test AP score:  0.824513278629"
   ]
  },
  {
   "cell_type": "code",
   "execution_count": 40,
   "metadata": {},
   "outputs": [],
   "source": [
    "predictions['structure_rank'] = predictions['structure'].rank(ascending=False, method=\"dense\")\n",
    "predictions['all_rank'] = predictions['all'].rank(ascending=False, method=\"dense\")"
   ]
  },
  {
   "cell_type": "code",
   "execution_count": 41,
   "metadata": {
    "collapsed": true
   },
   "outputs": [],
   "source": [
    "improved_predictions = predictions.loc[ (predictions.loc[:,'structure']<=predictions.loc[:,'all'])]"
   ]
  },
  {
   "cell_type": "code",
   "execution_count": 42,
   "metadata": {},
   "outputs": [
    {
     "name": "stderr",
     "output_type": "stream",
     "text": [
      "/Users/kk3671/anaconda3/lib/python3.6/site-packages/ipykernel_launcher.py:1: SettingWithCopyWarning: \n",
      "A value is trying to be set on a copy of a slice from a DataFrame.\n",
      "Try using .loc[row_indexer,col_indexer] = value instead\n",
      "\n",
      "See the caveats in the documentation: http://pandas.pydata.org/pandas-docs/stable/indexing.html#indexing-view-versus-copy\n",
      "  \"\"\"Entry point for launching an IPython kernel.\n"
     ]
    }
   ],
   "source": [
    "improved_predictions['diff'] = predictions.loc[:,'all'] - predictions.loc[:,'structure']"
   ]
  },
  {
   "cell_type": "code",
   "execution_count": 45,
   "metadata": {},
   "outputs": [
    {
     "data": {
      "text/plain": [
       "0.10363891807634915"
      ]
     },
     "execution_count": 45,
     "metadata": {},
     "output_type": "execute_result"
    }
   ],
   "source": [
    "np.mean(improved_predictions['diff'])"
   ]
  },
  {
   "cell_type": "code",
   "execution_count": 48,
   "metadata": {},
   "outputs": [],
   "source": [
    "improved_predictions = improved_predictions.loc[improved_predictions.loc[:,2]==1]"
   ]
  },
  {
   "cell_type": "code",
   "execution_count": 49,
   "metadata": {},
   "outputs": [
    {
     "data": {
      "text/html": [
       "<div>\n",
       "<style>\n",
       "    .dataframe thead tr:only-child th {\n",
       "        text-align: right;\n",
       "    }\n",
       "\n",
       "    .dataframe thead th {\n",
       "        text-align: left;\n",
       "    }\n",
       "\n",
       "    .dataframe tbody tr th {\n",
       "        vertical-align: top;\n",
       "    }\n",
       "</style>\n",
       "<table border=\"1\" class=\"dataframe\">\n",
       "  <thead>\n",
       "    <tr style=\"text-align: right;\">\n",
       "      <th></th>\n",
       "      <th>0</th>\n",
       "      <th>1</th>\n",
       "      <th>2</th>\n",
       "      <th>structure</th>\n",
       "      <th>all</th>\n",
       "      <th>structure_rank</th>\n",
       "      <th>all_rank</th>\n",
       "      <th>diff</th>\n",
       "    </tr>\n",
       "  </thead>\n",
       "  <tbody>\n",
       "    <tr>\n",
       "      <th>1043</th>\n",
       "      <td>2615</td>\n",
       "      <td>1799</td>\n",
       "      <td>1</td>\n",
       "      <td>0.310224</td>\n",
       "      <td>0.858648</td>\n",
       "      <td>15685.0</td>\n",
       "      <td>1796.0</td>\n",
       "      <td>0.548424</td>\n",
       "    </tr>\n",
       "    <tr>\n",
       "      <th>11542</th>\n",
       "      <td>3630</td>\n",
       "      <td>5545</td>\n",
       "      <td>1</td>\n",
       "      <td>0.257449</td>\n",
       "      <td>0.754420</td>\n",
       "      <td>18306.0</td>\n",
       "      <td>3790.0</td>\n",
       "      <td>0.496972</td>\n",
       "    </tr>\n",
       "    <tr>\n",
       "      <th>9045</th>\n",
       "      <td>1000</td>\n",
       "      <td>5444</td>\n",
       "      <td>1</td>\n",
       "      <td>0.254082</td>\n",
       "      <td>0.718622</td>\n",
       "      <td>18474.0</td>\n",
       "      <td>4467.0</td>\n",
       "      <td>0.464540</td>\n",
       "    </tr>\n",
       "    <tr>\n",
       "      <th>2800</th>\n",
       "      <td>1958</td>\n",
       "      <td>735</td>\n",
       "      <td>1</td>\n",
       "      <td>0.349644</td>\n",
       "      <td>0.808827</td>\n",
       "      <td>13784.0</td>\n",
       "      <td>2715.0</td>\n",
       "      <td>0.459183</td>\n",
       "    </tr>\n",
       "    <tr>\n",
       "      <th>1948</th>\n",
       "      <td>5205</td>\n",
       "      <td>735</td>\n",
       "      <td>1</td>\n",
       "      <td>0.315456</td>\n",
       "      <td>0.773419</td>\n",
       "      <td>15453.0</td>\n",
       "      <td>3397.0</td>\n",
       "      <td>0.457963</td>\n",
       "    </tr>\n",
       "    <tr>\n",
       "      <th>796</th>\n",
       "      <td>1227</td>\n",
       "      <td>4533</td>\n",
       "      <td>1</td>\n",
       "      <td>0.375480</td>\n",
       "      <td>0.817411</td>\n",
       "      <td>12599.0</td>\n",
       "      <td>2562.0</td>\n",
       "      <td>0.441931</td>\n",
       "    </tr>\n",
       "    <tr>\n",
       "      <th>6385</th>\n",
       "      <td>878</td>\n",
       "      <td>735</td>\n",
       "      <td>1</td>\n",
       "      <td>0.440086</td>\n",
       "      <td>0.877601</td>\n",
       "      <td>9960.0</td>\n",
       "      <td>1450.0</td>\n",
       "      <td>0.437515</td>\n",
       "    </tr>\n",
       "    <tr>\n",
       "      <th>1748</th>\n",
       "      <td>4012</td>\n",
       "      <td>4291</td>\n",
       "      <td>1</td>\n",
       "      <td>0.391820</td>\n",
       "      <td>0.826919</td>\n",
       "      <td>11897.0</td>\n",
       "      <td>2375.0</td>\n",
       "      <td>0.435099</td>\n",
       "    </tr>\n",
       "    <tr>\n",
       "      <th>12495</th>\n",
       "      <td>1092</td>\n",
       "      <td>735</td>\n",
       "      <td>1</td>\n",
       "      <td>0.421663</td>\n",
       "      <td>0.855643</td>\n",
       "      <td>10657.0</td>\n",
       "      <td>1836.0</td>\n",
       "      <td>0.433980</td>\n",
       "    </tr>\n",
       "    <tr>\n",
       "      <th>3091</th>\n",
       "      <td>4825</td>\n",
       "      <td>735</td>\n",
       "      <td>1</td>\n",
       "      <td>0.453174</td>\n",
       "      <td>0.885383</td>\n",
       "      <td>9481.0</td>\n",
       "      <td>1298.0</td>\n",
       "      <td>0.432209</td>\n",
       "    </tr>\n",
       "    <tr>\n",
       "      <th>9132</th>\n",
       "      <td>3050</td>\n",
       "      <td>735</td>\n",
       "      <td>1</td>\n",
       "      <td>0.313975</td>\n",
       "      <td>0.745459</td>\n",
       "      <td>15519.0</td>\n",
       "      <td>3968.0</td>\n",
       "      <td>0.431484</td>\n",
       "    </tr>\n",
       "    <tr>\n",
       "      <th>5651</th>\n",
       "      <td>5186</td>\n",
       "      <td>2532</td>\n",
       "      <td>1</td>\n",
       "      <td>0.399719</td>\n",
       "      <td>0.830513</td>\n",
       "      <td>11555.0</td>\n",
       "      <td>2307.0</td>\n",
       "      <td>0.430794</td>\n",
       "    </tr>\n",
       "    <tr>\n",
       "      <th>6058</th>\n",
       "      <td>4750</td>\n",
       "      <td>765</td>\n",
       "      <td>1</td>\n",
       "      <td>0.197801</td>\n",
       "      <td>0.617503</td>\n",
       "      <td>21326.0</td>\n",
       "      <td>6479.0</td>\n",
       "      <td>0.419702</td>\n",
       "    </tr>\n",
       "    <tr>\n",
       "      <th>11100</th>\n",
       "      <td>765</td>\n",
       "      <td>4750</td>\n",
       "      <td>1</td>\n",
       "      <td>0.197801</td>\n",
       "      <td>0.617503</td>\n",
       "      <td>21326.0</td>\n",
       "      <td>6479.0</td>\n",
       "      <td>0.419702</td>\n",
       "    </tr>\n",
       "    <tr>\n",
       "      <th>7613</th>\n",
       "      <td>4896</td>\n",
       "      <td>5545</td>\n",
       "      <td>1</td>\n",
       "      <td>0.253111</td>\n",
       "      <td>0.668365</td>\n",
       "      <td>18526.0</td>\n",
       "      <td>5446.0</td>\n",
       "      <td>0.415254</td>\n",
       "    </tr>\n",
       "    <tr>\n",
       "      <th>7944</th>\n",
       "      <td>2627</td>\n",
       "      <td>1408</td>\n",
       "      <td>1</td>\n",
       "      <td>0.497938</td>\n",
       "      <td>0.911253</td>\n",
       "      <td>7910.0</td>\n",
       "      <td>893.0</td>\n",
       "      <td>0.413316</td>\n",
       "    </tr>\n",
       "    <tr>\n",
       "      <th>5881</th>\n",
       "      <td>2314</td>\n",
       "      <td>5300</td>\n",
       "      <td>1</td>\n",
       "      <td>0.301755</td>\n",
       "      <td>0.713334</td>\n",
       "      <td>16099.0</td>\n",
       "      <td>4566.0</td>\n",
       "      <td>0.411580</td>\n",
       "    </tr>\n",
       "    <tr>\n",
       "      <th>3286</th>\n",
       "      <td>2103</td>\n",
       "      <td>735</td>\n",
       "      <td>1</td>\n",
       "      <td>0.407924</td>\n",
       "      <td>0.819321</td>\n",
       "      <td>11211.0</td>\n",
       "      <td>2527.0</td>\n",
       "      <td>0.411397</td>\n",
       "    </tr>\n",
       "    <tr>\n",
       "      <th>416</th>\n",
       "      <td>5428</td>\n",
       "      <td>1523</td>\n",
       "      <td>1</td>\n",
       "      <td>0.361755</td>\n",
       "      <td>0.769786</td>\n",
       "      <td>13226.0</td>\n",
       "      <td>3483.0</td>\n",
       "      <td>0.408031</td>\n",
       "    </tr>\n",
       "    <tr>\n",
       "      <th>1502</th>\n",
       "      <td>5296</td>\n",
       "      <td>735</td>\n",
       "      <td>1</td>\n",
       "      <td>0.296018</td>\n",
       "      <td>0.703865</td>\n",
       "      <td>16386.0</td>\n",
       "      <td>4749.0</td>\n",
       "      <td>0.407847</td>\n",
       "    </tr>\n",
       "    <tr>\n",
       "      <th>3184</th>\n",
       "      <td>3314</td>\n",
       "      <td>4953</td>\n",
       "      <td>1</td>\n",
       "      <td>0.466101</td>\n",
       "      <td>0.872978</td>\n",
       "      <td>9018.0</td>\n",
       "      <td>1517.0</td>\n",
       "      <td>0.406876</td>\n",
       "    </tr>\n",
       "    <tr>\n",
       "      <th>8626</th>\n",
       "      <td>3547</td>\n",
       "      <td>735</td>\n",
       "      <td>1</td>\n",
       "      <td>0.430101</td>\n",
       "      <td>0.834513</td>\n",
       "      <td>10324.0</td>\n",
       "      <td>2228.0</td>\n",
       "      <td>0.404412</td>\n",
       "    </tr>\n",
       "    <tr>\n",
       "      <th>11202</th>\n",
       "      <td>5470</td>\n",
       "      <td>735</td>\n",
       "      <td>1</td>\n",
       "      <td>0.524743</td>\n",
       "      <td>0.927855</td>\n",
       "      <td>7048.0</td>\n",
       "      <td>662.0</td>\n",
       "      <td>0.403112</td>\n",
       "    </tr>\n",
       "    <tr>\n",
       "      <th>281</th>\n",
       "      <td>4070</td>\n",
       "      <td>735</td>\n",
       "      <td>1</td>\n",
       "      <td>0.360208</td>\n",
       "      <td>0.759616</td>\n",
       "      <td>13283.0</td>\n",
       "      <td>3686.0</td>\n",
       "      <td>0.399408</td>\n",
       "    </tr>\n",
       "    <tr>\n",
       "      <th>10086</th>\n",
       "      <td>1245</td>\n",
       "      <td>3689</td>\n",
       "      <td>1</td>\n",
       "      <td>0.294940</td>\n",
       "      <td>0.692519</td>\n",
       "      <td>16431.0</td>\n",
       "      <td>4935.0</td>\n",
       "      <td>0.397579</td>\n",
       "    </tr>\n",
       "    <tr>\n",
       "      <th>7311</th>\n",
       "      <td>4627</td>\n",
       "      <td>735</td>\n",
       "      <td>1</td>\n",
       "      <td>0.292426</td>\n",
       "      <td>0.689487</td>\n",
       "      <td>16538.0</td>\n",
       "      <td>5001.0</td>\n",
       "      <td>0.397061</td>\n",
       "    </tr>\n",
       "    <tr>\n",
       "      <th>5272</th>\n",
       "      <td>2314</td>\n",
       "      <td>3442</td>\n",
       "      <td>1</td>\n",
       "      <td>0.278345</td>\n",
       "      <td>0.671340</td>\n",
       "      <td>17264.0</td>\n",
       "      <td>5384.0</td>\n",
       "      <td>0.392995</td>\n",
       "    </tr>\n",
       "    <tr>\n",
       "      <th>12035</th>\n",
       "      <td>4024</td>\n",
       "      <td>1096</td>\n",
       "      <td>1</td>\n",
       "      <td>0.259789</td>\n",
       "      <td>0.651751</td>\n",
       "      <td>18195.0</td>\n",
       "      <td>5774.0</td>\n",
       "      <td>0.391962</td>\n",
       "    </tr>\n",
       "    <tr>\n",
       "      <th>5616</th>\n",
       "      <td>4934</td>\n",
       "      <td>1096</td>\n",
       "      <td>1</td>\n",
       "      <td>0.483006</td>\n",
       "      <td>0.874235</td>\n",
       "      <td>8406.0</td>\n",
       "      <td>1499.0</td>\n",
       "      <td>0.391229</td>\n",
       "    </tr>\n",
       "    <tr>\n",
       "      <th>10483</th>\n",
       "      <td>2820</td>\n",
       "      <td>735</td>\n",
       "      <td>1</td>\n",
       "      <td>0.478013</td>\n",
       "      <td>0.869077</td>\n",
       "      <td>8573.0</td>\n",
       "      <td>1581.0</td>\n",
       "      <td>0.391065</td>\n",
       "    </tr>\n",
       "    <tr>\n",
       "      <th>...</th>\n",
       "      <td>...</td>\n",
       "      <td>...</td>\n",
       "      <td>...</td>\n",
       "      <td>...</td>\n",
       "      <td>...</td>\n",
       "      <td>...</td>\n",
       "      <td>...</td>\n",
       "      <td>...</td>\n",
       "    </tr>\n",
       "    <tr>\n",
       "      <th>12740</th>\n",
       "      <td>1328</td>\n",
       "      <td>4530</td>\n",
       "      <td>1</td>\n",
       "      <td>0.686770</td>\n",
       "      <td>0.687756</td>\n",
       "      <td>2919.0</td>\n",
       "      <td>5043.0</td>\n",
       "      <td>0.000987</td>\n",
       "    </tr>\n",
       "    <tr>\n",
       "      <th>9792</th>\n",
       "      <td>2923</td>\n",
       "      <td>735</td>\n",
       "      <td>1</td>\n",
       "      <td>0.350874</td>\n",
       "      <td>0.351842</td>\n",
       "      <td>13726.0</td>\n",
       "      <td>13466.0</td>\n",
       "      <td>0.000968</td>\n",
       "    </tr>\n",
       "    <tr>\n",
       "      <th>5752</th>\n",
       "      <td>1</td>\n",
       "      <td>179</td>\n",
       "      <td>1</td>\n",
       "      <td>0.245835</td>\n",
       "      <td>0.246800</td>\n",
       "      <td>18904.0</td>\n",
       "      <td>17320.0</td>\n",
       "      <td>0.000966</td>\n",
       "    </tr>\n",
       "    <tr>\n",
       "      <th>12291</th>\n",
       "      <td>281</td>\n",
       "      <td>3816</td>\n",
       "      <td>1</td>\n",
       "      <td>0.548423</td>\n",
       "      <td>0.549327</td>\n",
       "      <td>6328.0</td>\n",
       "      <td>8026.0</td>\n",
       "      <td>0.000904</td>\n",
       "    </tr>\n",
       "    <tr>\n",
       "      <th>3353</th>\n",
       "      <td>1505</td>\n",
       "      <td>179</td>\n",
       "      <td>1</td>\n",
       "      <td>0.631258</td>\n",
       "      <td>0.632123</td>\n",
       "      <td>4095.0</td>\n",
       "      <td>6183.0</td>\n",
       "      <td>0.000865</td>\n",
       "    </tr>\n",
       "    <tr>\n",
       "      <th>976</th>\n",
       "      <td>4483</td>\n",
       "      <td>179</td>\n",
       "      <td>1</td>\n",
       "      <td>0.419185</td>\n",
       "      <td>0.420014</td>\n",
       "      <td>10765.0</td>\n",
       "      <td>11383.0</td>\n",
       "      <td>0.000828</td>\n",
       "    </tr>\n",
       "    <tr>\n",
       "      <th>10117</th>\n",
       "      <td>3772</td>\n",
       "      <td>735</td>\n",
       "      <td>1</td>\n",
       "      <td>0.384942</td>\n",
       "      <td>0.385749</td>\n",
       "      <td>12177.0</td>\n",
       "      <td>12410.0</td>\n",
       "      <td>0.000808</td>\n",
       "    </tr>\n",
       "    <tr>\n",
       "      <th>11306</th>\n",
       "      <td>3473</td>\n",
       "      <td>5249</td>\n",
       "      <td>1</td>\n",
       "      <td>0.953505</td>\n",
       "      <td>0.954286</td>\n",
       "      <td>31.0</td>\n",
       "      <td>329.0</td>\n",
       "      <td>0.000780</td>\n",
       "    </tr>\n",
       "    <tr>\n",
       "      <th>1630</th>\n",
       "      <td>256</td>\n",
       "      <td>735</td>\n",
       "      <td>1</td>\n",
       "      <td>0.621680</td>\n",
       "      <td>0.622429</td>\n",
       "      <td>4329.0</td>\n",
       "      <td>6381.0</td>\n",
       "      <td>0.000749</td>\n",
       "    </tr>\n",
       "    <tr>\n",
       "      <th>6006</th>\n",
       "      <td>5603</td>\n",
       "      <td>179</td>\n",
       "      <td>1</td>\n",
       "      <td>0.753768</td>\n",
       "      <td>0.754488</td>\n",
       "      <td>1737.0</td>\n",
       "      <td>3787.0</td>\n",
       "      <td>0.000720</td>\n",
       "    </tr>\n",
       "    <tr>\n",
       "      <th>7358</th>\n",
       "      <td>3068</td>\n",
       "      <td>305</td>\n",
       "      <td>1</td>\n",
       "      <td>0.378966</td>\n",
       "      <td>0.379673</td>\n",
       "      <td>12452.0</td>\n",
       "      <td>12581.0</td>\n",
       "      <td>0.000707</td>\n",
       "    </tr>\n",
       "    <tr>\n",
       "      <th>619</th>\n",
       "      <td>324</td>\n",
       "      <td>735</td>\n",
       "      <td>1</td>\n",
       "      <td>0.387100</td>\n",
       "      <td>0.387799</td>\n",
       "      <td>12100.0</td>\n",
       "      <td>12350.0</td>\n",
       "      <td>0.000699</td>\n",
       "    </tr>\n",
       "    <tr>\n",
       "      <th>6236</th>\n",
       "      <td>5215</td>\n",
       "      <td>179</td>\n",
       "      <td>1</td>\n",
       "      <td>0.421478</td>\n",
       "      <td>0.422173</td>\n",
       "      <td>10665.0</td>\n",
       "      <td>11318.0</td>\n",
       "      <td>0.000695</td>\n",
       "    </tr>\n",
       "    <tr>\n",
       "      <th>5767</th>\n",
       "      <td>3039</td>\n",
       "      <td>2976</td>\n",
       "      <td>1</td>\n",
       "      <td>0.347156</td>\n",
       "      <td>0.347824</td>\n",
       "      <td>13908.0</td>\n",
       "      <td>13616.0</td>\n",
       "      <td>0.000669</td>\n",
       "    </tr>\n",
       "    <tr>\n",
       "      <th>6774</th>\n",
       "      <td>305</td>\n",
       "      <td>3864</td>\n",
       "      <td>1</td>\n",
       "      <td>0.278209</td>\n",
       "      <td>0.278849</td>\n",
       "      <td>17268.0</td>\n",
       "      <td>16003.0</td>\n",
       "      <td>0.000640</td>\n",
       "    </tr>\n",
       "    <tr>\n",
       "      <th>1166</th>\n",
       "      <td>4740</td>\n",
       "      <td>735</td>\n",
       "      <td>1</td>\n",
       "      <td>0.143004</td>\n",
       "      <td>0.143597</td>\n",
       "      <td>23786.0</td>\n",
       "      <td>22079.0</td>\n",
       "      <td>0.000593</td>\n",
       "    </tr>\n",
       "    <tr>\n",
       "      <th>8191</th>\n",
       "      <td>3251</td>\n",
       "      <td>2873</td>\n",
       "      <td>1</td>\n",
       "      <td>0.422634</td>\n",
       "      <td>0.423222</td>\n",
       "      <td>10610.0</td>\n",
       "      <td>11289.0</td>\n",
       "      <td>0.000588</td>\n",
       "    </tr>\n",
       "    <tr>\n",
       "      <th>8388</th>\n",
       "      <td>3935</td>\n",
       "      <td>735</td>\n",
       "      <td>1</td>\n",
       "      <td>0.365550</td>\n",
       "      <td>0.366134</td>\n",
       "      <td>13042.0</td>\n",
       "      <td>12988.0</td>\n",
       "      <td>0.000583</td>\n",
       "    </tr>\n",
       "    <tr>\n",
       "      <th>10711</th>\n",
       "      <td>3534</td>\n",
       "      <td>4649</td>\n",
       "      <td>1</td>\n",
       "      <td>0.406047</td>\n",
       "      <td>0.406607</td>\n",
       "      <td>11287.0</td>\n",
       "      <td>11792.0</td>\n",
       "      <td>0.000560</td>\n",
       "    </tr>\n",
       "    <tr>\n",
       "      <th>4868</th>\n",
       "      <td>2414</td>\n",
       "      <td>5456</td>\n",
       "      <td>1</td>\n",
       "      <td>0.861401</td>\n",
       "      <td>0.861921</td>\n",
       "      <td>468.0</td>\n",
       "      <td>1730.0</td>\n",
       "      <td>0.000520</td>\n",
       "    </tr>\n",
       "    <tr>\n",
       "      <th>4955</th>\n",
       "      <td>1961</td>\n",
       "      <td>179</td>\n",
       "      <td>1</td>\n",
       "      <td>0.117976</td>\n",
       "      <td>0.118456</td>\n",
       "      <td>24602.0</td>\n",
       "      <td>23250.0</td>\n",
       "      <td>0.000479</td>\n",
       "    </tr>\n",
       "    <tr>\n",
       "      <th>4681</th>\n",
       "      <td>343</td>\n",
       "      <td>735</td>\n",
       "      <td>1</td>\n",
       "      <td>0.104539</td>\n",
       "      <td>0.104939</td>\n",
       "      <td>24938.0</td>\n",
       "      <td>23828.0</td>\n",
       "      <td>0.000399</td>\n",
       "    </tr>\n",
       "    <tr>\n",
       "      <th>11692</th>\n",
       "      <td>1040</td>\n",
       "      <td>2795</td>\n",
       "      <td>1</td>\n",
       "      <td>0.229572</td>\n",
       "      <td>0.229951</td>\n",
       "      <td>19746.0</td>\n",
       "      <td>18029.0</td>\n",
       "      <td>0.000379</td>\n",
       "    </tr>\n",
       "    <tr>\n",
       "      <th>11721</th>\n",
       "      <td>2056</td>\n",
       "      <td>3307</td>\n",
       "      <td>1</td>\n",
       "      <td>0.200774</td>\n",
       "      <td>0.201076</td>\n",
       "      <td>21181.0</td>\n",
       "      <td>19330.0</td>\n",
       "      <td>0.000303</td>\n",
       "    </tr>\n",
       "    <tr>\n",
       "      <th>6908</th>\n",
       "      <td>2604</td>\n",
       "      <td>2873</td>\n",
       "      <td>1</td>\n",
       "      <td>0.261004</td>\n",
       "      <td>0.261256</td>\n",
       "      <td>18150.0</td>\n",
       "      <td>16717.0</td>\n",
       "      <td>0.000251</td>\n",
       "    </tr>\n",
       "    <tr>\n",
       "      <th>10159</th>\n",
       "      <td>2260</td>\n",
       "      <td>164</td>\n",
       "      <td>1</td>\n",
       "      <td>0.315761</td>\n",
       "      <td>0.315989</td>\n",
       "      <td>15434.0</td>\n",
       "      <td>14628.0</td>\n",
       "      <td>0.000228</td>\n",
       "    </tr>\n",
       "    <tr>\n",
       "      <th>1344</th>\n",
       "      <td>1539</td>\n",
       "      <td>3953</td>\n",
       "      <td>1</td>\n",
       "      <td>0.325499</td>\n",
       "      <td>0.325659</td>\n",
       "      <td>14917.0</td>\n",
       "      <td>14288.0</td>\n",
       "      <td>0.000159</td>\n",
       "    </tr>\n",
       "    <tr>\n",
       "      <th>1814</th>\n",
       "      <td>1941</td>\n",
       "      <td>1887</td>\n",
       "      <td>1</td>\n",
       "      <td>0.805770</td>\n",
       "      <td>0.805885</td>\n",
       "      <td>1006.0</td>\n",
       "      <td>2769.0</td>\n",
       "      <td>0.000115</td>\n",
       "    </tr>\n",
       "    <tr>\n",
       "      <th>3984</th>\n",
       "      <td>653</td>\n",
       "      <td>4598</td>\n",
       "      <td>1</td>\n",
       "      <td>0.418767</td>\n",
       "      <td>0.418821</td>\n",
       "      <td>10784.0</td>\n",
       "      <td>11420.0</td>\n",
       "      <td>0.000054</td>\n",
       "    </tr>\n",
       "    <tr>\n",
       "      <th>11027</th>\n",
       "      <td>1331</td>\n",
       "      <td>179</td>\n",
       "      <td>1</td>\n",
       "      <td>0.347790</td>\n",
       "      <td>0.347802</td>\n",
       "      <td>13874.0</td>\n",
       "      <td>13617.0</td>\n",
       "      <td>0.000012</td>\n",
       "    </tr>\n",
       "  </tbody>\n",
       "</table>\n",
       "<p>8120 rows × 8 columns</p>\n",
       "</div>"
      ],
      "text/plain": [
       "          0     1  2  structure       all  structure_rank  all_rank      diff\n",
       "1043   2615  1799  1   0.310224  0.858648         15685.0    1796.0  0.548424\n",
       "11542  3630  5545  1   0.257449  0.754420         18306.0    3790.0  0.496972\n",
       "9045   1000  5444  1   0.254082  0.718622         18474.0    4467.0  0.464540\n",
       "2800   1958   735  1   0.349644  0.808827         13784.0    2715.0  0.459183\n",
       "1948   5205   735  1   0.315456  0.773419         15453.0    3397.0  0.457963\n",
       "796    1227  4533  1   0.375480  0.817411         12599.0    2562.0  0.441931\n",
       "6385    878   735  1   0.440086  0.877601          9960.0    1450.0  0.437515\n",
       "1748   4012  4291  1   0.391820  0.826919         11897.0    2375.0  0.435099\n",
       "12495  1092   735  1   0.421663  0.855643         10657.0    1836.0  0.433980\n",
       "3091   4825   735  1   0.453174  0.885383          9481.0    1298.0  0.432209\n",
       "9132   3050   735  1   0.313975  0.745459         15519.0    3968.0  0.431484\n",
       "5651   5186  2532  1   0.399719  0.830513         11555.0    2307.0  0.430794\n",
       "6058   4750   765  1   0.197801  0.617503         21326.0    6479.0  0.419702\n",
       "11100   765  4750  1   0.197801  0.617503         21326.0    6479.0  0.419702\n",
       "7613   4896  5545  1   0.253111  0.668365         18526.0    5446.0  0.415254\n",
       "7944   2627  1408  1   0.497938  0.911253          7910.0     893.0  0.413316\n",
       "5881   2314  5300  1   0.301755  0.713334         16099.0    4566.0  0.411580\n",
       "3286   2103   735  1   0.407924  0.819321         11211.0    2527.0  0.411397\n",
       "416    5428  1523  1   0.361755  0.769786         13226.0    3483.0  0.408031\n",
       "1502   5296   735  1   0.296018  0.703865         16386.0    4749.0  0.407847\n",
       "3184   3314  4953  1   0.466101  0.872978          9018.0    1517.0  0.406876\n",
       "8626   3547   735  1   0.430101  0.834513         10324.0    2228.0  0.404412\n",
       "11202  5470   735  1   0.524743  0.927855          7048.0     662.0  0.403112\n",
       "281    4070   735  1   0.360208  0.759616         13283.0    3686.0  0.399408\n",
       "10086  1245  3689  1   0.294940  0.692519         16431.0    4935.0  0.397579\n",
       "7311   4627   735  1   0.292426  0.689487         16538.0    5001.0  0.397061\n",
       "5272   2314  3442  1   0.278345  0.671340         17264.0    5384.0  0.392995\n",
       "12035  4024  1096  1   0.259789  0.651751         18195.0    5774.0  0.391962\n",
       "5616   4934  1096  1   0.483006  0.874235          8406.0    1499.0  0.391229\n",
       "10483  2820   735  1   0.478013  0.869077          8573.0    1581.0  0.391065\n",
       "...     ...   ... ..        ...       ...             ...       ...       ...\n",
       "12740  1328  4530  1   0.686770  0.687756          2919.0    5043.0  0.000987\n",
       "9792   2923   735  1   0.350874  0.351842         13726.0   13466.0  0.000968\n",
       "5752      1   179  1   0.245835  0.246800         18904.0   17320.0  0.000966\n",
       "12291   281  3816  1   0.548423  0.549327          6328.0    8026.0  0.000904\n",
       "3353   1505   179  1   0.631258  0.632123          4095.0    6183.0  0.000865\n",
       "976    4483   179  1   0.419185  0.420014         10765.0   11383.0  0.000828\n",
       "10117  3772   735  1   0.384942  0.385749         12177.0   12410.0  0.000808\n",
       "11306  3473  5249  1   0.953505  0.954286            31.0     329.0  0.000780\n",
       "1630    256   735  1   0.621680  0.622429          4329.0    6381.0  0.000749\n",
       "6006   5603   179  1   0.753768  0.754488          1737.0    3787.0  0.000720\n",
       "7358   3068   305  1   0.378966  0.379673         12452.0   12581.0  0.000707\n",
       "619     324   735  1   0.387100  0.387799         12100.0   12350.0  0.000699\n",
       "6236   5215   179  1   0.421478  0.422173         10665.0   11318.0  0.000695\n",
       "5767   3039  2976  1   0.347156  0.347824         13908.0   13616.0  0.000669\n",
       "6774    305  3864  1   0.278209  0.278849         17268.0   16003.0  0.000640\n",
       "1166   4740   735  1   0.143004  0.143597         23786.0   22079.0  0.000593\n",
       "8191   3251  2873  1   0.422634  0.423222         10610.0   11289.0  0.000588\n",
       "8388   3935   735  1   0.365550  0.366134         13042.0   12988.0  0.000583\n",
       "10711  3534  4649  1   0.406047  0.406607         11287.0   11792.0  0.000560\n",
       "4868   2414  5456  1   0.861401  0.861921           468.0    1730.0  0.000520\n",
       "4955   1961   179  1   0.117976  0.118456         24602.0   23250.0  0.000479\n",
       "4681    343   735  1   0.104539  0.104939         24938.0   23828.0  0.000399\n",
       "11692  1040  2795  1   0.229572  0.229951         19746.0   18029.0  0.000379\n",
       "11721  2056  3307  1   0.200774  0.201076         21181.0   19330.0  0.000303\n",
       "6908   2604  2873  1   0.261004  0.261256         18150.0   16717.0  0.000251\n",
       "10159  2260   164  1   0.315761  0.315989         15434.0   14628.0  0.000228\n",
       "1344   1539  3953  1   0.325499  0.325659         14917.0   14288.0  0.000159\n",
       "1814   1941  1887  1   0.805770  0.805885          1006.0    2769.0  0.000115\n",
       "3984    653  4598  1   0.418767  0.418821         10784.0   11420.0  0.000054\n",
       "11027  1331   179  1   0.347790  0.347802         13874.0   13617.0  0.000012\n",
       "\n",
       "[8120 rows x 8 columns]"
      ]
     },
     "execution_count": 49,
     "metadata": {},
     "output_type": "execute_result"
    }
   ],
   "source": [
    "improved_predictions.sort_values(['diff'], ascending=0)"
   ]
  },
  {
   "cell_type": "code",
   "execution_count": null,
   "metadata": {
    "collapsed": true
   },
   "outputs": [],
   "source": []
  },
  {
   "cell_type": "code",
   "execution_count": 51,
   "metadata": {
    "collapsed": true
   },
   "outputs": [],
   "source": [
    "improved_predictions.to_csv(\"../Gene-Network-Embedding/data/yeast/improved_predictions_latest.txt\", index=False, header=False, sep=\",\")"
   ]
  },
  {
   "cell_type": "code",
   "execution_count": 65,
   "metadata": {
    "collapsed": true
   },
   "outputs": [],
   "source": [
    "from matplotlib import rcParams\n",
    "rcParams['font.family'] = 'sans-serif'\n",
    "rcParams['font.sans-serif'] = ['Tahoma']\n",
    "import matplotlib.pyplot as plt"
   ]
  },
  {
   "cell_type": "code",
   "execution_count": 66,
   "metadata": {},
   "outputs": [
    {
     "data": {
      "image/png": "[encoded data removed]",
      "text/plain": [
       "<matplotlib.figure.Figure at 0x14c071828>"
      ]
     },
     "metadata": {},
     "output_type": "display_data"
    }
   ],
   "source": [
    "from sklearn.metrics import precision_recall_curve\n",
    "import matplotlib.pyplot as plt\n",
    "fig = plt.figure()\n",
    "ax = fig.add_subplot(111)\n",
    "ax.set_xlabel(r\"Recall\", fontsize=18)\n",
    "# ax.axhline(y=0.839)\n",
    "ax.set_ylabel(\"Precision\", fontsize=18)\n",
    "ax.yaxis.set_ticks_position('left')\n",
    "ax.xaxis.set_ticks_position('bottom')\n",
    "\n",
    "precision, recall, thresholds = precision_recall_curve(test_edge_labels, test_preds)\n",
    "\n",
    "ax.plot(recall, precision, color='b', alpha=1, label =\"Precision-Recall curve: area={0:0.2f}\".format(test_ap))\n",
    "ax.legend(fontsize='x-large')\n",
    "plt.ylim([0.0, 1.05])\n",
    "plt.xlim([0.0, 1.0])\n",
    "plt.savefig('yeast_pr_curve.eps', dpi =1200)\n",
    "plt.show()"
   ]
  },
  {
   "cell_type": "code",
   "execution_count": null,
   "metadata": {},
   "outputs": [],
   "source": [
    "thresholds"
   ]
  },
  {
   "cell_type": "code",
   "execution_count": null,
   "metadata": {
    "collapsed": true
   },
   "outputs": [],
   "source": [
    "import scikitplot as skplt"
   ]
  },
  {
   "cell_type": "code",
   "execution_count": null,
   "metadata": {},
   "outputs": [],
   "source": [
    "skplt.metrics.plot_precision_recall_curve(test_labels, edge_classifier.predict_proba(test_data))"
   ]
  },
  {
   "cell_type": "code",
   "execution_count": null,
   "metadata": {},
   "outputs": [],
   "source": []
  },
  {
   "cell_type": "code",
   "execution_count": null,
   "metadata": {},
   "outputs": [],
   "source": []
  },
  {
   "cell_type": "code",
   "execution_count": null,
   "metadata": {},
   "outputs": [],
   "source": [
    "test_preds"
   ]
  },
  {
   "cell_type": "code",
   "execution_count": null,
   "metadata": {},
   "outputs": [],
   "source": [
    "test_labels"
   ]
  },
  {
   "cell_type": "code",
   "execution_count": null,
   "metadata": {
    "collapsed": true
   },
   "outputs": [],
   "source": [
    "df = pd.DataFrame(test_edges.astype(int))"
   ]
  },
  {
   "cell_type": "code",
   "execution_count": null,
   "metadata": {},
   "outputs": [],
   "source": [
    "df"
   ]
  },
  {
   "cell_type": "code",
   "execution_count": null,
   "metadata": {
    "collapsed": true
   },
   "outputs": [],
   "source": [
    "df['predicted'] = test_preds"
   ]
  },
  {
   "cell_type": "code",
   "execution_count": null,
   "metadata": {
    "collapsed": true
   },
   "outputs": [],
   "source": [
    "df = df.sort_values(['predicted'], ascending=False)"
   ]
  },
  {
   "cell_type": "code",
   "execution_count": null,
   "metadata": {
    "collapsed": true
   },
   "outputs": [],
   "source": [
    "df.to_csv(\"../Gene-Network-Embedding/data/yeast/predictions.txt\", index=False, header=False, sep=\",\")"
   ]
  },
  {
   "cell_type": "code",
   "execution_count": null,
   "metadata": {
    "collapsed": true
   },
   "outputs": [],
   "source": [
    "test_roc = roc_auc_score(df.iloc[:,2], df.iloc[:,3])\n",
    "test_ap = average_precision_score(df.iloc[:,2], df.iloc[:,3])"
   ]
  },
  {
   "cell_type": "code",
   "execution_count": null,
   "metadata": {},
   "outputs": [],
   "source": [
    "print('GNE Test ROC score: ', str(test_roc))\n",
    "print('GNE Test AP score: ', str(test_ap))"
   ]
  }
 ],
 "metadata": {
  "kernelspec": {
   "display_name": "Python 3",
   "language": "python",
   "name": "python3"
  },
  "language_info": {
   "codemirror_mode": {
    "name": "ipython",
    "version": 3
   },
   "file_extension": ".py",
   "mimetype": "text/x-python",
   "name": "python",
   "nbconvert_exporter": "python",
   "pygments_lexer": "ipython3",
   "version": "3.6.3"
  }
 },
 "nbformat": 4,
 "nbformat_minor": 2
}
