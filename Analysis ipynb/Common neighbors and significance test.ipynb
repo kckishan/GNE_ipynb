{
 "cells": [
  {
   "cell_type": "code",
   "execution_count": 71,
   "metadata": {},
   "outputs": [],
   "source": [
    "import pandas as pd\n",
    "import numpy as np\n",
    "import matplotlib.pyplot as plt\n",
    "from matplotlib import rc"
   ]
  },
  {
   "cell_type": "code",
   "execution_count": 119,
   "metadata": {},
   "outputs": [],
   "source": [
    "organism = \"ecoli\""
   ]
  },
  {
   "cell_type": "code",
   "execution_count": 123,
   "metadata": {},
   "outputs": [],
   "source": [
    "from utils import *"
   ]
  },
  {
   "cell_type": "code",
   "execution_count": 124,
   "metadata": {},
   "outputs": [],
   "source": [
    "edges=pd.read_csv(\"data/\"+organism+\"/edgelist_biogrid_name.csv\", sep=\",\", header=None)"
   ]
  },
  {
   "cell_type": "code",
   "execution_count": 126,
   "metadata": {},
   "outputs": [],
   "source": [
    "edges = edges.drop_duplicates()"
   ]
  },
  {
   "cell_type": "code",
   "execution_count": 127,
   "metadata": {},
   "outputs": [
    {
     "data": {
      "text/html": [
       "<div>\n",
       "<style>\n",
       "    .dataframe thead tr:only-child th {\n",
       "        text-align: right;\n",
       "    }\n",
       "\n",
       "    .dataframe thead th {\n",
       "        text-align: left;\n",
       "    }\n",
       "\n",
       "    .dataframe tbody tr th {\n",
       "        vertical-align: top;\n",
       "    }\n",
       "</style>\n",
       "<table border=\"1\" class=\"dataframe\">\n",
       "  <thead>\n",
       "    <tr style=\"text-align: right;\">\n",
       "      <th></th>\n",
       "      <th>0</th>\n",
       "      <th>1</th>\n",
       "    </tr>\n",
       "  </thead>\n",
       "  <tbody>\n",
       "    <tr>\n",
       "      <th>0</th>\n",
       "      <td>minC</td>\n",
       "      <td>minC</td>\n",
       "    </tr>\n",
       "    <tr>\n",
       "      <th>1</th>\n",
       "      <td>ffh</td>\n",
       "      <td>ftsY</td>\n",
       "    </tr>\n",
       "    <tr>\n",
       "      <th>2</th>\n",
       "      <td>yfbW</td>\n",
       "      <td>sgrS</td>\n",
       "    </tr>\n",
       "    <tr>\n",
       "      <th>3</th>\n",
       "      <td>yeiW</td>\n",
       "      <td>sgrS</td>\n",
       "    </tr>\n",
       "    <tr>\n",
       "      <th>4</th>\n",
       "      <td>ecnA</td>\n",
       "      <td>sgrS</td>\n",
       "    </tr>\n",
       "  </tbody>\n",
       "</table>\n",
       "</div>"
      ],
      "text/plain": [
       "      0     1\n",
       "0  minC  minC\n",
       "1   ffh  ftsY\n",
       "2  yfbW  sgrS\n",
       "3  yeiW  sgrS\n",
       "4  ecnA  sgrS"
      ]
     },
     "execution_count": 127,
     "metadata": {},
     "output_type": "execute_result"
    }
   ],
   "source": [
    "edges.head()"
   ]
  },
  {
   "cell_type": "code",
   "execution_count": 128,
   "metadata": {},
   "outputs": [],
   "source": [
    "def updateGeneIDs(gene_ID_file):\n",
    "    df = pd.read_csv(gene_ID_file, sep=\"\\t\", header=None, skiprows=1)\n",
    "    # Load gold standard relation file\n",
    "    df.iloc[:,0] = df.iloc[:,0].apply(lambda x: x.replace('g', '').replace('G', '')).astype(int)\n",
    "    df.iloc[:,0] = df.iloc[:,0].apply(lambda x: int(x) - 1)\n",
    "    return df"
   ]
  },
  {
   "cell_type": "code",
   "execution_count": 129,
   "metadata": {},
   "outputs": [],
   "source": [
    "gene_ids=updateGeneIDs(\"data/\"+organism+\"/gene_ids.tsv\")"
   ]
  },
  {
   "cell_type": "code",
   "execution_count": 130,
   "metadata": {},
   "outputs": [],
   "source": [
    "gene_ids.columns = ['id','gene']"
   ]
  },
  {
   "cell_type": "code",
   "execution_count": 131,
   "metadata": {},
   "outputs": [],
   "source": [
    "def geneName_to_id(edgelist, gene_ids):\n",
    "    gene_ids.columns = ['id','gene']\n",
    "    merged_1 = pd.merge(edgelist, gene_ids, left_on=0, right_on=\"gene\")\n",
    "    merged = pd.merge(merged_1, gene_ids, left_on=1, right_on=\"gene\")\n",
    "    merged = merged.iloc[:,[2,4]]\n",
    "    return merged"
   ]
  },
  {
   "cell_type": "code",
   "execution_count": 132,
   "metadata": {},
   "outputs": [],
   "source": [
    "def getGeneName(gene_ids=gene_ids, index=0):\n",
    "    return gene_ids.loc[index,'gene']"
   ]
  },
  {
   "cell_type": "code",
   "execution_count": 133,
   "metadata": {},
   "outputs": [],
   "source": [
    "def getGeneID(df=gene_ids, geneName=\"\"):\n",
    "    return int(df.loc[df.gene==geneName,'id'])"
   ]
  },
  {
   "cell_type": "code",
   "execution_count": 134,
   "metadata": {},
   "outputs": [],
   "source": [
    "merged = geneName_to_id(edges, gene_ids)"
   ]
  },
  {
   "cell_type": "code",
   "execution_count": null,
   "metadata": {},
   "outputs": [],
   "source": []
  },
  {
   "cell_type": "code",
   "execution_count": 135,
   "metadata": {},
   "outputs": [],
   "source": [
    "G = nx.from_edgelist(merged.values)"
   ]
  },
  {
   "cell_type": "code",
   "execution_count": 136,
   "metadata": {},
   "outputs": [],
   "source": [
    "fp = pd.read_csv(\"data/\"+organism+\"/\"+organism+\"_prediction_false_positives.txt\", sep=\"\\t\", skiprows=1, header=None)"
   ]
  },
  {
   "cell_type": "code",
   "execution_count": 137,
   "metadata": {},
   "outputs": [],
   "source": [
    "fp['common_neighbors'] = 0\n",
    "fp['A_neighbors'] = 0\n",
    "fp['B_neighbors'] = 0"
   ]
  },
  {
   "cell_type": "code",
   "execution_count": 138,
   "metadata": {},
   "outputs": [],
   "source": [
    "for i in range(fp.shape[0]):\n",
    "    u = getGeneID(gene_ids, fp.iloc[i,0])\n",
    "    v = getGeneID(gene_ids, fp.iloc[i,1])\n",
    "    if u in G.nodes() and v in G.nodes():\n",
    "        fp.loc[i, 'common_neighbors'] = len(list(nx.common_neighbors(G, u, v)))\n",
    "        fp.loc[i, 'A_neighbors'] = len(list(G.neighbors(u)))\n",
    "        fp.loc[i, 'B_neighbors'] = len(list(G.neighbors(v)))"
   ]
  },
  {
   "cell_type": "code",
   "execution_count": 139,
   "metadata": {},
   "outputs": [
    {
     "data": {
      "text/html": [
       "<div>\n",
       "<style>\n",
       "    .dataframe thead tr:only-child th {\n",
       "        text-align: right;\n",
       "    }\n",
       "\n",
       "    .dataframe thead th {\n",
       "        text-align: left;\n",
       "    }\n",
       "\n",
       "    .dataframe tbody tr th {\n",
       "        vertical-align: top;\n",
       "    }\n",
       "</style>\n",
       "<table border=\"1\" class=\"dataframe\">\n",
       "  <thead>\n",
       "    <tr style=\"text-align: right;\">\n",
       "      <th></th>\n",
       "      <th>0</th>\n",
       "      <th>1</th>\n",
       "      <th>2</th>\n",
       "      <th>common_neighbors</th>\n",
       "      <th>A_neighbors</th>\n",
       "      <th>B_neighbors</th>\n",
       "    </tr>\n",
       "  </thead>\n",
       "  <tbody>\n",
       "    <tr>\n",
       "      <th>0</th>\n",
       "      <td>gspD</td>\n",
       "      <td>fimD</td>\n",
       "      <td>0.999829</td>\n",
       "      <td>58</td>\n",
       "      <td>253</td>\n",
       "      <td>176</td>\n",
       "    </tr>\n",
       "    <tr>\n",
       "      <th>1</th>\n",
       "      <td>yhcB</td>\n",
       "      <td>fecE</td>\n",
       "      <td>0.999460</td>\n",
       "      <td>142</td>\n",
       "      <td>467</td>\n",
       "      <td>237</td>\n",
       "    </tr>\n",
       "    <tr>\n",
       "      <th>2</th>\n",
       "      <td>ubiF</td>\n",
       "      <td>mltB</td>\n",
       "      <td>0.999434</td>\n",
       "      <td>91</td>\n",
       "      <td>280</td>\n",
       "      <td>335</td>\n",
       "    </tr>\n",
       "    <tr>\n",
       "      <th>3</th>\n",
       "      <td>rpmA</td>\n",
       "      <td>ackA</td>\n",
       "      <td>0.999353</td>\n",
       "      <td>107</td>\n",
       "      <td>207</td>\n",
       "      <td>427</td>\n",
       "    </tr>\n",
       "    <tr>\n",
       "      <th>4</th>\n",
       "      <td>ubiE</td>\n",
       "      <td>secG</td>\n",
       "      <td>0.999194</td>\n",
       "      <td>191</td>\n",
       "      <td>486</td>\n",
       "      <td>318</td>\n",
       "    </tr>\n",
       "  </tbody>\n",
       "</table>\n",
       "</div>"
      ],
      "text/plain": [
       "      0     1         2  common_neighbors  A_neighbors  B_neighbors\n",
       "0  gspD  fimD  0.999829                58          253          176\n",
       "1  yhcB  fecE  0.999460               142          467          237\n",
       "2  ubiF  mltB  0.999434                91          280          335\n",
       "3  rpmA  ackA  0.999353               107          207          427\n",
       "4  ubiE  secG  0.999194               191          486          318"
      ]
     },
     "execution_count": 139,
     "metadata": {},
     "output_type": "execute_result"
    }
   ],
   "source": [
    "fp.head()"
   ]
  },
  {
   "cell_type": "code",
   "execution_count": 140,
   "metadata": {},
   "outputs": [],
   "source": [
    "fp_sorted = fp.sort_values(by=2, ascending=False)"
   ]
  },
  {
   "cell_type": "code",
   "execution_count": 141,
   "metadata": {},
   "outputs": [],
   "source": [
    "fp_sorted.columns = ['Gene A', 'Gene B', 'Probability', 'Common neighbors', 'Num of neighbors A',  'Num of neighbors B']"
   ]
  },
  {
   "cell_type": "code",
   "execution_count": 142,
   "metadata": {},
   "outputs": [],
   "source": [
    "fp_sorted['Probability'] = fp_sorted['Probability'].apply(lambda x: round(x, 5))"
   ]
  },
  {
   "cell_type": "code",
   "execution_count": 143,
   "metadata": {},
   "outputs": [],
   "source": [
    "fp_sorted.to_csv(organism+\"_common_neighbors for false positives.txt\", header=True, index=False, sep='\\t')"
   ]
  },
  {
   "cell_type": "code",
   "execution_count": 144,
   "metadata": {},
   "outputs": [
    {
     "data": {
      "text/html": [
       "<div>\n",
       "<style>\n",
       "    .dataframe thead tr:only-child th {\n",
       "        text-align: right;\n",
       "    }\n",
       "\n",
       "    .dataframe thead th {\n",
       "        text-align: left;\n",
       "    }\n",
       "\n",
       "    .dataframe tbody tr th {\n",
       "        vertical-align: top;\n",
       "    }\n",
       "</style>\n",
       "<table border=\"1\" class=\"dataframe\">\n",
       "  <thead>\n",
       "    <tr style=\"text-align: right;\">\n",
       "      <th></th>\n",
       "      <th>Gene A</th>\n",
       "      <th>Gene B</th>\n",
       "      <th>Probability</th>\n",
       "      <th>Common neighbors</th>\n",
       "      <th>Num of neighbors A</th>\n",
       "      <th>Num of neighbors B</th>\n",
       "    </tr>\n",
       "  </thead>\n",
       "  <tbody>\n",
       "    <tr>\n",
       "      <th>22</th>\n",
       "      <td>damX</td>\n",
       "      <td>fliL</td>\n",
       "      <td>0.99765</td>\n",
       "      <td>320</td>\n",
       "      <td>565</td>\n",
       "      <td>510</td>\n",
       "    </tr>\n",
       "    <tr>\n",
       "      <th>104</th>\n",
       "      <td>acpP</td>\n",
       "      <td>yhjD</td>\n",
       "      <td>0.98784</td>\n",
       "      <td>272</td>\n",
       "      <td>450</td>\n",
       "      <td>556</td>\n",
       "    </tr>\n",
       "    <tr>\n",
       "      <th>16</th>\n",
       "      <td>ybeX</td>\n",
       "      <td>cydA</td>\n",
       "      <td>0.99824</td>\n",
       "      <td>248</td>\n",
       "      <td>511</td>\n",
       "      <td>323</td>\n",
       "    </tr>\n",
       "    <tr>\n",
       "      <th>4</th>\n",
       "      <td>ubiE</td>\n",
       "      <td>secG</td>\n",
       "      <td>0.99919</td>\n",
       "      <td>191</td>\n",
       "      <td>486</td>\n",
       "      <td>318</td>\n",
       "    </tr>\n",
       "    <tr>\n",
       "      <th>85</th>\n",
       "      <td>bcsB</td>\n",
       "      <td>fliL</td>\n",
       "      <td>0.99146</td>\n",
       "      <td>175</td>\n",
       "      <td>260</td>\n",
       "      <td>510</td>\n",
       "    </tr>\n",
       "    <tr>\n",
       "      <th>12</th>\n",
       "      <td>iscS</td>\n",
       "      <td>fabD</td>\n",
       "      <td>0.99875</td>\n",
       "      <td>174</td>\n",
       "      <td>533</td>\n",
       "      <td>306</td>\n",
       "    </tr>\n",
       "    <tr>\n",
       "      <th>32</th>\n",
       "      <td>gspK</td>\n",
       "      <td>sapF</td>\n",
       "      <td>0.99659</td>\n",
       "      <td>161</td>\n",
       "      <td>325</td>\n",
       "      <td>386</td>\n",
       "    </tr>\n",
       "    <tr>\n",
       "      <th>17</th>\n",
       "      <td>pta</td>\n",
       "      <td>nanA</td>\n",
       "      <td>0.99798</td>\n",
       "      <td>155</td>\n",
       "      <td>325</td>\n",
       "      <td>327</td>\n",
       "    </tr>\n",
       "    <tr>\n",
       "      <th>119</th>\n",
       "      <td>mscL</td>\n",
       "      <td>ldcA</td>\n",
       "      <td>0.98510</td>\n",
       "      <td>154</td>\n",
       "      <td>355</td>\n",
       "      <td>306</td>\n",
       "    </tr>\n",
       "    <tr>\n",
       "      <th>39</th>\n",
       "      <td>ubiE</td>\n",
       "      <td>btuB</td>\n",
       "      <td>0.99593</td>\n",
       "      <td>148</td>\n",
       "      <td>486</td>\n",
       "      <td>235</td>\n",
       "    </tr>\n",
       "    <tr>\n",
       "      <th>60</th>\n",
       "      <td>oppC</td>\n",
       "      <td>mrdA</td>\n",
       "      <td>0.99335</td>\n",
       "      <td>148</td>\n",
       "      <td>386</td>\n",
       "      <td>472</td>\n",
       "    </tr>\n",
       "    <tr>\n",
       "      <th>65</th>\n",
       "      <td>dipZ</td>\n",
       "      <td>tatC</td>\n",
       "      <td>0.99316</td>\n",
       "      <td>144</td>\n",
       "      <td>949</td>\n",
       "      <td>399</td>\n",
       "    </tr>\n",
       "    <tr>\n",
       "      <th>75</th>\n",
       "      <td>cld</td>\n",
       "      <td>tolC</td>\n",
       "      <td>0.99229</td>\n",
       "      <td>143</td>\n",
       "      <td>309</td>\n",
       "      <td>357</td>\n",
       "    </tr>\n",
       "    <tr>\n",
       "      <th>204</th>\n",
       "      <td>cydA</td>\n",
       "      <td>yebA</td>\n",
       "      <td>0.96494</td>\n",
       "      <td>143</td>\n",
       "      <td>323</td>\n",
       "      <td>365</td>\n",
       "    </tr>\n",
       "    <tr>\n",
       "      <th>116</th>\n",
       "      <td>galT</td>\n",
       "      <td>cls</td>\n",
       "      <td>0.98579</td>\n",
       "      <td>142</td>\n",
       "      <td>370</td>\n",
       "      <td>267</td>\n",
       "    </tr>\n",
       "    <tr>\n",
       "      <th>1</th>\n",
       "      <td>yhcB</td>\n",
       "      <td>fecE</td>\n",
       "      <td>0.99946</td>\n",
       "      <td>142</td>\n",
       "      <td>467</td>\n",
       "      <td>237</td>\n",
       "    </tr>\n",
       "    <tr>\n",
       "      <th>74</th>\n",
       "      <td>cydB</td>\n",
       "      <td>gspK</td>\n",
       "      <td>0.99252</td>\n",
       "      <td>142</td>\n",
       "      <td>374</td>\n",
       "      <td>325</td>\n",
       "    </tr>\n",
       "    <tr>\n",
       "      <th>52</th>\n",
       "      <td>dppF</td>\n",
       "      <td>macA</td>\n",
       "      <td>0.99435</td>\n",
       "      <td>139</td>\n",
       "      <td>312</td>\n",
       "      <td>333</td>\n",
       "    </tr>\n",
       "    <tr>\n",
       "      <th>243</th>\n",
       "      <td>panE</td>\n",
       "      <td>murC</td>\n",
       "      <td>0.95336</td>\n",
       "      <td>139</td>\n",
       "      <td>307</td>\n",
       "      <td>440</td>\n",
       "    </tr>\n",
       "    <tr>\n",
       "      <th>81</th>\n",
       "      <td>ubiH</td>\n",
       "      <td>folE</td>\n",
       "      <td>0.99189</td>\n",
       "      <td>135</td>\n",
       "      <td>348</td>\n",
       "      <td>279</td>\n",
       "    </tr>\n",
       "    <tr>\n",
       "      <th>111</th>\n",
       "      <td>ftsE</td>\n",
       "      <td>oppB</td>\n",
       "      <td>0.98641</td>\n",
       "      <td>133</td>\n",
       "      <td>359</td>\n",
       "      <td>234</td>\n",
       "    </tr>\n",
       "    <tr>\n",
       "      <th>118</th>\n",
       "      <td>osmC</td>\n",
       "      <td>acrD</td>\n",
       "      <td>0.98556</td>\n",
       "      <td>130</td>\n",
       "      <td>215</td>\n",
       "      <td>459</td>\n",
       "    </tr>\n",
       "    <tr>\n",
       "      <th>201</th>\n",
       "      <td>cedA</td>\n",
       "      <td>ispH</td>\n",
       "      <td>0.96590</td>\n",
       "      <td>129</td>\n",
       "      <td>379</td>\n",
       "      <td>309</td>\n",
       "    </tr>\n",
       "    <tr>\n",
       "      <th>209</th>\n",
       "      <td>rfaY</td>\n",
       "      <td>yfdV</td>\n",
       "      <td>0.96382</td>\n",
       "      <td>128</td>\n",
       "      <td>305</td>\n",
       "      <td>191</td>\n",
       "    </tr>\n",
       "    <tr>\n",
       "      <th>44</th>\n",
       "      <td>mltB</td>\n",
       "      <td>ompN</td>\n",
       "      <td>0.99547</td>\n",
       "      <td>127</td>\n",
       "      <td>335</td>\n",
       "      <td>263</td>\n",
       "    </tr>\n",
       "    <tr>\n",
       "      <th>511</th>\n",
       "      <td>ytfN</td>\n",
       "      <td>frdA</td>\n",
       "      <td>0.77214</td>\n",
       "      <td>123</td>\n",
       "      <td>296</td>\n",
       "      <td>152</td>\n",
       "    </tr>\n",
       "    <tr>\n",
       "      <th>6</th>\n",
       "      <td>ycfL</td>\n",
       "      <td>sapF</td>\n",
       "      <td>0.99903</td>\n",
       "      <td>123</td>\n",
       "      <td>264</td>\n",
       "      <td>386</td>\n",
       "    </tr>\n",
       "    <tr>\n",
       "      <th>77</th>\n",
       "      <td>wza</td>\n",
       "      <td>agaS</td>\n",
       "      <td>0.99214</td>\n",
       "      <td>122</td>\n",
       "      <td>221</td>\n",
       "      <td>730</td>\n",
       "    </tr>\n",
       "    <tr>\n",
       "      <th>53</th>\n",
       "      <td>wbbK</td>\n",
       "      <td>fabZ</td>\n",
       "      <td>0.99429</td>\n",
       "      <td>121</td>\n",
       "      <td>316</td>\n",
       "      <td>389</td>\n",
       "    </tr>\n",
       "    <tr>\n",
       "      <th>182</th>\n",
       "      <td>mdtI</td>\n",
       "      <td>recC</td>\n",
       "      <td>0.96989</td>\n",
       "      <td>121</td>\n",
       "      <td>464</td>\n",
       "      <td>336</td>\n",
       "    </tr>\n",
       "    <tr>\n",
       "      <th>...</th>\n",
       "      <td>...</td>\n",
       "      <td>...</td>\n",
       "      <td>...</td>\n",
       "      <td>...</td>\n",
       "      <td>...</td>\n",
       "      <td>...</td>\n",
       "    </tr>\n",
       "    <tr>\n",
       "      <th>763</th>\n",
       "      <td>ygiT</td>\n",
       "      <td>hyfH</td>\n",
       "      <td>0.57578</td>\n",
       "      <td>1</td>\n",
       "      <td>142</td>\n",
       "      <td>15</td>\n",
       "    </tr>\n",
       "    <tr>\n",
       "      <th>713</th>\n",
       "      <td>nrdB</td>\n",
       "      <td>nuoA</td>\n",
       "      <td>0.61038</td>\n",
       "      <td>1</td>\n",
       "      <td>49</td>\n",
       "      <td>19</td>\n",
       "    </tr>\n",
       "    <tr>\n",
       "      <th>807</th>\n",
       "      <td>ydiA</td>\n",
       "      <td>fruA</td>\n",
       "      <td>0.54405</td>\n",
       "      <td>1</td>\n",
       "      <td>12</td>\n",
       "      <td>12</td>\n",
       "    </tr>\n",
       "    <tr>\n",
       "      <th>549</th>\n",
       "      <td>yhhW</td>\n",
       "      <td>proP</td>\n",
       "      <td>0.73404</td>\n",
       "      <td>0</td>\n",
       "      <td>16</td>\n",
       "      <td>4</td>\n",
       "    </tr>\n",
       "    <tr>\n",
       "      <th>858</th>\n",
       "      <td>ypjA</td>\n",
       "      <td>yidG</td>\n",
       "      <td>0.50854</td>\n",
       "      <td>0</td>\n",
       "      <td>227</td>\n",
       "      <td>9</td>\n",
       "    </tr>\n",
       "    <tr>\n",
       "      <th>647</th>\n",
       "      <td>ddpX</td>\n",
       "      <td>decoy132</td>\n",
       "      <td>0.65999</td>\n",
       "      <td>0</td>\n",
       "      <td>0</td>\n",
       "      <td>0</td>\n",
       "    </tr>\n",
       "    <tr>\n",
       "      <th>632</th>\n",
       "      <td>cpdA</td>\n",
       "      <td>prfA</td>\n",
       "      <td>0.67333</td>\n",
       "      <td>0</td>\n",
       "      <td>6</td>\n",
       "      <td>33</td>\n",
       "    </tr>\n",
       "    <tr>\n",
       "      <th>751</th>\n",
       "      <td>yrbA</td>\n",
       "      <td>btuB</td>\n",
       "      <td>0.58128</td>\n",
       "      <td>0</td>\n",
       "      <td>36</td>\n",
       "      <td>235</td>\n",
       "    </tr>\n",
       "    <tr>\n",
       "      <th>773</th>\n",
       "      <td>moaB</td>\n",
       "      <td>acpS</td>\n",
       "      <td>0.56563</td>\n",
       "      <td>0</td>\n",
       "      <td>11</td>\n",
       "      <td>275</td>\n",
       "    </tr>\n",
       "    <tr>\n",
       "      <th>747</th>\n",
       "      <td>citD</td>\n",
       "      <td>sgbH</td>\n",
       "      <td>0.58227</td>\n",
       "      <td>0</td>\n",
       "      <td>8</td>\n",
       "      <td>181</td>\n",
       "    </tr>\n",
       "    <tr>\n",
       "      <th>649</th>\n",
       "      <td>rnd</td>\n",
       "      <td>gnd</td>\n",
       "      <td>0.65792</td>\n",
       "      <td>0</td>\n",
       "      <td>50</td>\n",
       "      <td>7</td>\n",
       "    </tr>\n",
       "    <tr>\n",
       "      <th>651</th>\n",
       "      <td>yfjW</td>\n",
       "      <td>ymfJ</td>\n",
       "      <td>0.65638</td>\n",
       "      <td>0</td>\n",
       "      <td>11</td>\n",
       "      <td>6</td>\n",
       "    </tr>\n",
       "    <tr>\n",
       "      <th>408</th>\n",
       "      <td>napF</td>\n",
       "      <td>mazG</td>\n",
       "      <td>0.86471</td>\n",
       "      <td>0</td>\n",
       "      <td>31</td>\n",
       "      <td>17</td>\n",
       "    </tr>\n",
       "    <tr>\n",
       "      <th>754</th>\n",
       "      <td>nuoB</td>\n",
       "      <td>ppdC</td>\n",
       "      <td>0.58060</td>\n",
       "      <td>0</td>\n",
       "      <td>12</td>\n",
       "      <td>136</td>\n",
       "    </tr>\n",
       "    <tr>\n",
       "      <th>372</th>\n",
       "      <td>yjgL</td>\n",
       "      <td>ydeN</td>\n",
       "      <td>0.88940</td>\n",
       "      <td>0</td>\n",
       "      <td>20</td>\n",
       "      <td>10</td>\n",
       "    </tr>\n",
       "    <tr>\n",
       "      <th>815</th>\n",
       "      <td>pbl</td>\n",
       "      <td>ybfM</td>\n",
       "      <td>0.54014</td>\n",
       "      <td>0</td>\n",
       "      <td>14</td>\n",
       "      <td>285</td>\n",
       "    </tr>\n",
       "    <tr>\n",
       "      <th>744</th>\n",
       "      <td>uvrD</td>\n",
       "      <td>intB</td>\n",
       "      <td>0.58365</td>\n",
       "      <td>0</td>\n",
       "      <td>216</td>\n",
       "      <td>15</td>\n",
       "    </tr>\n",
       "    <tr>\n",
       "      <th>852</th>\n",
       "      <td>yiiG</td>\n",
       "      <td>napH</td>\n",
       "      <td>0.51270</td>\n",
       "      <td>0</td>\n",
       "      <td>8</td>\n",
       "      <td>9</td>\n",
       "    </tr>\n",
       "    <tr>\n",
       "      <th>428</th>\n",
       "      <td>potG</td>\n",
       "      <td>gntT</td>\n",
       "      <td>0.84783</td>\n",
       "      <td>0</td>\n",
       "      <td>490</td>\n",
       "      <td>13</td>\n",
       "    </tr>\n",
       "    <tr>\n",
       "      <th>785</th>\n",
       "      <td>tdcE</td>\n",
       "      <td>argE</td>\n",
       "      <td>0.55979</td>\n",
       "      <td>0</td>\n",
       "      <td>14</td>\n",
       "      <td>53</td>\n",
       "    </tr>\n",
       "    <tr>\n",
       "      <th>570</th>\n",
       "      <td>tdcG</td>\n",
       "      <td>aceK</td>\n",
       "      <td>0.71498</td>\n",
       "      <td>0</td>\n",
       "      <td>9</td>\n",
       "      <td>9</td>\n",
       "    </tr>\n",
       "    <tr>\n",
       "      <th>734</th>\n",
       "      <td>cynS</td>\n",
       "      <td>cmr</td>\n",
       "      <td>0.59099</td>\n",
       "      <td>0</td>\n",
       "      <td>4</td>\n",
       "      <td>101</td>\n",
       "    </tr>\n",
       "    <tr>\n",
       "      <th>721</th>\n",
       "      <td>pspE</td>\n",
       "      <td>valS</td>\n",
       "      <td>0.60304</td>\n",
       "      <td>0</td>\n",
       "      <td>372</td>\n",
       "      <td>6</td>\n",
       "    </tr>\n",
       "    <tr>\n",
       "      <th>590</th>\n",
       "      <td>ybaK</td>\n",
       "      <td>hcaB</td>\n",
       "      <td>0.70626</td>\n",
       "      <td>0</td>\n",
       "      <td>25</td>\n",
       "      <td>7</td>\n",
       "    </tr>\n",
       "    <tr>\n",
       "      <th>718</th>\n",
       "      <td>adiA</td>\n",
       "      <td>thrC</td>\n",
       "      <td>0.60807</td>\n",
       "      <td>0</td>\n",
       "      <td>10</td>\n",
       "      <td>224</td>\n",
       "    </tr>\n",
       "    <tr>\n",
       "      <th>583</th>\n",
       "      <td>hycA</td>\n",
       "      <td>kdsC</td>\n",
       "      <td>0.70842</td>\n",
       "      <td>0</td>\n",
       "      <td>11</td>\n",
       "      <td>232</td>\n",
       "    </tr>\n",
       "    <tr>\n",
       "      <th>462</th>\n",
       "      <td>ynfG</td>\n",
       "      <td>crr</td>\n",
       "      <td>0.81419</td>\n",
       "      <td>0</td>\n",
       "      <td>15</td>\n",
       "      <td>17</td>\n",
       "    </tr>\n",
       "    <tr>\n",
       "      <th>711</th>\n",
       "      <td>yjfK</td>\n",
       "      <td>cusC</td>\n",
       "      <td>0.61154</td>\n",
       "      <td>0</td>\n",
       "      <td>4</td>\n",
       "      <td>246</td>\n",
       "    </tr>\n",
       "    <tr>\n",
       "      <th>467</th>\n",
       "      <td>iscA</td>\n",
       "      <td>narW</td>\n",
       "      <td>0.81218</td>\n",
       "      <td>0</td>\n",
       "      <td>21</td>\n",
       "      <td>180</td>\n",
       "    </tr>\n",
       "    <tr>\n",
       "      <th>758</th>\n",
       "      <td>ygjD</td>\n",
       "      <td>ptsG</td>\n",
       "      <td>0.57785</td>\n",
       "      <td>0</td>\n",
       "      <td>57</td>\n",
       "      <td>8</td>\n",
       "    </tr>\n",
       "  </tbody>\n",
       "</table>\n",
       "<p>871 rows × 6 columns</p>\n",
       "</div>"
      ],
      "text/plain": [
       "    Gene A    Gene B  Probability  Common neighbors  Num of neighbors A  \\\n",
       "22    damX      fliL      0.99765               320                 565   \n",
       "104   acpP      yhjD      0.98784               272                 450   \n",
       "16    ybeX      cydA      0.99824               248                 511   \n",
       "4     ubiE      secG      0.99919               191                 486   \n",
       "85    bcsB      fliL      0.99146               175                 260   \n",
       "12    iscS      fabD      0.99875               174                 533   \n",
       "32    gspK      sapF      0.99659               161                 325   \n",
       "17     pta      nanA      0.99798               155                 325   \n",
       "119   mscL      ldcA      0.98510               154                 355   \n",
       "39    ubiE      btuB      0.99593               148                 486   \n",
       "60    oppC      mrdA      0.99335               148                 386   \n",
       "65    dipZ      tatC      0.99316               144                 949   \n",
       "75     cld      tolC      0.99229               143                 309   \n",
       "204   cydA      yebA      0.96494               143                 323   \n",
       "116   galT       cls      0.98579               142                 370   \n",
       "1     yhcB      fecE      0.99946               142                 467   \n",
       "74    cydB      gspK      0.99252               142                 374   \n",
       "52    dppF      macA      0.99435               139                 312   \n",
       "243   panE      murC      0.95336               139                 307   \n",
       "81    ubiH      folE      0.99189               135                 348   \n",
       "111   ftsE      oppB      0.98641               133                 359   \n",
       "118   osmC      acrD      0.98556               130                 215   \n",
       "201   cedA      ispH      0.96590               129                 379   \n",
       "209   rfaY      yfdV      0.96382               128                 305   \n",
       "44    mltB      ompN      0.99547               127                 335   \n",
       "511   ytfN      frdA      0.77214               123                 296   \n",
       "6     ycfL      sapF      0.99903               123                 264   \n",
       "77     wza      agaS      0.99214               122                 221   \n",
       "53    wbbK      fabZ      0.99429               121                 316   \n",
       "182   mdtI      recC      0.96989               121                 464   \n",
       "..     ...       ...          ...               ...                 ...   \n",
       "763   ygiT      hyfH      0.57578                 1                 142   \n",
       "713   nrdB      nuoA      0.61038                 1                  49   \n",
       "807   ydiA      fruA      0.54405                 1                  12   \n",
       "549   yhhW      proP      0.73404                 0                  16   \n",
       "858   ypjA      yidG      0.50854                 0                 227   \n",
       "647   ddpX  decoy132      0.65999                 0                   0   \n",
       "632   cpdA      prfA      0.67333                 0                   6   \n",
       "751   yrbA      btuB      0.58128                 0                  36   \n",
       "773   moaB      acpS      0.56563                 0                  11   \n",
       "747   citD      sgbH      0.58227                 0                   8   \n",
       "649    rnd       gnd      0.65792                 0                  50   \n",
       "651   yfjW      ymfJ      0.65638                 0                  11   \n",
       "408   napF      mazG      0.86471                 0                  31   \n",
       "754   nuoB      ppdC      0.58060                 0                  12   \n",
       "372   yjgL      ydeN      0.88940                 0                  20   \n",
       "815    pbl      ybfM      0.54014                 0                  14   \n",
       "744   uvrD      intB      0.58365                 0                 216   \n",
       "852   yiiG      napH      0.51270                 0                   8   \n",
       "428   potG      gntT      0.84783                 0                 490   \n",
       "785   tdcE      argE      0.55979                 0                  14   \n",
       "570   tdcG      aceK      0.71498                 0                   9   \n",
       "734   cynS       cmr      0.59099                 0                   4   \n",
       "721   pspE      valS      0.60304                 0                 372   \n",
       "590   ybaK      hcaB      0.70626                 0                  25   \n",
       "718   adiA      thrC      0.60807                 0                  10   \n",
       "583   hycA      kdsC      0.70842                 0                  11   \n",
       "462   ynfG       crr      0.81419                 0                  15   \n",
       "711   yjfK      cusC      0.61154                 0                   4   \n",
       "467   iscA      narW      0.81218                 0                  21   \n",
       "758   ygjD      ptsG      0.57785                 0                  57   \n",
       "\n",
       "     Num of neighbors B  \n",
       "22                  510  \n",
       "104                 556  \n",
       "16                  323  \n",
       "4                   318  \n",
       "85                  510  \n",
       "12                  306  \n",
       "32                  386  \n",
       "17                  327  \n",
       "119                 306  \n",
       "39                  235  \n",
       "60                  472  \n",
       "65                  399  \n",
       "75                  357  \n",
       "204                 365  \n",
       "116                 267  \n",
       "1                   237  \n",
       "74                  325  \n",
       "52                  333  \n",
       "243                 440  \n",
       "81                  279  \n",
       "111                 234  \n",
       "118                 459  \n",
       "201                 309  \n",
       "209                 191  \n",
       "44                  263  \n",
       "511                 152  \n",
       "6                   386  \n",
       "77                  730  \n",
       "53                  389  \n",
       "182                 336  \n",
       "..                  ...  \n",
       "763                  15  \n",
       "713                  19  \n",
       "807                  12  \n",
       "549                   4  \n",
       "858                   9  \n",
       "647                   0  \n",
       "632                  33  \n",
       "751                 235  \n",
       "773                 275  \n",
       "747                 181  \n",
       "649                   7  \n",
       "651                   6  \n",
       "408                  17  \n",
       "754                 136  \n",
       "372                  10  \n",
       "815                 285  \n",
       "744                  15  \n",
       "852                   9  \n",
       "428                  13  \n",
       "785                  53  \n",
       "570                   9  \n",
       "734                 101  \n",
       "721                   6  \n",
       "590                   7  \n",
       "718                 224  \n",
       "583                 232  \n",
       "462                  17  \n",
       "711                 246  \n",
       "467                 180  \n",
       "758                   8  \n",
       "\n",
       "[871 rows x 6 columns]"
      ]
     },
     "execution_count": 144,
     "metadata": {},
     "output_type": "execute_result"
    }
   ],
   "source": [
    "fp_sorted.sort_values(by='Common neighbors', ascending=False)"
   ]
  },
  {
   "cell_type": "code",
   "execution_count": 145,
   "metadata": {},
   "outputs": [],
   "source": [
    "import math"
   ]
  },
  {
   "cell_type": "code",
   "execution_count": 146,
   "metadata": {},
   "outputs": [],
   "source": [
    "fp_sorted['prob_round'] = fp_sorted['Probability'].apply(lambda x: math.floor(x*10)/10)"
   ]
  },
  {
   "cell_type": "code",
   "execution_count": 147,
   "metadata": {},
   "outputs": [
    {
     "data": {
      "text/plain": [
       "Index(['Gene A', 'Gene B', 'Probability', 'Common neighbors',\n",
       "       'Num of neighbors A', 'Num of neighbors B', 'prob_round'],\n",
       "      dtype='object')"
      ]
     },
     "execution_count": 147,
     "metadata": {},
     "output_type": "execute_result"
    }
   ],
   "source": [
    "fp_sorted.columns"
   ]
  },
  {
   "cell_type": "code",
   "execution_count": 148,
   "metadata": {},
   "outputs": [],
   "source": [
    "df_bar = fp_sorted.loc[:,['Common neighbors', 'prob_round']]"
   ]
  },
  {
   "cell_type": "code",
   "execution_count": 149,
   "metadata": {},
   "outputs": [
    {
     "data": {
      "text/html": [
       "<div>\n",
       "<style>\n",
       "    .dataframe thead tr:only-child th {\n",
       "        text-align: right;\n",
       "    }\n",
       "\n",
       "    .dataframe thead th {\n",
       "        text-align: left;\n",
       "    }\n",
       "\n",
       "    .dataframe tbody tr th {\n",
       "        vertical-align: top;\n",
       "    }\n",
       "</style>\n",
       "<table border=\"1\" class=\"dataframe\">\n",
       "  <thead>\n",
       "    <tr style=\"text-align: right;\">\n",
       "      <th></th>\n",
       "      <th>Gene A</th>\n",
       "      <th>Gene B</th>\n",
       "      <th>Probability</th>\n",
       "      <th>Common neighbors</th>\n",
       "      <th>Num of neighbors A</th>\n",
       "      <th>Num of neighbors B</th>\n",
       "      <th>prob_round</th>\n",
       "    </tr>\n",
       "  </thead>\n",
       "  <tbody>\n",
       "    <tr>\n",
       "      <th>0</th>\n",
       "      <td>gspD</td>\n",
       "      <td>fimD</td>\n",
       "      <td>0.99983</td>\n",
       "      <td>58</td>\n",
       "      <td>253</td>\n",
       "      <td>176</td>\n",
       "      <td>0.9</td>\n",
       "    </tr>\n",
       "    <tr>\n",
       "      <th>1</th>\n",
       "      <td>yhcB</td>\n",
       "      <td>fecE</td>\n",
       "      <td>0.99946</td>\n",
       "      <td>142</td>\n",
       "      <td>467</td>\n",
       "      <td>237</td>\n",
       "      <td>0.9</td>\n",
       "    </tr>\n",
       "    <tr>\n",
       "      <th>2</th>\n",
       "      <td>ubiF</td>\n",
       "      <td>mltB</td>\n",
       "      <td>0.99943</td>\n",
       "      <td>91</td>\n",
       "      <td>280</td>\n",
       "      <td>335</td>\n",
       "      <td>0.9</td>\n",
       "    </tr>\n",
       "    <tr>\n",
       "      <th>3</th>\n",
       "      <td>rpmA</td>\n",
       "      <td>ackA</td>\n",
       "      <td>0.99935</td>\n",
       "      <td>107</td>\n",
       "      <td>207</td>\n",
       "      <td>427</td>\n",
       "      <td>0.9</td>\n",
       "    </tr>\n",
       "    <tr>\n",
       "      <th>4</th>\n",
       "      <td>ubiE</td>\n",
       "      <td>secG</td>\n",
       "      <td>0.99919</td>\n",
       "      <td>191</td>\n",
       "      <td>486</td>\n",
       "      <td>318</td>\n",
       "      <td>0.9</td>\n",
       "    </tr>\n",
       "  </tbody>\n",
       "</table>\n",
       "</div>"
      ],
      "text/plain": [
       "  Gene A Gene B  Probability  Common neighbors  Num of neighbors A  \\\n",
       "0   gspD   fimD      0.99983                58                 253   \n",
       "1   yhcB   fecE      0.99946               142                 467   \n",
       "2   ubiF   mltB      0.99943                91                 280   \n",
       "3   rpmA   ackA      0.99935               107                 207   \n",
       "4   ubiE   secG      0.99919               191                 486   \n",
       "\n",
       "   Num of neighbors B  prob_round  \n",
       "0                 176         0.9  \n",
       "1                 237         0.9  \n",
       "2                 335         0.9  \n",
       "3                 427         0.9  \n",
       "4                 318         0.9  "
      ]
     },
     "execution_count": 149,
     "metadata": {},
     "output_type": "execute_result"
    }
   ],
   "source": [
    "fp_sorted.head()"
   ]
  },
  {
   "cell_type": "code",
   "execution_count": 150,
   "metadata": {},
   "outputs": [],
   "source": [
    "df_bar = df_bar.groupby(['prob_round'])['Common neighbors'].mean()"
   ]
  },
  {
   "cell_type": "code",
   "execution_count": 151,
   "metadata": {},
   "outputs": [
    {
     "data": {
      "text/plain": [
       "Float64Index([0.5, 0.6, 0.7, 0.8, 0.9], dtype='float64', name='prob_round')"
      ]
     },
     "execution_count": 151,
     "metadata": {},
     "output_type": "execute_result"
    }
   ],
   "source": [
    "df_bar.index"
   ]
  },
  {
   "cell_type": "code",
   "execution_count": 152,
   "metadata": {},
   "outputs": [
    {
     "data": {
      "text/plain": [
       "prob_round\n",
       "0.5     6.182432\n",
       "0.6     9.136000\n",
       "0.7    15.016949\n",
       "0.8    26.420168\n",
       "0.9    58.135734\n",
       "Name: Common neighbors, dtype: float64"
      ]
     },
     "execution_count": 152,
     "metadata": {},
     "output_type": "execute_result"
    }
   ],
   "source": [
    "df_bar"
   ]
  },
  {
   "cell_type": "code",
   "execution_count": 156,
   "metadata": {},
   "outputs": [
    {
     "data": {
      "image/png": "[encoded data removed]",
      "text/plain": [
       "<matplotlib.figure.Figure at 0x1271ca710>"
      ]
     },
     "metadata": {},
     "output_type": "display_data"
    }
   ],
   "source": [
    "# Values of each group\n",
    "bars1 = df_bar.values\n",
    " \n",
    "# Heights of bars1 + bars2 (TO DO better)\n",
    "bars = [1, 1, 1, 1, 1]\n",
    " \n",
    "# The position of the bars on the x-axis\n",
    "r = [1,2,3,4,5]\n",
    "ticks = [0.5,1.5,2.5,3.5,4.5,5.5]\n",
    "# Names of group and bar width\n",
    "names = df_bar.index\n",
    "barWidth = 1\n",
    " \n",
    "# Create plots with pre-defined labels.\n",
    "# Alternatively, you can pass labels explicitly when calling `legend`.\n",
    "# plt.figure(figsize=(12, 5))\n",
    "fig, ax = plt.subplots()\n",
    "# Create brown bars\n",
    "ax.bar(r, bars1, color='green', edgecolor='black', width=barWidth)\n",
    "\n",
    "tick_names = [0.5,0.6,0.7,0.8,0.9,1.0]\n",
    "# Custom X axis\n",
    "plt.xticks(ticks, tick_names)\n",
    "plt.xlabel(\"Probability\", fontsize=14)\n",
    "plt.ylabel(\"Number of Common Neigbors\", fontsize=14)\n",
    "plt.title('Average number of common neighbors', fontsize=16)\n",
    "# Now add the legend with some customizations.\n",
    "# legend = ax.legend(loc='upper left')\n",
    "\n",
    "# The frame is matplotlib.patches.Rectangle instance surrounding the legend.\n",
    "# frame = legend.get_frame()\n",
    "# frame.set_facecolor('0.90')\n",
    "plt.savefig(organism +'_common_neighbors_per_bin.eps', dpi=1200)\n",
    "# Show graphic\n",
    "plt.show()"
   ]
  },
  {
   "cell_type": "code",
   "execution_count": 30,
   "metadata": {},
   "outputs": [],
   "source": [
    "common_neighbors_50 = fp_sorted.loc[fp_sorted['prob_round']==0.5,'Common neighbors']\n",
    "common_neighbors_60 = fp_sorted.loc[fp_sorted['prob_round']==0.6,'Common neighbors']\n",
    "common_neighbors_70 = fp_sorted.loc[fp_sorted['prob_round']==0.7,'Common neighbors']\n",
    "common_neighbors_80 = fp_sorted.loc[fp_sorted['prob_round']==0.8,'Common neighbors']\n",
    "common_neighbors_90 = fp_sorted.loc[fp_sorted['prob_round']==0.9,'Common neighbors']"
   ]
  },
  {
   "cell_type": "code",
   "execution_count": 31,
   "metadata": {},
   "outputs": [],
   "source": [
    "from scipy import stats"
   ]
  },
  {
   "cell_type": "code",
   "execution_count": 32,
   "metadata": {},
   "outputs": [
    {
     "data": {
      "text/plain": [
       "Ttest_indResult(statistic=-1.8250263782616862, pvalue=0.06909779329062621)"
      ]
     },
     "execution_count": 32,
     "metadata": {},
     "output_type": "execute_result"
    }
   ],
   "source": [
    "stats.ttest_ind(common_neighbors_50, common_neighbors_60)"
   ]
  },
  {
   "cell_type": "code",
   "execution_count": 33,
   "metadata": {},
   "outputs": [
    {
     "data": {
      "text/plain": [
       "Ttest_indResult(statistic=-4.457321984875675, pvalue=1.2277650086550268e-05)"
      ]
     },
     "execution_count": 33,
     "metadata": {},
     "output_type": "execute_result"
    }
   ],
   "source": [
    "stats.ttest_ind(common_neighbors_50, common_neighbors_70)"
   ]
  },
  {
   "cell_type": "code",
   "execution_count": 34,
   "metadata": {},
   "outputs": [
    {
     "data": {
      "text/plain": [
       "Ttest_indResult(statistic=-7.8999316462589215, pvalue=7.477594077700487e-14)"
      ]
     },
     "execution_count": 34,
     "metadata": {},
     "output_type": "execute_result"
    }
   ],
   "source": [
    "stats.ttest_ind(common_neighbors_50, common_neighbors_80)"
   ]
  },
  {
   "cell_type": "code",
   "execution_count": 35,
   "metadata": {},
   "outputs": [
    {
     "data": {
      "text/plain": [
       "Ttest_indResult(statistic=-14.285610643299862, pvalue=3.772074071702287e-39)"
      ]
     },
     "execution_count": 35,
     "metadata": {},
     "output_type": "execute_result"
    }
   ],
   "source": [
    "stats.ttest_ind(common_neighbors_50, common_neighbors_90)"
   ]
  },
  {
   "cell_type": "code",
   "execution_count": 36,
   "metadata": {},
   "outputs": [
    {
     "data": {
      "text/plain": [
       "Ttest_indResult(statistic=-2.5509525429949624, pvalue=0.011362160802760847)"
      ]
     },
     "execution_count": 36,
     "metadata": {},
     "output_type": "execute_result"
    }
   ],
   "source": [
    "stats.ttest_ind(common_neighbors_60, common_neighbors_70)"
   ]
  },
  {
   "cell_type": "code",
   "execution_count": 37,
   "metadata": {},
   "outputs": [
    {
     "data": {
      "text/plain": [
       "Ttest_indResult(statistic=-5.952857631561366, pvalue=9.202213146387224e-09)"
      ]
     },
     "execution_count": 37,
     "metadata": {},
     "output_type": "execute_result"
    }
   ],
   "source": [
    "stats.ttest_ind(common_neighbors_60, common_neighbors_80)"
   ]
  },
  {
   "cell_type": "code",
   "execution_count": 38,
   "metadata": {},
   "outputs": [
    {
     "data": {
      "text/plain": [
       "Ttest_indResult(statistic=-12.29712211178126, pvalue=1.9642509067946947e-30)"
      ]
     },
     "execution_count": 38,
     "metadata": {},
     "output_type": "execute_result"
    }
   ],
   "source": [
    "stats.ttest_ind(common_neighbors_60, common_neighbors_90)"
   ]
  },
  {
   "cell_type": "code",
   "execution_count": 39,
   "metadata": {},
   "outputs": [
    {
     "data": {
      "text/plain": [
       "Ttest_indResult(statistic=-3.5413659750965913, pvalue=0.0004798922347920202)"
      ]
     },
     "execution_count": 39,
     "metadata": {},
     "output_type": "execute_result"
    }
   ],
   "source": [
    "stats.ttest_ind(common_neighbors_70, common_neighbors_80)"
   ]
  },
  {
   "cell_type": "code",
   "execution_count": 40,
   "metadata": {},
   "outputs": [
    {
     "data": {
      "text/plain": [
       "Ttest_indResult(statistic=-10.369285843394346, pvalue=7.426488232095973e-23)"
      ]
     },
     "execution_count": 40,
     "metadata": {},
     "output_type": "execute_result"
    }
   ],
   "source": [
    "stats.ttest_ind(common_neighbors_70, common_neighbors_90)"
   ]
  },
  {
   "cell_type": "code",
   "execution_count": 41,
   "metadata": {},
   "outputs": [
    {
     "data": {
      "text/plain": [
       "Ttest_indResult(statistic=-7.4268960405971685, pvalue=5.148145969125578e-13)"
      ]
     },
     "execution_count": 41,
     "metadata": {},
     "output_type": "execute_result"
    }
   ],
   "source": [
    "stats.ttest_ind(common_neighbors_80, common_neighbors_90)"
   ]
  },
  {
   "cell_type": "code",
   "execution_count": null,
   "metadata": {},
   "outputs": [],
   "source": []
  }
 ],
 "metadata": {
  "kernelspec": {
   "display_name": "Python 3",
   "language": "python",
   "name": "python3"
  },
  "language_info": {
   "codemirror_mode": {
    "name": "ipython",
    "version": 3
   },
   "file_extension": ".py",
   "mimetype": "text/x-python",
   "name": "python",
   "nbconvert_exporter": "python",
   "pygments_lexer": "ipython3",
   "version": "3.6.3"
  }
 },
 "nbformat": 4,
 "nbformat_minor": 2
}
