{
 "cells": [
  {
   "cell_type": "code",
   "execution_count": 78,
   "metadata": {},
   "outputs": [],
   "source": [
    "import pickle \n",
    "import LoadData as data\n",
    "import numpy as np\n",
    "from GNE import GNE\n",
    "from evaluation import *\n",
    "from utils import *\n",
    "import pandas as pd\n",
    "import scipy.sparse as sp\n",
    "import random\n",
    "import pandas as pd"
   ]
  },
  {
   "cell_type": "code",
   "execution_count": 2,
   "metadata": {
    "collapsed": true
   },
   "outputs": [],
   "source": [
    "# def split_seq(seq, num_splits):\n",
    "#         newseq = []\n",
    "#         splitsize = 1.0/num_splits*len(seq)\n",
    "#         for i in range(num_splits):\n",
    "#                 newseq.append(seq[int(round(i*splitsize)):int(round((i+1)*splitsize))])\n",
    "#         return newseq"
   ]
  },
  {
   "cell_type": "code",
   "execution_count": null,
   "metadata": {
    "collapsed": true
   },
   "outputs": [],
   "source": []
  },
  {
   "cell_type": "code",
   "execution_count": 79,
   "metadata": {
    "collapsed": true
   },
   "outputs": [],
   "source": [
    "path = './data/ecoli/'"
   ]
  },
  {
   "cell_type": "code",
   "execution_count": 80,
   "metadata": {
    "collapsed": true
   },
   "outputs": [],
   "source": [
    "geneids = pd.read_csv(path + \"gene_ids.tsv\", sep=\"\\t\")"
   ]
  },
  {
   "cell_type": "code",
   "execution_count": 81,
   "metadata": {},
   "outputs": [
    {
     "name": "stdout",
     "output_type": "stream",
     "text": [
      "### Loading [./data/ecoli/edgelist_biogrid.txt]...\n"
     ]
    }
   ],
   "source": [
    "num_genes = geneids.shape[0]\n",
    "link_file = path + \"edgelist_biogrid.txt\"\n",
    "\n",
    "adj = load_network(link_file, num_genes)"
   ]
  },
  {
   "cell_type": "code",
   "execution_count": 82,
   "metadata": {},
   "outputs": [
    {
     "data": {
      "text/plain": [
       "148340.0"
      ]
     },
     "execution_count": 82,
     "metadata": {},
     "output_type": "execute_result"
    }
   ],
   "source": [
    "np.sum(adj)"
   ]
  },
  {
   "cell_type": "code",
   "execution_count": 9,
   "metadata": {
    "collapsed": true
   },
   "outputs": [],
   "source": [
    "def create_dataset_for_comparison(path, adj):\n",
    "    print(\"Creating 2 split of data\")\n",
    "    g = nx.Graph(adj)\n",
    "    adj = nx.to_scipy_sparse_matrix(g)\n",
    "    # Remove diagonal elements\n",
    "    adj = adj - sp.dia_matrix((adj.diagonal()[np.newaxis, :], [0]), shape=adj.shape)\n",
    "    adj.eliminate_zeros()\n",
    "\n",
    "    # Split link information to train and validation with test split size\n",
    "    edgelist = convertAdjMatrixToSortedRankTSV(adj.todense())\n",
    "    geneids = edgelist.iloc[:, :2]\n",
    "    col1 = np.array(geneids).min(axis=1).astype(int)\n",
    "    col2 = np.array(geneids).max(axis=1).astype(int)\n",
    "    col3 = np.array(edgelist.iloc[:, 2])\n",
    "    data_df = pd.DataFrame()\n",
    "    data_df['i'] = col1\n",
    "    data_df['j'] = col2\n",
    "    data_df['k'] = col3\n",
    "    data_df = data_df.drop_duplicates()\n",
    "\n",
    "    pos_edges = data_df.loc[data_df.iloc[:, 2] == 1]\n",
    "    neg_edgelist = data_df.loc[data_df.iloc[:, 2] == 0]\n",
    "    ind = random.sample(range(len(neg_edgelist)), pos_edges.shape[0])\n",
    "    neg_edges = pd.DataFrame(np.random.permutation(neg_edgelist.values))\n",
    "    neg_edges = neg_edges.iloc[ind, :]\n",
    "\n",
    "#     assert set(map(tuple, pos_edges)).isdisjoint(set(map(tuple, neg_edges)))\n",
    "    return pos_edges, neg_edges"
   ]
  },
  {
   "cell_type": "code",
   "execution_count": 7,
   "metadata": {},
   "outputs": [
    {
     "name": "stdout",
     "output_type": "stream",
     "text": [
      "Creating 2 split of data\n"
     ]
    }
   ],
   "source": [
    "X_pos, X_neg = create_dataset_for_comparison(path, adj)"
   ]
  },
  {
   "cell_type": "code",
   "execution_count": 31,
   "metadata": {
    "collapsed": true
   },
   "outputs": [],
   "source": [
    "X_pos, X_neg = X_pos.values, X_neg.values"
   ]
  },
  {
   "cell_type": "code",
   "execution_count": 32,
   "metadata": {
    "collapsed": true
   },
   "outputs": [],
   "source": [
    "X_pos, X_neg = X_pos.astype(int), X_neg.astype(int)"
   ]
  },
  {
   "cell_type": "code",
   "execution_count": 33,
   "metadata": {
    "collapsed": true
   },
   "outputs": [],
   "source": [
    "randomized_indices = np.random.permutation(range(len(X_pos)))"
   ]
  },
  {
   "cell_type": "code",
   "execution_count": 34,
   "metadata": {
    "collapsed": true
   },
   "outputs": [],
   "source": [
    "index_splits = split_seq(range(len(X_pos)), 2)"
   ]
  },
  {
   "cell_type": "code",
   "execution_count": 35,
   "metadata": {
    "collapsed": true
   },
   "outputs": [],
   "source": [
    "test_index = randomized_indices[index_splits[1]]"
   ]
  },
  {
   "cell_type": "code",
   "execution_count": 36,
   "metadata": {
    "collapsed": true
   },
   "outputs": [],
   "source": [
    "train_index = randomized_indices[index_splits[0]]"
   ]
  },
  {
   "cell_type": "code",
   "execution_count": 62,
   "metadata": {
    "collapsed": true
   },
   "outputs": [],
   "source": [
    "train_edges = X_pos[train_index,:]\n",
    "train_edges_false = X_neg[train_index,:]\n",
    "val_edges = X_pos[train_index,:]\n",
    "val_edges_false = X_neg[train_index,:]\n",
    "test_edges = X_pos[test_index,:]\n",
    "test_edges_false = X_neg[test_index,:]"
   ]
  },
  {
   "cell_type": "code",
   "execution_count": 51,
   "metadata": {
    "collapsed": true
   },
   "outputs": [],
   "source": [
    "pd.DataFrame(train_edges).to_csv(\"/Users/kk3671/Documents/OpenNE/data/ecoli/train_links_0.5_split_1.txt\", index=False, header=False, sep=' ')"
   ]
  },
  {
   "cell_type": "code",
   "execution_count": 52,
   "metadata": {
    "collapsed": true
   },
   "outputs": [],
   "source": [
    "pd.DataFrame(test_edges).to_csv(\"/Users/kk3671/Documents/OpenNE/data/ecoli/train_links_0.5_split_2.txt\", index=False, header=False, sep=' ')"
   ]
  },
  {
   "cell_type": "code",
   "execution_count": 63,
   "metadata": {
    "collapsed": true
   },
   "outputs": [],
   "source": [
    "train_data = np.concatenate([train_edges, train_edges_false])\n",
    "test_data =  np.concatenate([test_edges, test_edges_false])"
   ]
  },
  {
   "cell_type": "code",
   "execution_count": 135,
   "metadata": {
    "collapsed": true
   },
   "outputs": [],
   "source": [
    "pd.DataFrame(train_data).to_csv(\"/Users/kk3671/Documents/OpenNE/data/ecoli/train_data_1.txt\", index=False, header=False, sep=' ')\n",
    "pd.DataFrame(test_data).to_csv(\"/Users/kk3671/Documents/OpenNE/data/ecoli/train_data_2.txt\", index=False, header=False, sep=' ')"
   ]
  },
  {
   "cell_type": "code",
   "execution_count": 83,
   "metadata": {
    "collapsed": true
   },
   "outputs": [],
   "source": [
    "train_data = pd.read_csv(\"/Users/kk3671/Documents/OpenNE/data/ecoli/train_data_1.txt\", header=None, sep=' ')\n",
    "test_data = pd.read_csv(\"/Users/kk3671/Documents/OpenNE/data/ecoli/train_data_2.txt\",  header=None, sep=' ')"
   ]
  },
  {
   "cell_type": "code",
   "execution_count": 84,
   "metadata": {
    "collapsed": true
   },
   "outputs": [],
   "source": [
    "train_edges = train_data.loc[train_data.iloc[:,2]==1].values\n",
    "train_edges_false = train_data.loc[train_data.iloc[:,2]==0].values\n",
    "val_edges = train_data.loc[train_data.iloc[:,2]==1].values\n",
    "val_edges_false = train_data.loc[train_data.iloc[:,2]==0].values\n",
    "test_edges = test_data.loc[test_data.iloc[:,2]==1].values\n",
    "test_edges_false = test_data.loc[test_data.iloc[:,2]==0].values"
   ]
  },
  {
   "cell_type": "code",
   "execution_count": 85,
   "metadata": {},
   "outputs": [
    {
     "data": {
      "text/plain": [
       "(73738, 3)"
      ]
     },
     "execution_count": 85,
     "metadata": {},
     "output_type": "execute_result"
    }
   ],
   "source": [
    "train_edges.shape"
   ]
  },
  {
   "cell_type": "code",
   "execution_count": 86,
   "metadata": {
    "collapsed": true
   },
   "outputs": [],
   "source": [
    "validation_edges =  np.concatenate([val_edges, val_edges_false])\n",
    "val_edge_labels = np.concatenate([np.ones(len(val_edges)), np.zeros(len(val_edges_false))])"
   ]
  },
  {
   "cell_type": "code",
   "execution_count": 14,
   "metadata": {
    "collapsed": true
   },
   "outputs": [],
   "source": [
    "a1_rows = set(map(tuple, train_edges))"
   ]
  },
  {
   "cell_type": "code",
   "execution_count": 15,
   "metadata": {
    "collapsed": true
   },
   "outputs": [],
   "source": [
    "a2_rows = set(map(tuple, test_edges))"
   ]
  },
  {
   "cell_type": "code",
   "execution_count": 16,
   "metadata": {},
   "outputs": [
    {
     "data": {
      "text/plain": [
       "True"
      ]
     },
     "execution_count": 16,
     "metadata": {},
     "output_type": "execute_result"
    }
   ],
   "source": [
    "a1_rows.isdisjoint(a2_rows)"
   ]
  },
  {
   "cell_type": "code",
   "execution_count": 6,
   "metadata": {
    "collapsed": true
   },
   "outputs": [],
   "source": [
    "feature_file = path + 'expression_data.tsv'"
   ]
  },
  {
   "cell_type": "code",
   "execution_count": 87,
   "metadata": {
    "collapsed": true
   },
   "outputs": [],
   "source": [
    "from convertdata import *"
   ]
  },
  {
   "cell_type": "code",
   "execution_count": 88,
   "metadata": {},
   "outputs": [
    {
     "name": "stdout",
     "output_type": "stream",
     "text": [
      "Creating train test and validation_split\n"
     ]
    }
   ],
   "source": [
    "dataset = create_train_test_split(path, adj, test_size=0.1, validation_size=0.1)"
   ]
  },
  {
   "cell_type": "code",
   "execution_count": 89,
   "metadata": {
    "collapsed": true
   },
   "outputs": [],
   "source": [
    "train_edges = dataset['train_pos']\n",
    "train_edges_false = dataset['train_neg']\n",
    "val_edges = dataset['val_pos']\n",
    "val_edges_false = dataset['val_neg']\n",
    "test_edges = dataset['test_pos']\n",
    "test_edges_false = dataset['test_neg']"
   ]
  },
  {
   "cell_type": "code",
   "execution_count": 90,
   "metadata": {},
   "outputs": [
    {
     "name": "stdout",
     "output_type": "stream",
     "text": [
      "Total nodes: 4511\n",
      "Total edges: 148340.0\n",
      "Training edges (positive): 119455\n",
      "Training edges (negative): 119455\n",
      "Validation edges (positive): 13273\n",
      "Validation edges (negative): 13273\n",
      "Test edges (positive): 14748\n",
      "Test edges (negative): 14748\n"
     ]
    }
   ],
   "source": [
    "# Inspect train/test split\n",
    "print(\"Total nodes:\", adj.shape[0])\n",
    "print(\"Total edges:\", np.sum(adj))  # adj is symmetric, so nnz (num non-zero) = 2*num_edges\n",
    "print(\"Training edges (positive):\", len(train_edges))\n",
    "print(\"Training edges (negative):\", len(train_edges_false))\n",
    "print(\"Validation edges (positive):\", len(val_edges))\n",
    "print(\"Validation edges (negative):\", len(val_edges_false))\n",
    "print(\"Test edges (positive):\", len(test_edges))\n",
    "print(\"Test edges (negative):\", len(test_edges_false))"
   ]
  },
  {
   "cell_type": "code",
   "execution_count": 33,
   "metadata": {
    "collapsed": true
   },
   "outputs": [],
   "source": [
    "validation_edges =  np.concatenate([val_edges, val_edges_false])\n",
    "val_edge_labels = np.concatenate([np.ones(len(val_edges)), np.zeros(len(val_edges_false))])"
   ]
  },
  {
   "cell_type": "code",
   "execution_count": 12,
   "metadata": {},
   "outputs": [
    {
     "name": "stdout",
     "output_type": "stream",
     "text": [
      "Constructing Nodes\n",
      "attr_M: 805\n",
      "id_N: 4511\n",
      "Reading training links\n",
      "Constructing Neighborhood maps\n",
      "Constructing train data\n"
     ]
    }
   ],
   "source": [
    "Data = data.LoadData(path, train_links=train_edges, features_file=feature_file)"
   ]
  },
  {
   "cell_type": "code",
   "execution_count": 13,
   "metadata": {},
   "outputs": [
    {
     "data": {
      "text/plain": [
       "119455"
      ]
     },
     "execution_count": 13,
     "metadata": {},
     "output_type": "execute_result"
    }
   ],
   "source": [
    "len(train_edges)"
   ]
  },
  {
   "cell_type": "code",
   "execution_count": 14,
   "metadata": {},
   "outputs": [
    {
     "data": {
      "text/plain": [
       "14748"
      ]
     },
     "execution_count": 14,
     "metadata": {},
     "output_type": "execute_result"
    }
   ],
   "source": [
    "len(test_edges)"
   ]
  },
  {
   "cell_type": "code",
   "execution_count": 15,
   "metadata": {},
   "outputs": [
    {
     "data": {
      "text/plain": [
       "26546"
      ]
     },
     "execution_count": 15,
     "metadata": {},
     "output_type": "execute_result"
    }
   ],
   "source": [
    "len(validation_edges)"
   ]
  },
  {
   "cell_type": "code",
   "execution_count": 107,
   "metadata": {},
   "outputs": [
    {
     "data": {
      "text/plain": [
       "{'alpha': 0.2,\n",
       " 'attr_embedding_size': 128,\n",
       " 'batch_size': 128,\n",
       " 'epoch': 100,\n",
       " 'id_embedding_size': 128,\n",
       " 'learning_rate': 0.002,\n",
       " 'n_neg_samples': 10,\n",
       " 'representation_size': 128}"
      ]
     },
     "execution_count": 107,
     "metadata": {},
     "output_type": "execute_result"
    }
   ],
   "source": [
    "parameters = {}\n",
    "parameters['id_embedding_size'] = 128\n",
    "parameters['attr_embedding_size'] = 128\n",
    "parameters['batch_size'] = 128\n",
    "parameters['alpha'] = 0.2\n",
    "parameters['n_neg_samples'] = 10\n",
    "parameters['epoch'] = 100\n",
    "parameters['representation_size'] = 128\n",
    "parameters['learning_rate'] = 0.002\n",
    "parameters"
   ]
  },
  {
   "cell_type": "code",
   "execution_count": null,
   "metadata": {
    "collapsed": true
   },
   "outputs": [],
   "source": []
  },
  {
   "cell_type": "code",
   "execution_count": 108,
   "metadata": {},
   "outputs": [
    {
     "name": "stdout",
     "output_type": "stream",
     "text": [
      "{'id_embedding_size': 128, 'attr_embedding_size': 128, 'batch_size': 128, 'alpha': 0.2, 'n_neg_samples': 10, 'epoch': 100, 'representation_size': 128, 'learning_rate': 0.002}\n",
      "Using structure and attribute embedding\n",
      "Epoch:      1, Train-Batch Loss: 7.807488778, Validation AUC: 0.756081049 *\n",
      "Epoch:      2, Train-Batch Loss: 4.030655273, Validation AUC: 0.783851318 *\n",
      "Epoch:      3, Train-Batch Loss: 3.220334808, Validation AUC: 0.789774602 *\n",
      "Epoch:      4, Train-Batch Loss: 2.880727930, Validation AUC: 0.820492816 *\n",
      "Epoch:      5, Train-Batch Loss: 2.438761155, Validation AUC: 0.844481048 *\n",
      "Epoch:      6, Train-Batch Loss: 1.973753676, Validation AUC: 0.863982838 *\n",
      "Epoch:      7, Train-Batch Loss: 1.766256594, Validation AUC: 0.890342171 *\n",
      "Epoch:      8, Train-Batch Loss: 1.505914421, Validation AUC: 0.895064599 *\n",
      "Epoch:      9, Train-Batch Loss: 1.354194988, Validation AUC: 0.901995038 *\n",
      "Epoch:     10, Train-Batch Loss: 1.186263246, Validation AUC: 0.910532220 *\n",
      "Epoch:     11, Train-Batch Loss: 1.085741113, Validation AUC: 0.915633370 *\n",
      "Epoch:     12, Train-Batch Loss: 0.984936995, Validation AUC: 0.920811377 *\n",
      "Epoch:     13, Train-Batch Loss: 0.900428785, Validation AUC: 0.921496367 *\n",
      "Epoch:     14, Train-Batch Loss: 0.817173242, Validation AUC: 0.920712023 \n",
      "Epoch:     15, Train-Batch Loss: 0.740390155, Validation AUC: 0.919816792 \n",
      "Epoch:     16, Train-Batch Loss: 0.675420195, Validation AUC: 0.920143251 \n",
      "No improvement found in a while, stopping optimization.\n"
     ]
    }
   ],
   "source": [
    "model = GNE(path, Data, 2018, parameters)\n",
    "embeddings = model.train(validation_edges, val_edge_labels)\n",
    "pd.DataFrame(embeddings).to_csv(\"embeddings_ecoli_alpha_\"+str(parameters['alpha'])+\".txt\", header=False, index=False, sep=\",\")"
   ]
  },
  {
   "cell_type": "code",
   "execution_count": 109,
   "metadata": {
    "collapsed": true
   },
   "outputs": [],
   "source": [
    "parameters['alpha'] = 0"
   ]
  },
  {
   "cell_type": "code",
   "execution_count": 110,
   "metadata": {
    "collapsed": true
   },
   "outputs": [],
   "source": [
    "embeddings = pd.read_csv(\"embeddings_ecoli_alpha_\"+str(parameters['alpha'])+\".txt\", header=None, sep=\",\")"
   ]
  },
  {
   "cell_type": "code",
   "execution_count": 111,
   "metadata": {},
   "outputs": [
    {
     "name": "stdout",
     "output_type": "stream",
     "text": [
      "embeddings_ecoli_alpha_0.txt\n"
     ]
    }
   ],
   "source": [
    "print(\"embeddings_ecoli_alpha_\"+str(parameters['alpha'])+\".txt\")"
   ]
  },
  {
   "cell_type": "code",
   "execution_count": 124,
   "metadata": {
    "collapsed": true
   },
   "outputs": [],
   "source": [
    "embeddings = pd.read_csv(\"embeddings_ecoli_alpha_1.txt\", header=None, sep=\",\")\n",
    "embeddings = embeddings.values"
   ]
  },
  {
   "cell_type": "markdown",
   "metadata": {
    "collapsed": true
   },
   "source": []
  },
  {
   "cell_type": "code",
   "execution_count": 8,
   "metadata": {},
   "outputs": [
    {
     "data": {
      "text/plain": [
       "(4511, 128)"
      ]
     },
     "execution_count": 8,
     "metadata": {},
     "output_type": "execute_result"
    }
   ],
   "source": [
    "embeddings.shape"
   ]
  },
  {
   "cell_type": "code",
   "execution_count": 120,
   "metadata": {},
   "outputs": [],
   "source": [
    "# Train-set edge embeddings\n",
    "pos_train_edge_embs = get_edge_embeddings(embeddings, train_edges)\n",
    "neg_train_edge_embs = get_edge_embeddings(embeddings, train_edges_false)\n",
    "train_edge_embs = np.concatenate([pos_train_edge_embs, neg_train_edge_embs])\n",
    "# Create train-set edge labels: 1 = real edge, 0 = false edge\n",
    "train_edge_labels = np.concatenate([np.ones(len(train_edges)), np.zeros(len(train_edges_false))])"
   ]
  },
  {
   "cell_type": "code",
   "execution_count": null,
   "metadata": {
    "collapsed": true
   },
   "outputs": [],
   "source": [
    "# # Test-set edge embeddings, labels\n",
    "# pos_test_edge_embs = get_edge_embeddings(embeddings, test_edges)\n",
    "# neg_test_edge_embs = get_edge_embeddings(embeddings, test_edges_false)\n",
    "# test_edge_embs = np.concatenate([pos_test_edge_embs, neg_test_edge_embs])\n",
    "\n",
    "# # Create val-set edge labels: 1 = real edge, 0 = false edge\n",
    "# test_edge_labels = np.concatenate([np.ones(len(test_edges)), np.zeros(len(test_edges_false))])"
   ]
  },
  {
   "cell_type": "code",
   "execution_count": 75,
   "metadata": {
    "collapsed": true
   },
   "outputs": [],
   "source": []
  },
  {
   "cell_type": "code",
   "execution_count": 57,
   "metadata": {
    "collapsed": true
   },
   "outputs": [],
   "source": []
  },
  {
   "cell_type": "code",
   "execution_count": 121,
   "metadata": {},
   "outputs": [
    {
     "data": {
      "text/plain": [
       "LogisticRegression(C=1.0, class_weight=None, dual=False, fit_intercept=True,\n",
       "          intercept_scaling=1, max_iter=100, multi_class='ovr', n_jobs=1,\n",
       "          penalty='l2', random_state=0, solver='liblinear', tol=0.0001,\n",
       "          verbose=0, warm_start=False)"
      ]
     },
     "execution_count": 121,
     "metadata": {},
     "output_type": "execute_result"
    }
   ],
   "source": [
    "# Train logistic regression classifier on train-set edge embeddings\n",
    "from sklearn.linear_model import LogisticRegression\n",
    "\n",
    "edge_classifier = LogisticRegression(random_state=0)\n",
    "edge_classifier.fit(train_edge_embs, train_edge_labels)"
   ]
  },
  {
   "cell_type": "code",
   "execution_count": 122,
   "metadata": {
    "collapsed": true
   },
   "outputs": [],
   "source": [
    "test_preds_st = edge_classifier.predict_proba(test_edge_embs)[:, 1]\n",
    "test_roc = roc_auc_score(test_edge_labels, test_preds_st)\n",
    "test_ap = average_precision_score(test_edge_labels, test_preds_st)"
   ]
  },
  {
   "cell_type": "code",
   "execution_count": 123,
   "metadata": {},
   "outputs": [
    {
     "name": "stdout",
     "output_type": "stream",
     "text": [
      "GNE Test ROC score:  0.5073192886626939\n",
      "GNE Test AP score:  0.5115598702712735\n"
     ]
    }
   ],
   "source": [
    "print('GNE Test ROC score: ', str(test_roc))\n",
    "print('GNE Test AP score: ', str(test_ap))"
   ]
  },
  {
   "cell_type": "code",
   "execution_count": null,
   "metadata": {
    "collapsed": true
   },
   "outputs": [],
   "source": [
    "# test_preds = edge_classifier.predict_proba(test_edge_embs)[:, 1]\n",
    "# test_roc = roc_auc_score(test_edge_labels, test_preds)\n",
    "# test_ap = average_precision_score(test_edge_labels, test_preds)"
   ]
  },
  {
   "cell_type": "code",
   "execution_count": 118,
   "metadata": {
    "collapsed": true
   },
   "outputs": [],
   "source": [
    "embeddings = pd.read_csv(\"embeddings_ecoli_latest.txt\", header=None, sep=\",\")\n",
    "embeddings = embeddings.values"
   ]
  },
  {
   "cell_type": "code",
   "execution_count": 68,
   "metadata": {
    "collapsed": true
   },
   "outputs": [],
   "source": [
    "# Train-set edge embeddings\n",
    "pos_train_edge_embs = get_edge_embeddings(embeddings, train_edges)\n",
    "neg_train_edge_embs = get_edge_embeddings(embeddings, train_edges_false)\n",
    "train_edge_embs = np.concatenate([pos_train_edge_embs, neg_train_edge_embs])\n",
    "# Create train-set edge labels: 1 = real edge, 0 = false edge\n",
    "train_edge_labels = np.concatenate([np.ones(len(train_edges)), np.zeros(len(train_edges_false))])"
   ]
  },
  {
   "cell_type": "code",
   "execution_count": 69,
   "metadata": {},
   "outputs": [
    {
     "data": {
      "text/plain": [
       "LogisticRegression(C=1.0, class_weight=None, dual=False, fit_intercept=True,\n",
       "          intercept_scaling=1, max_iter=100, multi_class='ovr', n_jobs=1,\n",
       "          penalty='l2', random_state=0, solver='liblinear', tol=0.0001,\n",
       "          verbose=0, warm_start=False)"
      ]
     },
     "execution_count": 69,
     "metadata": {},
     "output_type": "execute_result"
    }
   ],
   "source": [
    "# Train logistic regression classifier on train-set edge embeddings\n",
    "from sklearn.linear_model import LogisticRegression\n",
    "\n",
    "edge_classifier_2 = LogisticRegression(random_state=0)\n",
    "edge_classifier_2.fit(train_edge_embs, train_edge_labels)"
   ]
  },
  {
   "cell_type": "code",
   "execution_count": 70,
   "metadata": {
    "collapsed": true
   },
   "outputs": [],
   "source": [
    "test_preds_st = edge_classifier_2.predict_proba(test_edge_embs)[:, 1]\n",
    "test_roc = roc_auc_score(test_edge_labels, test_preds_st)\n",
    "test_ap = average_precision_score(test_edge_labels, test_preds_st)"
   ]
  },
  {
   "cell_type": "code",
   "execution_count": 71,
   "metadata": {},
   "outputs": [
    {
     "name": "stdout",
     "output_type": "stream",
     "text": [
      "GNE Test ROC score:  0.5077792537597847\n",
      "GNE Test AP score:  0.511080217350957\n"
     ]
    }
   ],
   "source": [
    "print('GNE Test ROC score: ', str(test_roc))\n",
    "print('GNE Test AP score: ', str(test_ap))"
   ]
  },
  {
   "cell_type": "code",
   "execution_count": null,
   "metadata": {
    "collapsed": true
   },
   "outputs": [],
   "source": []
  },
  {
   "cell_type": "code",
   "execution_count": 21,
   "metadata": {
    "collapsed": true
   },
   "outputs": [],
   "source": []
  },
  {
   "cell_type": "code",
   "execution_count": 114,
   "metadata": {
    "collapsed": true
   },
   "outputs": [],
   "source": [
    "evaluation_data = pd.read_csv(\"/Users/kk3671/Documents/ecoli_evaluation_data.txt\", header=None, sep=\" \")"
   ]
  },
  {
   "cell_type": "code",
   "execution_count": 115,
   "metadata": {
    "collapsed": true
   },
   "outputs": [],
   "source": [
    "test_edges = evaluation_data.iloc[:,:2].values"
   ]
  },
  {
   "cell_type": "code",
   "execution_count": 43,
   "metadata": {
    "collapsed": true
   },
   "outputs": [],
   "source": [
    "test_pos = evaluation_data.loc[evaluation_data.iloc[:,2]==1,:]"
   ]
  },
  {
   "cell_type": "code",
   "execution_count": 44,
   "metadata": {
    "collapsed": true
   },
   "outputs": [],
   "source": [
    "index = np.random.permutation(test_edges_false.shape[0])[:test_pos.shape[0]]"
   ]
  },
  {
   "cell_type": "code",
   "execution_count": 45,
   "metadata": {
    "collapsed": true
   },
   "outputs": [],
   "source": [
    "test_edges_neg = test_edges_false[index,:]"
   ]
  },
  {
   "cell_type": "code",
   "execution_count": 46,
   "metadata": {
    "collapsed": true
   },
   "outputs": [],
   "source": [
    "test_edges_data = np.concatenate([test_pos.values,test_edges_neg])"
   ]
  },
  {
   "cell_type": "code",
   "execution_count": 47,
   "metadata": {
    "collapsed": true
   },
   "outputs": [],
   "source": [
    "test_edge_labels = np.concatenate([np.ones(len(test_pos)), np.zeros(len(test_edges_neg))])"
   ]
  },
  {
   "cell_type": "code",
   "execution_count": 48,
   "metadata": {
    "collapsed": true
   },
   "outputs": [],
   "source": [
    "test_edge_embs = get_edge_embeddings(embeddings, test_edges_data)"
   ]
  },
  {
   "cell_type": "code",
   "execution_count": 49,
   "metadata": {
    "collapsed": true
   },
   "outputs": [],
   "source": [
    "test_edge_labels = evaluation_data.iloc[:,2].values"
   ]
  },
  {
   "cell_type": "code",
   "execution_count": 116,
   "metadata": {
    "collapsed": true
   },
   "outputs": [],
   "source": [
    "test_preds = edge_classifier_2.predict_proba(test_edge_embs)[:, 1]\n",
    "test_roc = roc_auc_score(test_edge_labels, test_preds)\n",
    "test_ap = average_precision_score(test_edge_labels, test_preds)"
   ]
  },
  {
   "cell_type": "code",
   "execution_count": 117,
   "metadata": {
    "scrolled": true
   },
   "outputs": [
    {
     "name": "stdout",
     "output_type": "stream",
     "text": [
      "GNE Test ROC score:  0.5077792537597847\n",
      "GNE Test AP score:  0.511080217350957\n"
     ]
    }
   ],
   "source": [
    "print('GNE Test ROC score: ', str(test_roc))\n",
    "print('GNE Test AP score: ', str(test_ap))"
   ]
  },
  {
   "cell_type": "code",
   "execution_count": 145,
   "metadata": {
    "collapsed": true
   },
   "outputs": [],
   "source": [
    "# structure\n",
    "# GNE Test ROC score:  0.610077816646\n",
    "# GNE Test AP score:  0.631067572097\n",
    "# all\n",
    "# GNE Test ROC score:  0.659983082131\n",
    "# GNE Test AP score:  0.669344240632"
   ]
  },
  {
   "cell_type": "code",
   "execution_count": 72,
   "metadata": {
    "collapsed": true
   },
   "outputs": [],
   "source": [
    "predictions = evaluation_data"
   ]
  },
  {
   "cell_type": "code",
   "execution_count": 127,
   "metadata": {
    "collapsed": true
   },
   "outputs": [],
   "source": [
    "predictions['structure'] = test_preds_st"
   ]
  },
  {
   "cell_type": "code",
   "execution_count": 74,
   "metadata": {
    "collapsed": true
   },
   "outputs": [],
   "source": [
    "predictions['all'] = test_preds"
   ]
  },
  {
   "cell_type": "code",
   "execution_count": 76,
   "metadata": {
    "collapsed": true
   },
   "outputs": [],
   "source": [
    "predictions['all_rank'] = predictions['all'].rank(ascending=False, method=\"dense\")"
   ]
  },
  {
   "cell_type": "code",
   "execution_count": 77,
   "metadata": {},
   "outputs": [
    {
     "data": {
      "text/html": [
       "<div>\n",
       "<style>\n",
       "    .dataframe thead tr:only-child th {\n",
       "        text-align: right;\n",
       "    }\n",
       "\n",
       "    .dataframe thead th {\n",
       "        text-align: left;\n",
       "    }\n",
       "\n",
       "    .dataframe tbody tr th {\n",
       "        vertical-align: top;\n",
       "    }\n",
       "</style>\n",
       "<table border=\"1\" class=\"dataframe\">\n",
       "  <thead>\n",
       "    <tr style=\"text-align: right;\">\n",
       "      <th></th>\n",
       "      <th>0</th>\n",
       "      <th>1</th>\n",
       "      <th>2</th>\n",
       "      <th>all</th>\n",
       "      <th>all_rank</th>\n",
       "    </tr>\n",
       "  </thead>\n",
       "  <tbody>\n",
       "    <tr>\n",
       "      <th>0</th>\n",
       "      <td>785</td>\n",
       "      <td>352</td>\n",
       "      <td>1</td>\n",
       "      <td>0.026261</td>\n",
       "      <td>13480.0</td>\n",
       "    </tr>\n",
       "    <tr>\n",
       "      <th>1</th>\n",
       "      <td>891</td>\n",
       "      <td>3843</td>\n",
       "      <td>1</td>\n",
       "      <td>0.012580</td>\n",
       "      <td>18854.0</td>\n",
       "    </tr>\n",
       "    <tr>\n",
       "      <th>2</th>\n",
       "      <td>3891</td>\n",
       "      <td>3481</td>\n",
       "      <td>1</td>\n",
       "      <td>0.085590</td>\n",
       "      <td>4485.0</td>\n",
       "    </tr>\n",
       "    <tr>\n",
       "      <th>3</th>\n",
       "      <td>3218</td>\n",
       "      <td>1545</td>\n",
       "      <td>1</td>\n",
       "      <td>0.007347</td>\n",
       "      <td>21029.0</td>\n",
       "    </tr>\n",
       "    <tr>\n",
       "      <th>4</th>\n",
       "      <td>4395</td>\n",
       "      <td>824</td>\n",
       "      <td>1</td>\n",
       "      <td>0.006208</td>\n",
       "      <td>21436.0</td>\n",
       "    </tr>\n",
       "    <tr>\n",
       "      <th>5</th>\n",
       "      <td>4083</td>\n",
       "      <td>1763</td>\n",
       "      <td>1</td>\n",
       "      <td>0.052131</td>\n",
       "      <td>7670.0</td>\n",
       "    </tr>\n",
       "    <tr>\n",
       "      <th>6</th>\n",
       "      <td>1238</td>\n",
       "      <td>3802</td>\n",
       "      <td>1</td>\n",
       "      <td>0.137096</td>\n",
       "      <td>2578.0</td>\n",
       "    </tr>\n",
       "    <tr>\n",
       "      <th>7</th>\n",
       "      <td>1238</td>\n",
       "      <td>2538</td>\n",
       "      <td>1</td>\n",
       "      <td>0.024972</td>\n",
       "      <td>13913.0</td>\n",
       "    </tr>\n",
       "    <tr>\n",
       "      <th>8</th>\n",
       "      <td>629</td>\n",
       "      <td>2476</td>\n",
       "      <td>1</td>\n",
       "      <td>0.034058</td>\n",
       "      <td>11183.0</td>\n",
       "    </tr>\n",
       "    <tr>\n",
       "      <th>9</th>\n",
       "      <td>395</td>\n",
       "      <td>3392</td>\n",
       "      <td>1</td>\n",
       "      <td>0.024345</td>\n",
       "      <td>14143.0</td>\n",
       "    </tr>\n",
       "    <tr>\n",
       "      <th>10</th>\n",
       "      <td>2938</td>\n",
       "      <td>2818</td>\n",
       "      <td>1</td>\n",
       "      <td>0.356100</td>\n",
       "      <td>802.0</td>\n",
       "    </tr>\n",
       "    <tr>\n",
       "      <th>11</th>\n",
       "      <td>2558</td>\n",
       "      <td>2452</td>\n",
       "      <td>1</td>\n",
       "      <td>0.033732</td>\n",
       "      <td>11268.0</td>\n",
       "    </tr>\n",
       "    <tr>\n",
       "      <th>12</th>\n",
       "      <td>996</td>\n",
       "      <td>3074</td>\n",
       "      <td>1</td>\n",
       "      <td>0.088624</td>\n",
       "      <td>4321.0</td>\n",
       "    </tr>\n",
       "    <tr>\n",
       "      <th>13</th>\n",
       "      <td>1553</td>\n",
       "      <td>1626</td>\n",
       "      <td>1</td>\n",
       "      <td>0.025548</td>\n",
       "      <td>13724.0</td>\n",
       "    </tr>\n",
       "    <tr>\n",
       "      <th>14</th>\n",
       "      <td>2819</td>\n",
       "      <td>2404</td>\n",
       "      <td>1</td>\n",
       "      <td>0.015041</td>\n",
       "      <td>17761.0</td>\n",
       "    </tr>\n",
       "    <tr>\n",
       "      <th>15</th>\n",
       "      <td>3868</td>\n",
       "      <td>4373</td>\n",
       "      <td>1</td>\n",
       "      <td>0.073410</td>\n",
       "      <td>5365.0</td>\n",
       "    </tr>\n",
       "    <tr>\n",
       "      <th>16</th>\n",
       "      <td>3988</td>\n",
       "      <td>4411</td>\n",
       "      <td>1</td>\n",
       "      <td>0.010409</td>\n",
       "      <td>19788.0</td>\n",
       "    </tr>\n",
       "    <tr>\n",
       "      <th>17</th>\n",
       "      <td>2643</td>\n",
       "      <td>3230</td>\n",
       "      <td>1</td>\n",
       "      <td>0.076778</td>\n",
       "      <td>5082.0</td>\n",
       "    </tr>\n",
       "    <tr>\n",
       "      <th>18</th>\n",
       "      <td>3324</td>\n",
       "      <td>753</td>\n",
       "      <td>1</td>\n",
       "      <td>0.126970</td>\n",
       "      <td>2818.0</td>\n",
       "    </tr>\n",
       "    <tr>\n",
       "      <th>19</th>\n",
       "      <td>2187</td>\n",
       "      <td>1007</td>\n",
       "      <td>1</td>\n",
       "      <td>0.053078</td>\n",
       "      <td>7551.0</td>\n",
       "    </tr>\n",
       "    <tr>\n",
       "      <th>20</th>\n",
       "      <td>210</td>\n",
       "      <td>3890</td>\n",
       "      <td>1</td>\n",
       "      <td>0.017242</td>\n",
       "      <td>16858.0</td>\n",
       "    </tr>\n",
       "    <tr>\n",
       "      <th>21</th>\n",
       "      <td>947</td>\n",
       "      <td>368</td>\n",
       "      <td>1</td>\n",
       "      <td>0.024425</td>\n",
       "      <td>14117.0</td>\n",
       "    </tr>\n",
       "    <tr>\n",
       "      <th>22</th>\n",
       "      <td>2975</td>\n",
       "      <td>1114</td>\n",
       "      <td>1</td>\n",
       "      <td>0.071609</td>\n",
       "      <td>5508.0</td>\n",
       "    </tr>\n",
       "    <tr>\n",
       "      <th>23</th>\n",
       "      <td>1861</td>\n",
       "      <td>3326</td>\n",
       "      <td>1</td>\n",
       "      <td>0.023884</td>\n",
       "      <td>14298.0</td>\n",
       "    </tr>\n",
       "    <tr>\n",
       "      <th>24</th>\n",
       "      <td>2075</td>\n",
       "      <td>2468</td>\n",
       "      <td>1</td>\n",
       "      <td>0.018857</td>\n",
       "      <td>16226.0</td>\n",
       "    </tr>\n",
       "    <tr>\n",
       "      <th>25</th>\n",
       "      <td>3225</td>\n",
       "      <td>2053</td>\n",
       "      <td>1</td>\n",
       "      <td>0.019019</td>\n",
       "      <td>16158.0</td>\n",
       "    </tr>\n",
       "    <tr>\n",
       "      <th>26</th>\n",
       "      <td>2582</td>\n",
       "      <td>1922</td>\n",
       "      <td>1</td>\n",
       "      <td>0.013862</td>\n",
       "      <td>18294.0</td>\n",
       "    </tr>\n",
       "    <tr>\n",
       "      <th>27</th>\n",
       "      <td>1933</td>\n",
       "      <td>3025</td>\n",
       "      <td>1</td>\n",
       "      <td>0.021654</td>\n",
       "      <td>15139.0</td>\n",
       "    </tr>\n",
       "    <tr>\n",
       "      <th>28</th>\n",
       "      <td>2416</td>\n",
       "      <td>2637</td>\n",
       "      <td>1</td>\n",
       "      <td>0.038535</td>\n",
       "      <td>10119.0</td>\n",
       "    </tr>\n",
       "    <tr>\n",
       "      <th>29</th>\n",
       "      <td>4363</td>\n",
       "      <td>2528</td>\n",
       "      <td>1</td>\n",
       "      <td>0.006026</td>\n",
       "      <td>21491.0</td>\n",
       "    </tr>\n",
       "    <tr>\n",
       "      <th>...</th>\n",
       "      <td>...</td>\n",
       "      <td>...</td>\n",
       "      <td>...</td>\n",
       "      <td>...</td>\n",
       "      <td>...</td>\n",
       "    </tr>\n",
       "    <tr>\n",
       "      <th>22336</th>\n",
       "      <td>2828</td>\n",
       "      <td>3969</td>\n",
       "      <td>0</td>\n",
       "      <td>0.216882</td>\n",
       "      <td>1487.0</td>\n",
       "    </tr>\n",
       "    <tr>\n",
       "      <th>22337</th>\n",
       "      <td>2015</td>\n",
       "      <td>1736</td>\n",
       "      <td>0</td>\n",
       "      <td>0.033073</td>\n",
       "      <td>11441.0</td>\n",
       "    </tr>\n",
       "    <tr>\n",
       "      <th>22338</th>\n",
       "      <td>3697</td>\n",
       "      <td>2593</td>\n",
       "      <td>0</td>\n",
       "      <td>0.087030</td>\n",
       "      <td>4406.0</td>\n",
       "    </tr>\n",
       "    <tr>\n",
       "      <th>22339</th>\n",
       "      <td>4300</td>\n",
       "      <td>93</td>\n",
       "      <td>0</td>\n",
       "      <td>0.036075</td>\n",
       "      <td>10683.0</td>\n",
       "    </tr>\n",
       "    <tr>\n",
       "      <th>22340</th>\n",
       "      <td>4437</td>\n",
       "      <td>2263</td>\n",
       "      <td>0</td>\n",
       "      <td>0.037834</td>\n",
       "      <td>10277.0</td>\n",
       "    </tr>\n",
       "    <tr>\n",
       "      <th>22341</th>\n",
       "      <td>2222</td>\n",
       "      <td>693</td>\n",
       "      <td>0</td>\n",
       "      <td>0.077098</td>\n",
       "      <td>5065.0</td>\n",
       "    </tr>\n",
       "    <tr>\n",
       "      <th>22342</th>\n",
       "      <td>3630</td>\n",
       "      <td>1770</td>\n",
       "      <td>0</td>\n",
       "      <td>0.094166</td>\n",
       "      <td>4024.0</td>\n",
       "    </tr>\n",
       "    <tr>\n",
       "      <th>22343</th>\n",
       "      <td>3886</td>\n",
       "      <td>1162</td>\n",
       "      <td>0</td>\n",
       "      <td>0.031371</td>\n",
       "      <td>11903.0</td>\n",
       "    </tr>\n",
       "    <tr>\n",
       "      <th>22344</th>\n",
       "      <td>1666</td>\n",
       "      <td>931</td>\n",
       "      <td>0</td>\n",
       "      <td>0.254293</td>\n",
       "      <td>1220.0</td>\n",
       "    </tr>\n",
       "    <tr>\n",
       "      <th>22345</th>\n",
       "      <td>2513</td>\n",
       "      <td>1190</td>\n",
       "      <td>0</td>\n",
       "      <td>0.032611</td>\n",
       "      <td>11557.0</td>\n",
       "    </tr>\n",
       "    <tr>\n",
       "      <th>22346</th>\n",
       "      <td>2001</td>\n",
       "      <td>2702</td>\n",
       "      <td>0</td>\n",
       "      <td>0.095184</td>\n",
       "      <td>3974.0</td>\n",
       "    </tr>\n",
       "    <tr>\n",
       "      <th>22347</th>\n",
       "      <td>274</td>\n",
       "      <td>3066</td>\n",
       "      <td>0</td>\n",
       "      <td>0.011504</td>\n",
       "      <td>19313.0</td>\n",
       "    </tr>\n",
       "    <tr>\n",
       "      <th>22348</th>\n",
       "      <td>1875</td>\n",
       "      <td>2738</td>\n",
       "      <td>0</td>\n",
       "      <td>0.101777</td>\n",
       "      <td>3663.0</td>\n",
       "    </tr>\n",
       "    <tr>\n",
       "      <th>22349</th>\n",
       "      <td>3647</td>\n",
       "      <td>3302</td>\n",
       "      <td>0</td>\n",
       "      <td>0.155479</td>\n",
       "      <td>2226.0</td>\n",
       "    </tr>\n",
       "    <tr>\n",
       "      <th>22350</th>\n",
       "      <td>3487</td>\n",
       "      <td>3568</td>\n",
       "      <td>0</td>\n",
       "      <td>0.087844</td>\n",
       "      <td>4362.0</td>\n",
       "    </tr>\n",
       "    <tr>\n",
       "      <th>22351</th>\n",
       "      <td>342</td>\n",
       "      <td>4071</td>\n",
       "      <td>0</td>\n",
       "      <td>0.015113</td>\n",
       "      <td>17725.0</td>\n",
       "    </tr>\n",
       "    <tr>\n",
       "      <th>22352</th>\n",
       "      <td>1008</td>\n",
       "      <td>2195</td>\n",
       "      <td>0</td>\n",
       "      <td>0.032846</td>\n",
       "      <td>11499.0</td>\n",
       "    </tr>\n",
       "    <tr>\n",
       "      <th>22353</th>\n",
       "      <td>2459</td>\n",
       "      <td>1356</td>\n",
       "      <td>0</td>\n",
       "      <td>0.009861</td>\n",
       "      <td>20025.0</td>\n",
       "    </tr>\n",
       "    <tr>\n",
       "      <th>22354</th>\n",
       "      <td>4333</td>\n",
       "      <td>3914</td>\n",
       "      <td>0</td>\n",
       "      <td>0.034098</td>\n",
       "      <td>11170.0</td>\n",
       "    </tr>\n",
       "    <tr>\n",
       "      <th>22355</th>\n",
       "      <td>2399</td>\n",
       "      <td>3983</td>\n",
       "      <td>0</td>\n",
       "      <td>0.072869</td>\n",
       "      <td>5409.0</td>\n",
       "    </tr>\n",
       "    <tr>\n",
       "      <th>22356</th>\n",
       "      <td>2230</td>\n",
       "      <td>396</td>\n",
       "      <td>0</td>\n",
       "      <td>0.047880</td>\n",
       "      <td>8341.0</td>\n",
       "    </tr>\n",
       "    <tr>\n",
       "      <th>22357</th>\n",
       "      <td>168</td>\n",
       "      <td>2121</td>\n",
       "      <td>0</td>\n",
       "      <td>0.011020</td>\n",
       "      <td>19533.0</td>\n",
       "    </tr>\n",
       "    <tr>\n",
       "      <th>22358</th>\n",
       "      <td>3339</td>\n",
       "      <td>1533</td>\n",
       "      <td>0</td>\n",
       "      <td>0.053103</td>\n",
       "      <td>7545.0</td>\n",
       "    </tr>\n",
       "    <tr>\n",
       "      <th>22359</th>\n",
       "      <td>2300</td>\n",
       "      <td>1268</td>\n",
       "      <td>0</td>\n",
       "      <td>0.021462</td>\n",
       "      <td>15199.0</td>\n",
       "    </tr>\n",
       "    <tr>\n",
       "      <th>22360</th>\n",
       "      <td>336</td>\n",
       "      <td>1318</td>\n",
       "      <td>0</td>\n",
       "      <td>0.076986</td>\n",
       "      <td>5071.0</td>\n",
       "    </tr>\n",
       "    <tr>\n",
       "      <th>22361</th>\n",
       "      <td>203</td>\n",
       "      <td>2200</td>\n",
       "      <td>0</td>\n",
       "      <td>0.005821</td>\n",
       "      <td>21549.0</td>\n",
       "    </tr>\n",
       "    <tr>\n",
       "      <th>22362</th>\n",
       "      <td>1307</td>\n",
       "      <td>3981</td>\n",
       "      <td>0</td>\n",
       "      <td>0.055523</td>\n",
       "      <td>7182.0</td>\n",
       "    </tr>\n",
       "    <tr>\n",
       "      <th>22363</th>\n",
       "      <td>1456</td>\n",
       "      <td>556</td>\n",
       "      <td>0</td>\n",
       "      <td>0.014402</td>\n",
       "      <td>18050.0</td>\n",
       "    </tr>\n",
       "    <tr>\n",
       "      <th>22364</th>\n",
       "      <td>824</td>\n",
       "      <td>171</td>\n",
       "      <td>0</td>\n",
       "      <td>0.038984</td>\n",
       "      <td>10022.0</td>\n",
       "    </tr>\n",
       "    <tr>\n",
       "      <th>22365</th>\n",
       "      <td>3045</td>\n",
       "      <td>4146</td>\n",
       "      <td>0</td>\n",
       "      <td>0.012480</td>\n",
       "      <td>18904.0</td>\n",
       "    </tr>\n",
       "  </tbody>\n",
       "</table>\n",
       "<p>22366 rows × 5 columns</p>\n",
       "</div>"
      ],
      "text/plain": [
       "          0     1  2       all  all_rank\n",
       "0       785   352  1  0.026261   13480.0\n",
       "1       891  3843  1  0.012580   18854.0\n",
       "2      3891  3481  1  0.085590    4485.0\n",
       "3      3218  1545  1  0.007347   21029.0\n",
       "4      4395   824  1  0.006208   21436.0\n",
       "5      4083  1763  1  0.052131    7670.0\n",
       "6      1238  3802  1  0.137096    2578.0\n",
       "7      1238  2538  1  0.024972   13913.0\n",
       "8       629  2476  1  0.034058   11183.0\n",
       "9       395  3392  1  0.024345   14143.0\n",
       "10     2938  2818  1  0.356100     802.0\n",
       "11     2558  2452  1  0.033732   11268.0\n",
       "12      996  3074  1  0.088624    4321.0\n",
       "13     1553  1626  1  0.025548   13724.0\n",
       "14     2819  2404  1  0.015041   17761.0\n",
       "15     3868  4373  1  0.073410    5365.0\n",
       "16     3988  4411  1  0.010409   19788.0\n",
       "17     2643  3230  1  0.076778    5082.0\n",
       "18     3324   753  1  0.126970    2818.0\n",
       "19     2187  1007  1  0.053078    7551.0\n",
       "20      210  3890  1  0.017242   16858.0\n",
       "21      947   368  1  0.024425   14117.0\n",
       "22     2975  1114  1  0.071609    5508.0\n",
       "23     1861  3326  1  0.023884   14298.0\n",
       "24     2075  2468  1  0.018857   16226.0\n",
       "25     3225  2053  1  0.019019   16158.0\n",
       "26     2582  1922  1  0.013862   18294.0\n",
       "27     1933  3025  1  0.021654   15139.0\n",
       "28     2416  2637  1  0.038535   10119.0\n",
       "29     4363  2528  1  0.006026   21491.0\n",
       "...     ...   ... ..       ...       ...\n",
       "22336  2828  3969  0  0.216882    1487.0\n",
       "22337  2015  1736  0  0.033073   11441.0\n",
       "22338  3697  2593  0  0.087030    4406.0\n",
       "22339  4300    93  0  0.036075   10683.0\n",
       "22340  4437  2263  0  0.037834   10277.0\n",
       "22341  2222   693  0  0.077098    5065.0\n",
       "22342  3630  1770  0  0.094166    4024.0\n",
       "22343  3886  1162  0  0.031371   11903.0\n",
       "22344  1666   931  0  0.254293    1220.0\n",
       "22345  2513  1190  0  0.032611   11557.0\n",
       "22346  2001  2702  0  0.095184    3974.0\n",
       "22347   274  3066  0  0.011504   19313.0\n",
       "22348  1875  2738  0  0.101777    3663.0\n",
       "22349  3647  3302  0  0.155479    2226.0\n",
       "22350  3487  3568  0  0.087844    4362.0\n",
       "22351   342  4071  0  0.015113   17725.0\n",
       "22352  1008  2195  0  0.032846   11499.0\n",
       "22353  2459  1356  0  0.009861   20025.0\n",
       "22354  4333  3914  0  0.034098   11170.0\n",
       "22355  2399  3983  0  0.072869    5409.0\n",
       "22356  2230   396  0  0.047880    8341.0\n",
       "22357   168  2121  0  0.011020   19533.0\n",
       "22358  3339  1533  0  0.053103    7545.0\n",
       "22359  2300  1268  0  0.021462   15199.0\n",
       "22360   336  1318  0  0.076986    5071.0\n",
       "22361   203  2200  0  0.005821   21549.0\n",
       "22362  1307  3981  0  0.055523    7182.0\n",
       "22363  1456   556  0  0.014402   18050.0\n",
       "22364   824   171  0  0.038984   10022.0\n",
       "22365  3045  4146  0  0.012480   18904.0\n",
       "\n",
       "[22366 rows x 5 columns]"
      ]
     },
     "execution_count": 77,
     "metadata": {},
     "output_type": "execute_result"
    }
   ],
   "source": [
    "predictions"
   ]
  },
  {
   "cell_type": "code",
   "execution_count": null,
   "metadata": {
    "collapsed": true
   },
   "outputs": [],
   "source": [
    "# Structure only\n",
    "# GNE Test ROC score:  0.779685103723\n",
    "# GNE Test AP score:  0.781139913429"
   ]
  },
  {
   "cell_type": "code",
   "execution_count": null,
   "metadata": {
    "collapsed": true
   },
   "outputs": [],
   "source": [
    "# all only\n",
    "# GNE Test ROC score:  0.827404280591\n",
    "# GNE Test AP score:  0.824513278629"
   ]
  },
  {
   "cell_type": "code",
   "execution_count": 130,
   "metadata": {
    "collapsed": true
   },
   "outputs": [],
   "source": [
    "predictions['structure_rank'] = predictions['structure'].rank(ascending=False, method=\"dense\")\n",
    "predictions['all_rank'] = predictions['all'].rank(ascending=False, method=\"dense\")"
   ]
  },
  {
   "cell_type": "code",
   "execution_count": 131,
   "metadata": {
    "collapsed": true
   },
   "outputs": [],
   "source": [
    "\n",
    "improved_predictions = predictions.loc[(predictions.loc[:,'structure']<predictions.loc[:,'all'])]"
   ]
  },
  {
   "cell_type": "code",
   "execution_count": 132,
   "metadata": {},
   "outputs": [
    {
     "name": "stderr",
     "output_type": "stream",
     "text": [
      "/Users/kk3671/anaconda3/lib/python3.6/site-packages/ipykernel_launcher.py:1: SettingWithCopyWarning: \n",
      "A value is trying to be set on a copy of a slice from a DataFrame.\n",
      "Try using .loc[row_indexer,col_indexer] = value instead\n",
      "\n",
      "See the caveats in the documentation: http://pandas.pydata.org/pandas-docs/stable/indexing.html#indexing-view-versus-copy\n",
      "  \"\"\"Entry point for launching an IPython kernel.\n"
     ]
    }
   ],
   "source": [
    "improved_predictions['diff'] = predictions.loc[:,'all'] - predictions.loc[:,'structure']"
   ]
  },
  {
   "cell_type": "code",
   "execution_count": 133,
   "metadata": {
    "collapsed": true
   },
   "outputs": [],
   "source": [
    "improved_predictions = improved_predictions.loc[improved_predictions.loc[:,2]==1]"
   ]
  },
  {
   "cell_type": "code",
   "execution_count": 134,
   "metadata": {},
   "outputs": [
    {
     "data": {
      "text/html": [
       "<div>\n",
       "<style>\n",
       "    .dataframe thead tr:only-child th {\n",
       "        text-align: right;\n",
       "    }\n",
       "\n",
       "    .dataframe thead th {\n",
       "        text-align: left;\n",
       "    }\n",
       "\n",
       "    .dataframe tbody tr th {\n",
       "        vertical-align: top;\n",
       "    }\n",
       "</style>\n",
       "<table border=\"1\" class=\"dataframe\">\n",
       "  <thead>\n",
       "    <tr style=\"text-align: right;\">\n",
       "      <th></th>\n",
       "      <th>0</th>\n",
       "      <th>1</th>\n",
       "      <th>2</th>\n",
       "      <th>all</th>\n",
       "      <th>structure</th>\n",
       "      <th>structure_rank</th>\n",
       "      <th>all_rank</th>\n",
       "      <th>diff</th>\n",
       "    </tr>\n",
       "  </thead>\n",
       "  <tbody>\n",
       "    <tr>\n",
       "      <th>292</th>\n",
       "      <td>3364</td>\n",
       "      <td>3531</td>\n",
       "      <td>1</td>\n",
       "      <td>0.393513</td>\n",
       "      <td>0.033699</td>\n",
       "      <td>15773.0</td>\n",
       "      <td>4034.0</td>\n",
       "      <td>0.359813</td>\n",
       "    </tr>\n",
       "    <tr>\n",
       "      <th>6890</th>\n",
       "      <td>1777</td>\n",
       "      <td>1498</td>\n",
       "      <td>1</td>\n",
       "      <td>0.630188</td>\n",
       "      <td>0.316499</td>\n",
       "      <td>7277.0</td>\n",
       "      <td>2914.0</td>\n",
       "      <td>0.313689</td>\n",
       "    </tr>\n",
       "    <tr>\n",
       "      <th>8311</th>\n",
       "      <td>3188</td>\n",
       "      <td>4235</td>\n",
       "      <td>1</td>\n",
       "      <td>0.435497</td>\n",
       "      <td>0.122235</td>\n",
       "      <td>10616.0</td>\n",
       "      <td>3766.0</td>\n",
       "      <td>0.313262</td>\n",
       "    </tr>\n",
       "    <tr>\n",
       "      <th>8121</th>\n",
       "      <td>2672</td>\n",
       "      <td>1951</td>\n",
       "      <td>1</td>\n",
       "      <td>0.370983</td>\n",
       "      <td>0.059259</td>\n",
       "      <td>13509.0</td>\n",
       "      <td>4200.0</td>\n",
       "      <td>0.311723</td>\n",
       "    </tr>\n",
       "    <tr>\n",
       "      <th>4510</th>\n",
       "      <td>4259</td>\n",
       "      <td>1451</td>\n",
       "      <td>1</td>\n",
       "      <td>0.828618</td>\n",
       "      <td>0.531792</td>\n",
       "      <td>5727.0</td>\n",
       "      <td>2174.0</td>\n",
       "      <td>0.296825</td>\n",
       "    </tr>\n",
       "    <tr>\n",
       "      <th>9684</th>\n",
       "      <td>3144</td>\n",
       "      <td>4385</td>\n",
       "      <td>1</td>\n",
       "      <td>0.445331</td>\n",
       "      <td>0.150841</td>\n",
       "      <td>9832.0</td>\n",
       "      <td>3711.0</td>\n",
       "      <td>0.294489</td>\n",
       "    </tr>\n",
       "    <tr>\n",
       "      <th>8070</th>\n",
       "      <td>1498</td>\n",
       "      <td>3257</td>\n",
       "      <td>1</td>\n",
       "      <td>0.407909</td>\n",
       "      <td>0.115836</td>\n",
       "      <td>10824.0</td>\n",
       "      <td>3930.0</td>\n",
       "      <td>0.292073</td>\n",
       "    </tr>\n",
       "    <tr>\n",
       "      <th>10793</th>\n",
       "      <td>4385</td>\n",
       "      <td>4489</td>\n",
       "      <td>1</td>\n",
       "      <td>0.495331</td>\n",
       "      <td>0.210215</td>\n",
       "      <td>8629.0</td>\n",
       "      <td>3448.0</td>\n",
       "      <td>0.285116</td>\n",
       "    </tr>\n",
       "    <tr>\n",
       "      <th>9993</th>\n",
       "      <td>3618</td>\n",
       "      <td>2120</td>\n",
       "      <td>1</td>\n",
       "      <td>0.491162</td>\n",
       "      <td>0.207576</td>\n",
       "      <td>8668.0</td>\n",
       "      <td>3470.0</td>\n",
       "      <td>0.283586</td>\n",
       "    </tr>\n",
       "    <tr>\n",
       "      <th>4889</th>\n",
       "      <td>2317</td>\n",
       "      <td>3279</td>\n",
       "      <td>1</td>\n",
       "      <td>0.514219</td>\n",
       "      <td>0.253267</td>\n",
       "      <td>7968.0</td>\n",
       "      <td>3348.0</td>\n",
       "      <td>0.260952</td>\n",
       "    </tr>\n",
       "    <tr>\n",
       "      <th>8338</th>\n",
       "      <td>3890</td>\n",
       "      <td>2782</td>\n",
       "      <td>1</td>\n",
       "      <td>0.320523</td>\n",
       "      <td>0.071803</td>\n",
       "      <td>12723.0</td>\n",
       "      <td>4620.0</td>\n",
       "      <td>0.248720</td>\n",
       "    </tr>\n",
       "    <tr>\n",
       "      <th>5782</th>\n",
       "      <td>2894</td>\n",
       "      <td>2781</td>\n",
       "      <td>1</td>\n",
       "      <td>0.451985</td>\n",
       "      <td>0.203908</td>\n",
       "      <td>8732.0</td>\n",
       "      <td>3674.0</td>\n",
       "      <td>0.248077</td>\n",
       "    </tr>\n",
       "    <tr>\n",
       "      <th>288</th>\n",
       "      <td>4459</td>\n",
       "      <td>3962</td>\n",
       "      <td>1</td>\n",
       "      <td>0.482330</td>\n",
       "      <td>0.242248</td>\n",
       "      <td>8126.0</td>\n",
       "      <td>3507.0</td>\n",
       "      <td>0.240082</td>\n",
       "    </tr>\n",
       "    <tr>\n",
       "      <th>675</th>\n",
       "      <td>2958</td>\n",
       "      <td>4385</td>\n",
       "      <td>1</td>\n",
       "      <td>0.593468</td>\n",
       "      <td>0.354801</td>\n",
       "      <td>6939.0</td>\n",
       "      <td>3039.0</td>\n",
       "      <td>0.238667</td>\n",
       "    </tr>\n",
       "    <tr>\n",
       "      <th>7535</th>\n",
       "      <td>2339</td>\n",
       "      <td>712</td>\n",
       "      <td>1</td>\n",
       "      <td>0.390389</td>\n",
       "      <td>0.152257</td>\n",
       "      <td>9798.0</td>\n",
       "      <td>4061.0</td>\n",
       "      <td>0.238131</td>\n",
       "    </tr>\n",
       "    <tr>\n",
       "      <th>6933</th>\n",
       "      <td>1372</td>\n",
       "      <td>3038</td>\n",
       "      <td>1</td>\n",
       "      <td>0.465585</td>\n",
       "      <td>0.230476</td>\n",
       "      <td>8292.0</td>\n",
       "      <td>3593.0</td>\n",
       "      <td>0.235108</td>\n",
       "    </tr>\n",
       "    <tr>\n",
       "      <th>1730</th>\n",
       "      <td>3542</td>\n",
       "      <td>1098</td>\n",
       "      <td>1</td>\n",
       "      <td>0.384477</td>\n",
       "      <td>0.151756</td>\n",
       "      <td>9809.0</td>\n",
       "      <td>4104.0</td>\n",
       "      <td>0.232721</td>\n",
       "    </tr>\n",
       "    <tr>\n",
       "      <th>10715</th>\n",
       "      <td>3432</td>\n",
       "      <td>1098</td>\n",
       "      <td>1</td>\n",
       "      <td>0.427052</td>\n",
       "      <td>0.194814</td>\n",
       "      <td>8894.0</td>\n",
       "      <td>3812.0</td>\n",
       "      <td>0.232238</td>\n",
       "    </tr>\n",
       "    <tr>\n",
       "      <th>4063</th>\n",
       "      <td>4479</td>\n",
       "      <td>4003</td>\n",
       "      <td>1</td>\n",
       "      <td>0.333971</td>\n",
       "      <td>0.103224</td>\n",
       "      <td>11241.0</td>\n",
       "      <td>4493.0</td>\n",
       "      <td>0.230746</td>\n",
       "    </tr>\n",
       "    <tr>\n",
       "      <th>303</th>\n",
       "      <td>471</td>\n",
       "      <td>3714</td>\n",
       "      <td>1</td>\n",
       "      <td>0.457406</td>\n",
       "      <td>0.227651</td>\n",
       "      <td>8340.0</td>\n",
       "      <td>3646.0</td>\n",
       "      <td>0.229755</td>\n",
       "    </tr>\n",
       "    <tr>\n",
       "      <th>3500</th>\n",
       "      <td>1372</td>\n",
       "      <td>4018</td>\n",
       "      <td>1</td>\n",
       "      <td>0.323859</td>\n",
       "      <td>0.100970</td>\n",
       "      <td>11327.0</td>\n",
       "      <td>4593.0</td>\n",
       "      <td>0.222889</td>\n",
       "    </tr>\n",
       "    <tr>\n",
       "      <th>8261</th>\n",
       "      <td>1839</td>\n",
       "      <td>690</td>\n",
       "      <td>1</td>\n",
       "      <td>0.293431</td>\n",
       "      <td>0.070887</td>\n",
       "      <td>12779.0</td>\n",
       "      <td>4882.0</td>\n",
       "      <td>0.222544</td>\n",
       "    </tr>\n",
       "    <tr>\n",
       "      <th>1870</th>\n",
       "      <td>2251</td>\n",
       "      <td>1457</td>\n",
       "      <td>1</td>\n",
       "      <td>0.334182</td>\n",
       "      <td>0.112183</td>\n",
       "      <td>10949.0</td>\n",
       "      <td>4491.0</td>\n",
       "      <td>0.221999</td>\n",
       "    </tr>\n",
       "    <tr>\n",
       "      <th>8320</th>\n",
       "      <td>3863</td>\n",
       "      <td>4011</td>\n",
       "      <td>1</td>\n",
       "      <td>0.354355</td>\n",
       "      <td>0.137953</td>\n",
       "      <td>10191.0</td>\n",
       "      <td>4332.0</td>\n",
       "      <td>0.216402</td>\n",
       "    </tr>\n",
       "    <tr>\n",
       "      <th>3597</th>\n",
       "      <td>3997</td>\n",
       "      <td>1007</td>\n",
       "      <td>1</td>\n",
       "      <td>0.389290</td>\n",
       "      <td>0.173272</td>\n",
       "      <td>9314.0</td>\n",
       "      <td>4065.0</td>\n",
       "      <td>0.216018</td>\n",
       "    </tr>\n",
       "    <tr>\n",
       "      <th>10176</th>\n",
       "      <td>1615</td>\n",
       "      <td>1098</td>\n",
       "      <td>1</td>\n",
       "      <td>0.454757</td>\n",
       "      <td>0.241451</td>\n",
       "      <td>8134.0</td>\n",
       "      <td>3658.0</td>\n",
       "      <td>0.213306</td>\n",
       "    </tr>\n",
       "    <tr>\n",
       "      <th>10314</th>\n",
       "      <td>1498</td>\n",
       "      <td>994</td>\n",
       "      <td>1</td>\n",
       "      <td>0.362996</td>\n",
       "      <td>0.150708</td>\n",
       "      <td>9835.0</td>\n",
       "      <td>4269.0</td>\n",
       "      <td>0.212288</td>\n",
       "    </tr>\n",
       "    <tr>\n",
       "      <th>1909</th>\n",
       "      <td>1498</td>\n",
       "      <td>1892</td>\n",
       "      <td>1</td>\n",
       "      <td>0.382772</td>\n",
       "      <td>0.174362</td>\n",
       "      <td>9294.0</td>\n",
       "      <td>4117.0</td>\n",
       "      <td>0.208409</td>\n",
       "    </tr>\n",
       "    <tr>\n",
       "      <th>610</th>\n",
       "      <td>3531</td>\n",
       "      <td>2072</td>\n",
       "      <td>1</td>\n",
       "      <td>0.539970</td>\n",
       "      <td>0.331776</td>\n",
       "      <td>7131.0</td>\n",
       "      <td>3246.0</td>\n",
       "      <td>0.208194</td>\n",
       "    </tr>\n",
       "    <tr>\n",
       "      <th>1290</th>\n",
       "      <td>4479</td>\n",
       "      <td>1498</td>\n",
       "      <td>1</td>\n",
       "      <td>0.261639</td>\n",
       "      <td>0.054376</td>\n",
       "      <td>13878.0</td>\n",
       "      <td>5232.0</td>\n",
       "      <td>0.207263</td>\n",
       "    </tr>\n",
       "    <tr>\n",
       "      <th>...</th>\n",
       "      <td>...</td>\n",
       "      <td>...</td>\n",
       "      <td>...</td>\n",
       "      <td>...</td>\n",
       "      <td>...</td>\n",
       "      <td>...</td>\n",
       "      <td>...</td>\n",
       "      <td>...</td>\n",
       "    </tr>\n",
       "    <tr>\n",
       "      <th>1475</th>\n",
       "      <td>1978</td>\n",
       "      <td>743</td>\n",
       "      <td>1</td>\n",
       "      <td>0.026890</td>\n",
       "      <td>0.026716</td>\n",
       "      <td>16643.0</td>\n",
       "      <td>15487.0</td>\n",
       "      <td>0.000175</td>\n",
       "    </tr>\n",
       "    <tr>\n",
       "      <th>1635</th>\n",
       "      <td>2640</td>\n",
       "      <td>3122</td>\n",
       "      <td>1</td>\n",
       "      <td>0.259606</td>\n",
       "      <td>0.259434</td>\n",
       "      <td>7892.0</td>\n",
       "      <td>5266.0</td>\n",
       "      <td>0.000172</td>\n",
       "    </tr>\n",
       "    <tr>\n",
       "      <th>1770</th>\n",
       "      <td>2340</td>\n",
       "      <td>3205</td>\n",
       "      <td>1</td>\n",
       "      <td>0.019604</td>\n",
       "      <td>0.019436</td>\n",
       "      <td>17776.0</td>\n",
       "      <td>17007.0</td>\n",
       "      <td>0.000168</td>\n",
       "    </tr>\n",
       "    <tr>\n",
       "      <th>2341</th>\n",
       "      <td>4175</td>\n",
       "      <td>2283</td>\n",
       "      <td>1</td>\n",
       "      <td>0.004540</td>\n",
       "      <td>0.004373</td>\n",
       "      <td>21224.0</td>\n",
       "      <td>21499.0</td>\n",
       "      <td>0.000167</td>\n",
       "    </tr>\n",
       "    <tr>\n",
       "      <th>712</th>\n",
       "      <td>1630</td>\n",
       "      <td>2956</td>\n",
       "      <td>1</td>\n",
       "      <td>0.020566</td>\n",
       "      <td>0.020399</td>\n",
       "      <td>17621.0</td>\n",
       "      <td>16773.0</td>\n",
       "      <td>0.000166</td>\n",
       "    </tr>\n",
       "    <tr>\n",
       "      <th>10542</th>\n",
       "      <td>975</td>\n",
       "      <td>1762</td>\n",
       "      <td>1</td>\n",
       "      <td>0.002021</td>\n",
       "      <td>0.001860</td>\n",
       "      <td>21960.0</td>\n",
       "      <td>22159.0</td>\n",
       "      <td>0.000160</td>\n",
       "    </tr>\n",
       "    <tr>\n",
       "      <th>182</th>\n",
       "      <td>1150</td>\n",
       "      <td>2992</td>\n",
       "      <td>1</td>\n",
       "      <td>0.027400</td>\n",
       "      <td>0.027257</td>\n",
       "      <td>16555.0</td>\n",
       "      <td>15394.0</td>\n",
       "      <td>0.000144</td>\n",
       "    </tr>\n",
       "    <tr>\n",
       "      <th>5713</th>\n",
       "      <td>4061</td>\n",
       "      <td>856</td>\n",
       "      <td>1</td>\n",
       "      <td>0.005002</td>\n",
       "      <td>0.004862</td>\n",
       "      <td>21072.0</td>\n",
       "      <td>21357.0</td>\n",
       "      <td>0.000140</td>\n",
       "    </tr>\n",
       "    <tr>\n",
       "      <th>411</th>\n",
       "      <td>2665</td>\n",
       "      <td>380</td>\n",
       "      <td>1</td>\n",
       "      <td>0.012964</td>\n",
       "      <td>0.012832</td>\n",
       "      <td>19035.0</td>\n",
       "      <td>18803.0</td>\n",
       "      <td>0.000132</td>\n",
       "    </tr>\n",
       "    <tr>\n",
       "      <th>7668</th>\n",
       "      <td>2576</td>\n",
       "      <td>858</td>\n",
       "      <td>1</td>\n",
       "      <td>0.014210</td>\n",
       "      <td>0.014100</td>\n",
       "      <td>18766.0</td>\n",
       "      <td>18425.0</td>\n",
       "      <td>0.000110</td>\n",
       "    </tr>\n",
       "    <tr>\n",
       "      <th>2858</th>\n",
       "      <td>3281</td>\n",
       "      <td>2457</td>\n",
       "      <td>1</td>\n",
       "      <td>0.002789</td>\n",
       "      <td>0.002700</td>\n",
       "      <td>21726.0</td>\n",
       "      <td>22014.0</td>\n",
       "      <td>0.000088</td>\n",
       "    </tr>\n",
       "    <tr>\n",
       "      <th>2393</th>\n",
       "      <td>1265</td>\n",
       "      <td>1686</td>\n",
       "      <td>1</td>\n",
       "      <td>0.001945</td>\n",
       "      <td>0.001860</td>\n",
       "      <td>21959.0</td>\n",
       "      <td>22176.0</td>\n",
       "      <td>0.000085</td>\n",
       "    </tr>\n",
       "    <tr>\n",
       "      <th>8345</th>\n",
       "      <td>1296</td>\n",
       "      <td>2476</td>\n",
       "      <td>1</td>\n",
       "      <td>0.003440</td>\n",
       "      <td>0.003361</td>\n",
       "      <td>21530.0</td>\n",
       "      <td>21830.0</td>\n",
       "      <td>0.000079</td>\n",
       "    </tr>\n",
       "    <tr>\n",
       "      <th>4319</th>\n",
       "      <td>3456</td>\n",
       "      <td>3916</td>\n",
       "      <td>1</td>\n",
       "      <td>0.006671</td>\n",
       "      <td>0.006605</td>\n",
       "      <td>20568.0</td>\n",
       "      <td>20797.0</td>\n",
       "      <td>0.000066</td>\n",
       "    </tr>\n",
       "    <tr>\n",
       "      <th>2748</th>\n",
       "      <td>3368</td>\n",
       "      <td>4011</td>\n",
       "      <td>1</td>\n",
       "      <td>0.077041</td>\n",
       "      <td>0.076985</td>\n",
       "      <td>12425.0</td>\n",
       "      <td>10156.0</td>\n",
       "      <td>0.000056</td>\n",
       "    </tr>\n",
       "    <tr>\n",
       "      <th>9816</th>\n",
       "      <td>975</td>\n",
       "      <td>568</td>\n",
       "      <td>1</td>\n",
       "      <td>0.005237</td>\n",
       "      <td>0.005184</td>\n",
       "      <td>20983.0</td>\n",
       "      <td>21277.0</td>\n",
       "      <td>0.000053</td>\n",
       "    </tr>\n",
       "    <tr>\n",
       "      <th>8638</th>\n",
       "      <td>3095</td>\n",
       "      <td>2808</td>\n",
       "      <td>1</td>\n",
       "      <td>0.005843</td>\n",
       "      <td>0.005792</td>\n",
       "      <td>20790.0</td>\n",
       "      <td>21077.0</td>\n",
       "      <td>0.000051</td>\n",
       "    </tr>\n",
       "    <tr>\n",
       "      <th>3764</th>\n",
       "      <td>1215</td>\n",
       "      <td>68</td>\n",
       "      <td>1</td>\n",
       "      <td>0.031882</td>\n",
       "      <td>0.031832</td>\n",
       "      <td>15998.0</td>\n",
       "      <td>14670.0</td>\n",
       "      <td>0.000050</td>\n",
       "    </tr>\n",
       "    <tr>\n",
       "      <th>1559</th>\n",
       "      <td>926</td>\n",
       "      <td>2254</td>\n",
       "      <td>1</td>\n",
       "      <td>0.028949</td>\n",
       "      <td>0.028902</td>\n",
       "      <td>16343.0</td>\n",
       "      <td>15120.0</td>\n",
       "      <td>0.000047</td>\n",
       "    </tr>\n",
       "    <tr>\n",
       "      <th>2919</th>\n",
       "      <td>1327</td>\n",
       "      <td>3692</td>\n",
       "      <td>1</td>\n",
       "      <td>0.003679</td>\n",
       "      <td>0.003635</td>\n",
       "      <td>21435.0</td>\n",
       "      <td>21763.0</td>\n",
       "      <td>0.000045</td>\n",
       "    </tr>\n",
       "    <tr>\n",
       "      <th>4487</th>\n",
       "      <td>1659</td>\n",
       "      <td>1417</td>\n",
       "      <td>1</td>\n",
       "      <td>0.023367</td>\n",
       "      <td>0.023325</td>\n",
       "      <td>17137.0</td>\n",
       "      <td>16161.0</td>\n",
       "      <td>0.000043</td>\n",
       "    </tr>\n",
       "    <tr>\n",
       "      <th>9357</th>\n",
       "      <td>359</td>\n",
       "      <td>4414</td>\n",
       "      <td>1</td>\n",
       "      <td>0.015466</td>\n",
       "      <td>0.015427</td>\n",
       "      <td>18491.0</td>\n",
       "      <td>18046.0</td>\n",
       "      <td>0.000039</td>\n",
       "    </tr>\n",
       "    <tr>\n",
       "      <th>5277</th>\n",
       "      <td>1932</td>\n",
       "      <td>4321</td>\n",
       "      <td>1</td>\n",
       "      <td>0.004771</td>\n",
       "      <td>0.004736</td>\n",
       "      <td>21108.0</td>\n",
       "      <td>21419.0</td>\n",
       "      <td>0.000034</td>\n",
       "    </tr>\n",
       "    <tr>\n",
       "      <th>5427</th>\n",
       "      <td>975</td>\n",
       "      <td>1644</td>\n",
       "      <td>1</td>\n",
       "      <td>0.012980</td>\n",
       "      <td>0.012948</td>\n",
       "      <td>19010.0</td>\n",
       "      <td>18793.0</td>\n",
       "      <td>0.000032</td>\n",
       "    </tr>\n",
       "    <tr>\n",
       "      <th>1810</th>\n",
       "      <td>1704</td>\n",
       "      <td>2195</td>\n",
       "      <td>1</td>\n",
       "      <td>0.009123</td>\n",
       "      <td>0.009093</td>\n",
       "      <td>19920.0</td>\n",
       "      <td>19959.0</td>\n",
       "      <td>0.000031</td>\n",
       "    </tr>\n",
       "    <tr>\n",
       "      <th>4257</th>\n",
       "      <td>975</td>\n",
       "      <td>1094</td>\n",
       "      <td>1</td>\n",
       "      <td>0.004270</td>\n",
       "      <td>0.004241</td>\n",
       "      <td>21273.0</td>\n",
       "      <td>21578.0</td>\n",
       "      <td>0.000029</td>\n",
       "    </tr>\n",
       "    <tr>\n",
       "      <th>4917</th>\n",
       "      <td>975</td>\n",
       "      <td>2526</td>\n",
       "      <td>1</td>\n",
       "      <td>0.004050</td>\n",
       "      <td>0.004030</td>\n",
       "      <td>21338.0</td>\n",
       "      <td>21647.0</td>\n",
       "      <td>0.000020</td>\n",
       "    </tr>\n",
       "    <tr>\n",
       "      <th>5108</th>\n",
       "      <td>2003</td>\n",
       "      <td>1762</td>\n",
       "      <td>1</td>\n",
       "      <td>0.001839</td>\n",
       "      <td>0.001829</td>\n",
       "      <td>21965.0</td>\n",
       "      <td>22193.0</td>\n",
       "      <td>0.000010</td>\n",
       "    </tr>\n",
       "    <tr>\n",
       "      <th>338</th>\n",
       "      <td>975</td>\n",
       "      <td>304</td>\n",
       "      <td>1</td>\n",
       "      <td>0.004057</td>\n",
       "      <td>0.004048</td>\n",
       "      <td>21332.0</td>\n",
       "      <td>21642.0</td>\n",
       "      <td>0.000009</td>\n",
       "    </tr>\n",
       "    <tr>\n",
       "      <th>1897</th>\n",
       "      <td>54</td>\n",
       "      <td>677</td>\n",
       "      <td>1</td>\n",
       "      <td>0.002563</td>\n",
       "      <td>0.002557</td>\n",
       "      <td>21766.0</td>\n",
       "      <td>22060.0</td>\n",
       "      <td>0.000006</td>\n",
       "    </tr>\n",
       "  </tbody>\n",
       "</table>\n",
       "<p>2422 rows × 8 columns</p>\n",
       "</div>"
      ],
      "text/plain": [
       "          0     1  2       all  structure  structure_rank  all_rank      diff\n",
       "292    3364  3531  1  0.393513   0.033699         15773.0    4034.0  0.359813\n",
       "6890   1777  1498  1  0.630188   0.316499          7277.0    2914.0  0.313689\n",
       "8311   3188  4235  1  0.435497   0.122235         10616.0    3766.0  0.313262\n",
       "8121   2672  1951  1  0.370983   0.059259         13509.0    4200.0  0.311723\n",
       "4510   4259  1451  1  0.828618   0.531792          5727.0    2174.0  0.296825\n",
       "9684   3144  4385  1  0.445331   0.150841          9832.0    3711.0  0.294489\n",
       "8070   1498  3257  1  0.407909   0.115836         10824.0    3930.0  0.292073\n",
       "10793  4385  4489  1  0.495331   0.210215          8629.0    3448.0  0.285116\n",
       "9993   3618  2120  1  0.491162   0.207576          8668.0    3470.0  0.283586\n",
       "4889   2317  3279  1  0.514219   0.253267          7968.0    3348.0  0.260952\n",
       "8338   3890  2782  1  0.320523   0.071803         12723.0    4620.0  0.248720\n",
       "5782   2894  2781  1  0.451985   0.203908          8732.0    3674.0  0.248077\n",
       "288    4459  3962  1  0.482330   0.242248          8126.0    3507.0  0.240082\n",
       "675    2958  4385  1  0.593468   0.354801          6939.0    3039.0  0.238667\n",
       "7535   2339   712  1  0.390389   0.152257          9798.0    4061.0  0.238131\n",
       "6933   1372  3038  1  0.465585   0.230476          8292.0    3593.0  0.235108\n",
       "1730   3542  1098  1  0.384477   0.151756          9809.0    4104.0  0.232721\n",
       "10715  3432  1098  1  0.427052   0.194814          8894.0    3812.0  0.232238\n",
       "4063   4479  4003  1  0.333971   0.103224         11241.0    4493.0  0.230746\n",
       "303     471  3714  1  0.457406   0.227651          8340.0    3646.0  0.229755\n",
       "3500   1372  4018  1  0.323859   0.100970         11327.0    4593.0  0.222889\n",
       "8261   1839   690  1  0.293431   0.070887         12779.0    4882.0  0.222544\n",
       "1870   2251  1457  1  0.334182   0.112183         10949.0    4491.0  0.221999\n",
       "8320   3863  4011  1  0.354355   0.137953         10191.0    4332.0  0.216402\n",
       "3597   3997  1007  1  0.389290   0.173272          9314.0    4065.0  0.216018\n",
       "10176  1615  1098  1  0.454757   0.241451          8134.0    3658.0  0.213306\n",
       "10314  1498   994  1  0.362996   0.150708          9835.0    4269.0  0.212288\n",
       "1909   1498  1892  1  0.382772   0.174362          9294.0    4117.0  0.208409\n",
       "610    3531  2072  1  0.539970   0.331776          7131.0    3246.0  0.208194\n",
       "1290   4479  1498  1  0.261639   0.054376         13878.0    5232.0  0.207263\n",
       "...     ...   ... ..       ...        ...             ...       ...       ...\n",
       "1475   1978   743  1  0.026890   0.026716         16643.0   15487.0  0.000175\n",
       "1635   2640  3122  1  0.259606   0.259434          7892.0    5266.0  0.000172\n",
       "1770   2340  3205  1  0.019604   0.019436         17776.0   17007.0  0.000168\n",
       "2341   4175  2283  1  0.004540   0.004373         21224.0   21499.0  0.000167\n",
       "712    1630  2956  1  0.020566   0.020399         17621.0   16773.0  0.000166\n",
       "10542   975  1762  1  0.002021   0.001860         21960.0   22159.0  0.000160\n",
       "182    1150  2992  1  0.027400   0.027257         16555.0   15394.0  0.000144\n",
       "5713   4061   856  1  0.005002   0.004862         21072.0   21357.0  0.000140\n",
       "411    2665   380  1  0.012964   0.012832         19035.0   18803.0  0.000132\n",
       "7668   2576   858  1  0.014210   0.014100         18766.0   18425.0  0.000110\n",
       "2858   3281  2457  1  0.002789   0.002700         21726.0   22014.0  0.000088\n",
       "2393   1265  1686  1  0.001945   0.001860         21959.0   22176.0  0.000085\n",
       "8345   1296  2476  1  0.003440   0.003361         21530.0   21830.0  0.000079\n",
       "4319   3456  3916  1  0.006671   0.006605         20568.0   20797.0  0.000066\n",
       "2748   3368  4011  1  0.077041   0.076985         12425.0   10156.0  0.000056\n",
       "9816    975   568  1  0.005237   0.005184         20983.0   21277.0  0.000053\n",
       "8638   3095  2808  1  0.005843   0.005792         20790.0   21077.0  0.000051\n",
       "3764   1215    68  1  0.031882   0.031832         15998.0   14670.0  0.000050\n",
       "1559    926  2254  1  0.028949   0.028902         16343.0   15120.0  0.000047\n",
       "2919   1327  3692  1  0.003679   0.003635         21435.0   21763.0  0.000045\n",
       "4487   1659  1417  1  0.023367   0.023325         17137.0   16161.0  0.000043\n",
       "9357    359  4414  1  0.015466   0.015427         18491.0   18046.0  0.000039\n",
       "5277   1932  4321  1  0.004771   0.004736         21108.0   21419.0  0.000034\n",
       "5427    975  1644  1  0.012980   0.012948         19010.0   18793.0  0.000032\n",
       "1810   1704  2195  1  0.009123   0.009093         19920.0   19959.0  0.000031\n",
       "4257    975  1094  1  0.004270   0.004241         21273.0   21578.0  0.000029\n",
       "4917    975  2526  1  0.004050   0.004030         21338.0   21647.0  0.000020\n",
       "5108   2003  1762  1  0.001839   0.001829         21965.0   22193.0  0.000010\n",
       "338     975   304  1  0.004057   0.004048         21332.0   21642.0  0.000009\n",
       "1897     54   677  1  0.002563   0.002557         21766.0   22060.0  0.000006\n",
       "\n",
       "[2422 rows x 8 columns]"
      ]
     },
     "execution_count": 134,
     "metadata": {},
     "output_type": "execute_result"
    }
   ],
   "source": [
    "improved_predictions.sort_values(['diff'], ascending=0)"
   ]
  },
  {
   "cell_type": "code",
   "execution_count": 198,
   "metadata": {
    "collapsed": true
   },
   "outputs": [],
   "source": [
    "improved_predictions.to_csv(\"../Gene-Network-Embedding/data/ecoli/improved_predictions.txt\", index=False, header=False, sep=\",\")"
   ]
  },
  {
   "cell_type": "code",
   "execution_count": 122,
   "metadata": {
    "collapsed": true
   },
   "outputs": [],
   "source": [
    "from matplotlib import rcParams\n",
    "rcParams['font.family'] = 'sans-serif'\n",
    "rcParams['font.sans-serif'] = ['Tahoma']\n",
    "import matplotlib.pyplot as plt"
   ]
  },
  {
   "cell_type": "code",
   "execution_count": 135,
   "metadata": {},
   "outputs": [
    {
     "data": {
      "image/png": "[encoded data removed]",
      "text/plain": [
       "<matplotlib.figure.Figure at 0x15fb92320>"
      ]
     },
     "metadata": {},
     "output_type": "display_data"
    }
   ],
   "source": [
    "from sklearn.metrics import precision_recall_curve\n",
    "import matplotlib.pyplot as plt\n",
    "fig = plt.figure()\n",
    "ax = fig.add_subplot(111)\n",
    "ax.set_xlabel(r\"Recall\", fontsize=18)\n",
    "# ax.axhline(y=0.839)\n",
    "ax.set_ylabel(\"Precision\", fontsize=18)\n",
    "ax.yaxis.set_ticks_position('left')\n",
    "ax.xaxis.set_ticks_position('bottom')\n",
    "\n",
    "precision, recall, thresholds = precision_recall_curve(test_edge_labels, test_preds)\n",
    "\n",
    "ax.plot(recall, precision, color='b', alpha=1, label =\"Precision-Recall curve: area={0:0.2f}\".format(test_ap))\n",
    "ax.legend(fontsize='x-large')\n",
    "plt.ylim([0.0, 1.05])\n",
    "plt.xlim([0.0, 1.0])\n",
    "plt.savefig('ecoli_pr_curve.eps', dpi =1200)\n",
    "plt.show()"
   ]
  },
  {
   "cell_type": "code",
   "execution_count": 110,
   "metadata": {},
   "outputs": [
    {
     "data": {
      "text/plain": [
       "array([ 0.00858221,  0.00884936,  0.00900816, ...,  0.99337359,\n",
       "        0.99342438,  0.99493122])"
      ]
     },
     "execution_count": 110,
     "metadata": {},
     "output_type": "execute_result"
    }
   ],
   "source": [
    "thresholds"
   ]
  },
  {
   "cell_type": "code",
   "execution_count": 91,
   "metadata": {
    "collapsed": true
   },
   "outputs": [],
   "source": [
    "import scikitplot as skplt"
   ]
  },
  {
   "cell_type": "code",
   "execution_count": 101,
   "metadata": {},
   "outputs": [
    {
     "data": {
      "text/plain": [
       "<matplotlib.axes._subplots.AxesSubplot at 0x135d88a58>"
      ]
     },
     "execution_count": 101,
     "metadata": {},
     "output_type": "execute_result"
    }
   ],
   "source": [
    "skplt.metrics.plot_precision_recall_curve(test_labels, edge_classifier.predict_proba(test_data))"
   ]
  },
  {
   "cell_type": "code",
   "execution_count": 94,
   "metadata": {},
   "outputs": [
    {
     "data": {
      "text/plain": [
       "array([ 0.25267534,  0.12663033,  0.46553919, ...,  0.42439845,\n",
       "        0.41614971,  0.68247825])"
      ]
     },
     "execution_count": 94,
     "metadata": {},
     "output_type": "execute_result"
    }
   ],
   "source": []
  },
  {
   "cell_type": "code",
   "execution_count": 132,
   "metadata": {},
   "outputs": [
    {
     "data": {
      "text/plain": [
       "(25670, 128)"
      ]
     },
     "execution_count": 132,
     "metadata": {},
     "output_type": "execute_result"
    }
   ],
   "source": []
  },
  {
   "cell_type": "code",
   "execution_count": 163,
   "metadata": {},
   "outputs": [
    {
     "data": {
      "text/plain": [
       "array([ 0.42760831,  0.16333067,  0.63636398, ...,  0.27837765,\n",
       "        0.03712028,  0.05281949])"
      ]
     },
     "execution_count": 163,
     "metadata": {},
     "output_type": "execute_result"
    }
   ],
   "source": [
    "test_preds"
   ]
  },
  {
   "cell_type": "code",
   "execution_count": 162,
   "metadata": {},
   "outputs": [
    {
     "data": {
      "text/plain": [
       "array([ 1.,  1.,  1., ...,  0.,  0.,  0.])"
      ]
     },
     "execution_count": 162,
     "metadata": {},
     "output_type": "execute_result"
    }
   ],
   "source": [
    "test_labels"
   ]
  },
  {
   "cell_type": "code",
   "execution_count": 43,
   "metadata": {
    "collapsed": true
   },
   "outputs": [],
   "source": [
    "df = evaluation_data"
   ]
  },
  {
   "cell_type": "code",
   "execution_count": 44,
   "metadata": {},
   "outputs": [
    {
     "data": {
      "text/html": [
       "<div>\n",
       "<style>\n",
       "    .dataframe thead tr:only-child th {\n",
       "        text-align: right;\n",
       "    }\n",
       "\n",
       "    .dataframe thead th {\n",
       "        text-align: left;\n",
       "    }\n",
       "\n",
       "    .dataframe tbody tr th {\n",
       "        vertical-align: top;\n",
       "    }\n",
       "</style>\n",
       "<table border=\"1\" class=\"dataframe\">\n",
       "  <thead>\n",
       "    <tr style=\"text-align: right;\">\n",
       "      <th></th>\n",
       "      <th>0</th>\n",
       "      <th>1</th>\n",
       "      <th>2</th>\n",
       "    </tr>\n",
       "  </thead>\n",
       "  <tbody>\n",
       "    <tr>\n",
       "      <th>0</th>\n",
       "      <td>339</td>\n",
       "      <td>4264</td>\n",
       "      <td>1</td>\n",
       "    </tr>\n",
       "    <tr>\n",
       "      <th>1</th>\n",
       "      <td>649</td>\n",
       "      <td>2147</td>\n",
       "      <td>1</td>\n",
       "    </tr>\n",
       "    <tr>\n",
       "      <th>2</th>\n",
       "      <td>4216</td>\n",
       "      <td>1904</td>\n",
       "      <td>1</td>\n",
       "    </tr>\n",
       "    <tr>\n",
       "      <th>3</th>\n",
       "      <td>1237</td>\n",
       "      <td>3801</td>\n",
       "      <td>1</td>\n",
       "    </tr>\n",
       "    <tr>\n",
       "      <th>4</th>\n",
       "      <td>561</td>\n",
       "      <td>3809</td>\n",
       "      <td>1</td>\n",
       "    </tr>\n",
       "    <tr>\n",
       "      <th>5</th>\n",
       "      <td>226</td>\n",
       "      <td>4198</td>\n",
       "      <td>1</td>\n",
       "    </tr>\n",
       "    <tr>\n",
       "      <th>6</th>\n",
       "      <td>3441</td>\n",
       "      <td>3750</td>\n",
       "      <td>1</td>\n",
       "    </tr>\n",
       "    <tr>\n",
       "      <th>7</th>\n",
       "      <td>2958</td>\n",
       "      <td>2377</td>\n",
       "      <td>1</td>\n",
       "    </tr>\n",
       "    <tr>\n",
       "      <th>8</th>\n",
       "      <td>3689</td>\n",
       "      <td>1729</td>\n",
       "      <td>1</td>\n",
       "    </tr>\n",
       "    <tr>\n",
       "      <th>9</th>\n",
       "      <td>3720</td>\n",
       "      <td>613</td>\n",
       "      <td>1</td>\n",
       "    </tr>\n",
       "    <tr>\n",
       "      <th>10</th>\n",
       "      <td>4142</td>\n",
       "      <td>2543</td>\n",
       "      <td>1</td>\n",
       "    </tr>\n",
       "    <tr>\n",
       "      <th>11</th>\n",
       "      <td>2667</td>\n",
       "      <td>1378</td>\n",
       "      <td>1</td>\n",
       "    </tr>\n",
       "    <tr>\n",
       "      <th>12</th>\n",
       "      <td>3801</td>\n",
       "      <td>980</td>\n",
       "      <td>1</td>\n",
       "    </tr>\n",
       "    <tr>\n",
       "      <th>13</th>\n",
       "      <td>2531</td>\n",
       "      <td>4034</td>\n",
       "      <td>1</td>\n",
       "    </tr>\n",
       "    <tr>\n",
       "      <th>14</th>\n",
       "      <td>2387</td>\n",
       "      <td>2578</td>\n",
       "      <td>1</td>\n",
       "    </tr>\n",
       "    <tr>\n",
       "      <th>15</th>\n",
       "      <td>2974</td>\n",
       "      <td>3507</td>\n",
       "      <td>1</td>\n",
       "    </tr>\n",
       "    <tr>\n",
       "      <th>16</th>\n",
       "      <td>3217</td>\n",
       "      <td>3617</td>\n",
       "      <td>1</td>\n",
       "    </tr>\n",
       "    <tr>\n",
       "      <th>17</th>\n",
       "      <td>1883</td>\n",
       "      <td>4264</td>\n",
       "      <td>1</td>\n",
       "    </tr>\n",
       "    <tr>\n",
       "      <th>18</th>\n",
       "      <td>4381</td>\n",
       "      <td>2151</td>\n",
       "      <td>1</td>\n",
       "    </tr>\n",
       "    <tr>\n",
       "      <th>19</th>\n",
       "      <td>2515</td>\n",
       "      <td>4343</td>\n",
       "      <td>1</td>\n",
       "    </tr>\n",
       "    <tr>\n",
       "      <th>20</th>\n",
       "      <td>619</td>\n",
       "      <td>2973</td>\n",
       "      <td>1</td>\n",
       "    </tr>\n",
       "    <tr>\n",
       "      <th>21</th>\n",
       "      <td>1669</td>\n",
       "      <td>339</td>\n",
       "      <td>1</td>\n",
       "    </tr>\n",
       "    <tr>\n",
       "      <th>22</th>\n",
       "      <td>967</td>\n",
       "      <td>1853</td>\n",
       "      <td>1</td>\n",
       "    </tr>\n",
       "    <tr>\n",
       "      <th>23</th>\n",
       "      <td>1100</td>\n",
       "      <td>3456</td>\n",
       "      <td>1</td>\n",
       "    </tr>\n",
       "    <tr>\n",
       "      <th>24</th>\n",
       "      <td>1706</td>\n",
       "      <td>2311</td>\n",
       "      <td>1</td>\n",
       "    </tr>\n",
       "    <tr>\n",
       "      <th>25</th>\n",
       "      <td>2495</td>\n",
       "      <td>366</td>\n",
       "      <td>1</td>\n",
       "    </tr>\n",
       "    <tr>\n",
       "      <th>26</th>\n",
       "      <td>1093</td>\n",
       "      <td>2710</td>\n",
       "      <td>1</td>\n",
       "    </tr>\n",
       "    <tr>\n",
       "      <th>27</th>\n",
       "      <td>756</td>\n",
       "      <td>3358</td>\n",
       "      <td>1</td>\n",
       "    </tr>\n",
       "    <tr>\n",
       "      <th>28</th>\n",
       "      <td>4095</td>\n",
       "      <td>2543</td>\n",
       "      <td>1</td>\n",
       "    </tr>\n",
       "    <tr>\n",
       "      <th>29</th>\n",
       "      <td>3441</td>\n",
       "      <td>4321</td>\n",
       "      <td>1</td>\n",
       "    </tr>\n",
       "    <tr>\n",
       "      <th>...</th>\n",
       "      <td>...</td>\n",
       "      <td>...</td>\n",
       "      <td>...</td>\n",
       "    </tr>\n",
       "    <tr>\n",
       "      <th>22336</th>\n",
       "      <td>1300</td>\n",
       "      <td>163</td>\n",
       "      <td>0</td>\n",
       "    </tr>\n",
       "    <tr>\n",
       "      <th>22337</th>\n",
       "      <td>1590</td>\n",
       "      <td>3776</td>\n",
       "      <td>0</td>\n",
       "    </tr>\n",
       "    <tr>\n",
       "      <th>22338</th>\n",
       "      <td>4358</td>\n",
       "      <td>1301</td>\n",
       "      <td>0</td>\n",
       "    </tr>\n",
       "    <tr>\n",
       "      <th>22339</th>\n",
       "      <td>3590</td>\n",
       "      <td>923</td>\n",
       "      <td>0</td>\n",
       "    </tr>\n",
       "    <tr>\n",
       "      <th>22340</th>\n",
       "      <td>3906</td>\n",
       "      <td>1599</td>\n",
       "      <td>0</td>\n",
       "    </tr>\n",
       "    <tr>\n",
       "      <th>22341</th>\n",
       "      <td>3372</td>\n",
       "      <td>3682</td>\n",
       "      <td>0</td>\n",
       "    </tr>\n",
       "    <tr>\n",
       "      <th>22342</th>\n",
       "      <td>3548</td>\n",
       "      <td>4061</td>\n",
       "      <td>0</td>\n",
       "    </tr>\n",
       "    <tr>\n",
       "      <th>22343</th>\n",
       "      <td>4088</td>\n",
       "      <td>533</td>\n",
       "      <td>0</td>\n",
       "    </tr>\n",
       "    <tr>\n",
       "      <th>22344</th>\n",
       "      <td>70</td>\n",
       "      <td>3844</td>\n",
       "      <td>0</td>\n",
       "    </tr>\n",
       "    <tr>\n",
       "      <th>22345</th>\n",
       "      <td>2446</td>\n",
       "      <td>340</td>\n",
       "      <td>0</td>\n",
       "    </tr>\n",
       "    <tr>\n",
       "      <th>22346</th>\n",
       "      <td>2080</td>\n",
       "      <td>4380</td>\n",
       "      <td>0</td>\n",
       "    </tr>\n",
       "    <tr>\n",
       "      <th>22347</th>\n",
       "      <td>2882</td>\n",
       "      <td>4222</td>\n",
       "      <td>0</td>\n",
       "    </tr>\n",
       "    <tr>\n",
       "      <th>22348</th>\n",
       "      <td>3171</td>\n",
       "      <td>629</td>\n",
       "      <td>0</td>\n",
       "    </tr>\n",
       "    <tr>\n",
       "      <th>22349</th>\n",
       "      <td>3459</td>\n",
       "      <td>434</td>\n",
       "      <td>0</td>\n",
       "    </tr>\n",
       "    <tr>\n",
       "      <th>22350</th>\n",
       "      <td>98</td>\n",
       "      <td>73</td>\n",
       "      <td>0</td>\n",
       "    </tr>\n",
       "    <tr>\n",
       "      <th>22351</th>\n",
       "      <td>2145</td>\n",
       "      <td>2126</td>\n",
       "      <td>0</td>\n",
       "    </tr>\n",
       "    <tr>\n",
       "      <th>22352</th>\n",
       "      <td>1025</td>\n",
       "      <td>2471</td>\n",
       "      <td>0</td>\n",
       "    </tr>\n",
       "    <tr>\n",
       "      <th>22353</th>\n",
       "      <td>2041</td>\n",
       "      <td>869</td>\n",
       "      <td>0</td>\n",
       "    </tr>\n",
       "    <tr>\n",
       "      <th>22354</th>\n",
       "      <td>1525</td>\n",
       "      <td>3495</td>\n",
       "      <td>0</td>\n",
       "    </tr>\n",
       "    <tr>\n",
       "      <th>22355</th>\n",
       "      <td>3632</td>\n",
       "      <td>2782</td>\n",
       "      <td>0</td>\n",
       "    </tr>\n",
       "    <tr>\n",
       "      <th>22356</th>\n",
       "      <td>2288</td>\n",
       "      <td>3292</td>\n",
       "      <td>0</td>\n",
       "    </tr>\n",
       "    <tr>\n",
       "      <th>22357</th>\n",
       "      <td>1815</td>\n",
       "      <td>3483</td>\n",
       "      <td>0</td>\n",
       "    </tr>\n",
       "    <tr>\n",
       "      <th>22358</th>\n",
       "      <td>4443</td>\n",
       "      <td>2840</td>\n",
       "      <td>0</td>\n",
       "    </tr>\n",
       "    <tr>\n",
       "      <th>22359</th>\n",
       "      <td>131</td>\n",
       "      <td>1473</td>\n",
       "      <td>0</td>\n",
       "    </tr>\n",
       "    <tr>\n",
       "      <th>22360</th>\n",
       "      <td>4508</td>\n",
       "      <td>3029</td>\n",
       "      <td>0</td>\n",
       "    </tr>\n",
       "    <tr>\n",
       "      <th>22361</th>\n",
       "      <td>1382</td>\n",
       "      <td>1371</td>\n",
       "      <td>0</td>\n",
       "    </tr>\n",
       "    <tr>\n",
       "      <th>22362</th>\n",
       "      <td>4314</td>\n",
       "      <td>1467</td>\n",
       "      <td>0</td>\n",
       "    </tr>\n",
       "    <tr>\n",
       "      <th>22363</th>\n",
       "      <td>3962</td>\n",
       "      <td>1959</td>\n",
       "      <td>0</td>\n",
       "    </tr>\n",
       "    <tr>\n",
       "      <th>22364</th>\n",
       "      <td>2822</td>\n",
       "      <td>435</td>\n",
       "      <td>0</td>\n",
       "    </tr>\n",
       "    <tr>\n",
       "      <th>22365</th>\n",
       "      <td>3111</td>\n",
       "      <td>2705</td>\n",
       "      <td>0</td>\n",
       "    </tr>\n",
       "  </tbody>\n",
       "</table>\n",
       "<p>22366 rows × 3 columns</p>\n",
       "</div>"
      ],
      "text/plain": [
       "          0     1  2\n",
       "0       339  4264  1\n",
       "1       649  2147  1\n",
       "2      4216  1904  1\n",
       "3      1237  3801  1\n",
       "4       561  3809  1\n",
       "5       226  4198  1\n",
       "6      3441  3750  1\n",
       "7      2958  2377  1\n",
       "8      3689  1729  1\n",
       "9      3720   613  1\n",
       "10     4142  2543  1\n",
       "11     2667  1378  1\n",
       "12     3801   980  1\n",
       "13     2531  4034  1\n",
       "14     2387  2578  1\n",
       "15     2974  3507  1\n",
       "16     3217  3617  1\n",
       "17     1883  4264  1\n",
       "18     4381  2151  1\n",
       "19     2515  4343  1\n",
       "20      619  2973  1\n",
       "21     1669   339  1\n",
       "22      967  1853  1\n",
       "23     1100  3456  1\n",
       "24     1706  2311  1\n",
       "25     2495   366  1\n",
       "26     1093  2710  1\n",
       "27      756  3358  1\n",
       "28     4095  2543  1\n",
       "29     3441  4321  1\n",
       "...     ...   ... ..\n",
       "22336  1300   163  0\n",
       "22337  1590  3776  0\n",
       "22338  4358  1301  0\n",
       "22339  3590   923  0\n",
       "22340  3906  1599  0\n",
       "22341  3372  3682  0\n",
       "22342  3548  4061  0\n",
       "22343  4088   533  0\n",
       "22344    70  3844  0\n",
       "22345  2446   340  0\n",
       "22346  2080  4380  0\n",
       "22347  2882  4222  0\n",
       "22348  3171   629  0\n",
       "22349  3459   434  0\n",
       "22350    98    73  0\n",
       "22351  2145  2126  0\n",
       "22352  1025  2471  0\n",
       "22353  2041   869  0\n",
       "22354  1525  3495  0\n",
       "22355  3632  2782  0\n",
       "22356  2288  3292  0\n",
       "22357  1815  3483  0\n",
       "22358  4443  2840  0\n",
       "22359   131  1473  0\n",
       "22360  4508  3029  0\n",
       "22361  1382  1371  0\n",
       "22362  4314  1467  0\n",
       "22363  3962  1959  0\n",
       "22364  2822   435  0\n",
       "22365  3111  2705  0\n",
       "\n",
       "[22366 rows x 3 columns]"
      ]
     },
     "execution_count": 44,
     "metadata": {},
     "output_type": "execute_result"
    }
   ],
   "source": [
    "df"
   ]
  },
  {
   "cell_type": "code",
   "execution_count": 45,
   "metadata": {
    "collapsed": true
   },
   "outputs": [],
   "source": [
    "df['predicted'] = test_preds"
   ]
  },
  {
   "cell_type": "code",
   "execution_count": 47,
   "metadata": {
    "collapsed": true
   },
   "outputs": [],
   "source": [
    "df = df.sort_values(['predicted'], ascending=False)"
   ]
  },
  {
   "cell_type": "code",
   "execution_count": 48,
   "metadata": {},
   "outputs": [
    {
     "data": {
      "text/html": [
       "<div>\n",
       "<style>\n",
       "    .dataframe thead tr:only-child th {\n",
       "        text-align: right;\n",
       "    }\n",
       "\n",
       "    .dataframe thead th {\n",
       "        text-align: left;\n",
       "    }\n",
       "\n",
       "    .dataframe tbody tr th {\n",
       "        vertical-align: top;\n",
       "    }\n",
       "</style>\n",
       "<table border=\"1\" class=\"dataframe\">\n",
       "  <thead>\n",
       "    <tr style=\"text-align: right;\">\n",
       "      <th></th>\n",
       "      <th>0</th>\n",
       "      <th>1</th>\n",
       "      <th>2</th>\n",
       "      <th>predicted</th>\n",
       "    </tr>\n",
       "  </thead>\n",
       "  <tbody>\n",
       "    <tr>\n",
       "      <th>8352</th>\n",
       "      <td>3595</td>\n",
       "      <td>3279</td>\n",
       "      <td>1</td>\n",
       "      <td>0.999925</td>\n",
       "    </tr>\n",
       "    <tr>\n",
       "      <th>2692</th>\n",
       "      <td>3475</td>\n",
       "      <td>3279</td>\n",
       "      <td>1</td>\n",
       "      <td>0.999893</td>\n",
       "    </tr>\n",
       "    <tr>\n",
       "      <th>485</th>\n",
       "      <td>3279</td>\n",
       "      <td>2405</td>\n",
       "      <td>1</td>\n",
       "      <td>0.999877</td>\n",
       "    </tr>\n",
       "    <tr>\n",
       "      <th>7150</th>\n",
       "      <td>2776</td>\n",
       "      <td>3494</td>\n",
       "      <td>1</td>\n",
       "      <td>0.999874</td>\n",
       "    </tr>\n",
       "    <tr>\n",
       "      <th>1332</th>\n",
       "      <td>4284</td>\n",
       "      <td>4102</td>\n",
       "      <td>1</td>\n",
       "      <td>0.999829</td>\n",
       "    </tr>\n",
       "    <tr>\n",
       "      <th>7750</th>\n",
       "      <td>3557</td>\n",
       "      <td>3279</td>\n",
       "      <td>1</td>\n",
       "      <td>0.999775</td>\n",
       "    </tr>\n",
       "    <tr>\n",
       "      <th>7117</th>\n",
       "      <td>4379</td>\n",
       "      <td>4026</td>\n",
       "      <td>1</td>\n",
       "      <td>0.999754</td>\n",
       "    </tr>\n",
       "    <tr>\n",
       "      <th>1728</th>\n",
       "      <td>4384</td>\n",
       "      <td>712</td>\n",
       "      <td>1</td>\n",
       "      <td>0.999688</td>\n",
       "    </tr>\n",
       "    <tr>\n",
       "      <th>1086</th>\n",
       "      <td>4057</td>\n",
       "      <td>4419</td>\n",
       "      <td>1</td>\n",
       "      <td>0.999582</td>\n",
       "    </tr>\n",
       "    <tr>\n",
       "      <th>5481</th>\n",
       "      <td>3339</td>\n",
       "      <td>4489</td>\n",
       "      <td>1</td>\n",
       "      <td>0.999562</td>\n",
       "    </tr>\n",
       "    <tr>\n",
       "      <th>16965</th>\n",
       "      <td>2523</td>\n",
       "      <td>3343</td>\n",
       "      <td>0</td>\n",
       "      <td>0.999558</td>\n",
       "    </tr>\n",
       "    <tr>\n",
       "      <th>5762</th>\n",
       "      <td>4479</td>\n",
       "      <td>2475</td>\n",
       "      <td>1</td>\n",
       "      <td>0.999552</td>\n",
       "    </tr>\n",
       "    <tr>\n",
       "      <th>279</th>\n",
       "      <td>2195</td>\n",
       "      <td>2403</td>\n",
       "      <td>1</td>\n",
       "      <td>0.999507</td>\n",
       "    </tr>\n",
       "    <tr>\n",
       "      <th>3635</th>\n",
       "      <td>3593</td>\n",
       "      <td>1985</td>\n",
       "      <td>1</td>\n",
       "      <td>0.999506</td>\n",
       "    </tr>\n",
       "    <tr>\n",
       "      <th>10011</th>\n",
       "      <td>1372</td>\n",
       "      <td>3279</td>\n",
       "      <td>1</td>\n",
       "      <td>0.999489</td>\n",
       "    </tr>\n",
       "    <tr>\n",
       "      <th>9008</th>\n",
       "      <td>2195</td>\n",
       "      <td>4136</td>\n",
       "      <td>1</td>\n",
       "      <td>0.999476</td>\n",
       "    </tr>\n",
       "    <tr>\n",
       "      <th>6930</th>\n",
       "      <td>2753</td>\n",
       "      <td>4419</td>\n",
       "      <td>1</td>\n",
       "      <td>0.999451</td>\n",
       "    </tr>\n",
       "    <tr>\n",
       "      <th>1092</th>\n",
       "      <td>2776</td>\n",
       "      <td>4026</td>\n",
       "      <td>1</td>\n",
       "      <td>0.999422</td>\n",
       "    </tr>\n",
       "    <tr>\n",
       "      <th>6212</th>\n",
       "      <td>4503</td>\n",
       "      <td>4489</td>\n",
       "      <td>1</td>\n",
       "      <td>0.999399</td>\n",
       "    </tr>\n",
       "    <tr>\n",
       "      <th>3373</th>\n",
       "      <td>3831</td>\n",
       "      <td>4026</td>\n",
       "      <td>1</td>\n",
       "      <td>0.999380</td>\n",
       "    </tr>\n",
       "    <tr>\n",
       "      <th>5076</th>\n",
       "      <td>2251</td>\n",
       "      <td>3714</td>\n",
       "      <td>1</td>\n",
       "      <td>0.999354</td>\n",
       "    </tr>\n",
       "    <tr>\n",
       "      <th>7313</th>\n",
       "      <td>4006</td>\n",
       "      <td>1658</td>\n",
       "      <td>1</td>\n",
       "      <td>0.999344</td>\n",
       "    </tr>\n",
       "    <tr>\n",
       "      <th>7974</th>\n",
       "      <td>4006</td>\n",
       "      <td>3475</td>\n",
       "      <td>1</td>\n",
       "      <td>0.999340</td>\n",
       "    </tr>\n",
       "    <tr>\n",
       "      <th>5749</th>\n",
       "      <td>4006</td>\n",
       "      <td>2016</td>\n",
       "      <td>1</td>\n",
       "      <td>0.999325</td>\n",
       "    </tr>\n",
       "    <tr>\n",
       "      <th>4243</th>\n",
       "      <td>3339</td>\n",
       "      <td>3723</td>\n",
       "      <td>1</td>\n",
       "      <td>0.999317</td>\n",
       "    </tr>\n",
       "    <tr>\n",
       "      <th>6531</th>\n",
       "      <td>4006</td>\n",
       "      <td>2958</td>\n",
       "      <td>1</td>\n",
       "      <td>0.999305</td>\n",
       "    </tr>\n",
       "    <tr>\n",
       "      <th>1655</th>\n",
       "      <td>2417</td>\n",
       "      <td>1985</td>\n",
       "      <td>1</td>\n",
       "      <td>0.999305</td>\n",
       "    </tr>\n",
       "    <tr>\n",
       "      <th>10606</th>\n",
       "      <td>2403</td>\n",
       "      <td>2823</td>\n",
       "      <td>1</td>\n",
       "      <td>0.999304</td>\n",
       "    </tr>\n",
       "    <tr>\n",
       "      <th>2114</th>\n",
       "      <td>3494</td>\n",
       "      <td>4489</td>\n",
       "      <td>1</td>\n",
       "      <td>0.999296</td>\n",
       "    </tr>\n",
       "    <tr>\n",
       "      <th>2303</th>\n",
       "      <td>1451</td>\n",
       "      <td>3031</td>\n",
       "      <td>1</td>\n",
       "      <td>0.999280</td>\n",
       "    </tr>\n",
       "    <tr>\n",
       "      <th>...</th>\n",
       "      <td>...</td>\n",
       "      <td>...</td>\n",
       "      <td>...</td>\n",
       "      <td>...</td>\n",
       "    </tr>\n",
       "    <tr>\n",
       "      <th>11417</th>\n",
       "      <td>3787</td>\n",
       "      <td>2869</td>\n",
       "      <td>0</td>\n",
       "      <td>0.001606</td>\n",
       "    </tr>\n",
       "    <tr>\n",
       "      <th>17164</th>\n",
       "      <td>415</td>\n",
       "      <td>907</td>\n",
       "      <td>0</td>\n",
       "      <td>0.001604</td>\n",
       "    </tr>\n",
       "    <tr>\n",
       "      <th>19147</th>\n",
       "      <td>2784</td>\n",
       "      <td>1283</td>\n",
       "      <td>0</td>\n",
       "      <td>0.001540</td>\n",
       "    </tr>\n",
       "    <tr>\n",
       "      <th>719</th>\n",
       "      <td>1985</td>\n",
       "      <td>959</td>\n",
       "      <td>1</td>\n",
       "      <td>0.001522</td>\n",
       "    </tr>\n",
       "    <tr>\n",
       "      <th>14718</th>\n",
       "      <td>362</td>\n",
       "      <td>1393</td>\n",
       "      <td>0</td>\n",
       "      <td>0.001518</td>\n",
       "    </tr>\n",
       "    <tr>\n",
       "      <th>17003</th>\n",
       "      <td>2899</td>\n",
       "      <td>518</td>\n",
       "      <td>0</td>\n",
       "      <td>0.001474</td>\n",
       "    </tr>\n",
       "    <tr>\n",
       "      <th>269</th>\n",
       "      <td>3079</td>\n",
       "      <td>858</td>\n",
       "      <td>1</td>\n",
       "      <td>0.001455</td>\n",
       "    </tr>\n",
       "    <tr>\n",
       "      <th>20718</th>\n",
       "      <td>4078</td>\n",
       "      <td>4061</td>\n",
       "      <td>0</td>\n",
       "      <td>0.001429</td>\n",
       "    </tr>\n",
       "    <tr>\n",
       "      <th>11904</th>\n",
       "      <td>2845</td>\n",
       "      <td>2087</td>\n",
       "      <td>0</td>\n",
       "      <td>0.001372</td>\n",
       "    </tr>\n",
       "    <tr>\n",
       "      <th>17154</th>\n",
       "      <td>3470</td>\n",
       "      <td>2454</td>\n",
       "      <td>0</td>\n",
       "      <td>0.001339</td>\n",
       "    </tr>\n",
       "    <tr>\n",
       "      <th>10504</th>\n",
       "      <td>3441</td>\n",
       "      <td>1913</td>\n",
       "      <td>1</td>\n",
       "      <td>0.001314</td>\n",
       "    </tr>\n",
       "    <tr>\n",
       "      <th>2295</th>\n",
       "      <td>4217</td>\n",
       "      <td>380</td>\n",
       "      <td>1</td>\n",
       "      <td>0.001276</td>\n",
       "    </tr>\n",
       "    <tr>\n",
       "      <th>16547</th>\n",
       "      <td>1524</td>\n",
       "      <td>4258</td>\n",
       "      <td>0</td>\n",
       "      <td>0.001264</td>\n",
       "    </tr>\n",
       "    <tr>\n",
       "      <th>21105</th>\n",
       "      <td>2303</td>\n",
       "      <td>3841</td>\n",
       "      <td>0</td>\n",
       "      <td>0.001235</td>\n",
       "    </tr>\n",
       "    <tr>\n",
       "      <th>9932</th>\n",
       "      <td>2400</td>\n",
       "      <td>4214</td>\n",
       "      <td>1</td>\n",
       "      <td>0.001176</td>\n",
       "    </tr>\n",
       "    <tr>\n",
       "      <th>15895</th>\n",
       "      <td>656</td>\n",
       "      <td>372</td>\n",
       "      <td>0</td>\n",
       "      <td>0.001152</td>\n",
       "    </tr>\n",
       "    <tr>\n",
       "      <th>1093</th>\n",
       "      <td>959</td>\n",
       "      <td>4410</td>\n",
       "      <td>1</td>\n",
       "      <td>0.001057</td>\n",
       "    </tr>\n",
       "    <tr>\n",
       "      <th>6862</th>\n",
       "      <td>4175</td>\n",
       "      <td>3701</td>\n",
       "      <td>1</td>\n",
       "      <td>0.001030</td>\n",
       "    </tr>\n",
       "    <tr>\n",
       "      <th>19151</th>\n",
       "      <td>1850</td>\n",
       "      <td>3946</td>\n",
       "      <td>0</td>\n",
       "      <td>0.001029</td>\n",
       "    </tr>\n",
       "    <tr>\n",
       "      <th>5981</th>\n",
       "      <td>4310</td>\n",
       "      <td>1444</td>\n",
       "      <td>1</td>\n",
       "      <td>0.001010</td>\n",
       "    </tr>\n",
       "    <tr>\n",
       "      <th>19250</th>\n",
       "      <td>2843</td>\n",
       "      <td>2697</td>\n",
       "      <td>0</td>\n",
       "      <td>0.000993</td>\n",
       "    </tr>\n",
       "    <tr>\n",
       "      <th>13553</th>\n",
       "      <td>3943</td>\n",
       "      <td>406</td>\n",
       "      <td>0</td>\n",
       "      <td>0.000906</td>\n",
       "    </tr>\n",
       "    <tr>\n",
       "      <th>7270</th>\n",
       "      <td>1289</td>\n",
       "      <td>1815</td>\n",
       "      <td>1</td>\n",
       "      <td>0.000867</td>\n",
       "    </tr>\n",
       "    <tr>\n",
       "      <th>21695</th>\n",
       "      <td>1104</td>\n",
       "      <td>1803</td>\n",
       "      <td>0</td>\n",
       "      <td>0.000830</td>\n",
       "    </tr>\n",
       "    <tr>\n",
       "      <th>16984</th>\n",
       "      <td>1885</td>\n",
       "      <td>2640</td>\n",
       "      <td>0</td>\n",
       "      <td>0.000770</td>\n",
       "    </tr>\n",
       "    <tr>\n",
       "      <th>11348</th>\n",
       "      <td>2232</td>\n",
       "      <td>2953</td>\n",
       "      <td>0</td>\n",
       "      <td>0.000751</td>\n",
       "    </tr>\n",
       "    <tr>\n",
       "      <th>21017</th>\n",
       "      <td>2020</td>\n",
       "      <td>1613</td>\n",
       "      <td>0</td>\n",
       "      <td>0.000722</td>\n",
       "    </tr>\n",
       "    <tr>\n",
       "      <th>13067</th>\n",
       "      <td>175</td>\n",
       "      <td>3717</td>\n",
       "      <td>0</td>\n",
       "      <td>0.000554</td>\n",
       "    </tr>\n",
       "    <tr>\n",
       "      <th>6005</th>\n",
       "      <td>2003</td>\n",
       "      <td>4026</td>\n",
       "      <td>1</td>\n",
       "      <td>0.000476</td>\n",
       "    </tr>\n",
       "    <tr>\n",
       "      <th>21043</th>\n",
       "      <td>697</td>\n",
       "      <td>4401</td>\n",
       "      <td>0</td>\n",
       "      <td>0.000084</td>\n",
       "    </tr>\n",
       "  </tbody>\n",
       "</table>\n",
       "<p>22366 rows × 4 columns</p>\n",
       "</div>"
      ],
      "text/plain": [
       "          0     1  2  predicted\n",
       "8352   3595  3279  1   0.999925\n",
       "2692   3475  3279  1   0.999893\n",
       "485    3279  2405  1   0.999877\n",
       "7150   2776  3494  1   0.999874\n",
       "1332   4284  4102  1   0.999829\n",
       "7750   3557  3279  1   0.999775\n",
       "7117   4379  4026  1   0.999754\n",
       "1728   4384   712  1   0.999688\n",
       "1086   4057  4419  1   0.999582\n",
       "5481   3339  4489  1   0.999562\n",
       "16965  2523  3343  0   0.999558\n",
       "5762   4479  2475  1   0.999552\n",
       "279    2195  2403  1   0.999507\n",
       "3635   3593  1985  1   0.999506\n",
       "10011  1372  3279  1   0.999489\n",
       "9008   2195  4136  1   0.999476\n",
       "6930   2753  4419  1   0.999451\n",
       "1092   2776  4026  1   0.999422\n",
       "6212   4503  4489  1   0.999399\n",
       "3373   3831  4026  1   0.999380\n",
       "5076   2251  3714  1   0.999354\n",
       "7313   4006  1658  1   0.999344\n",
       "7974   4006  3475  1   0.999340\n",
       "5749   4006  2016  1   0.999325\n",
       "4243   3339  3723  1   0.999317\n",
       "6531   4006  2958  1   0.999305\n",
       "1655   2417  1985  1   0.999305\n",
       "10606  2403  2823  1   0.999304\n",
       "2114   3494  4489  1   0.999296\n",
       "2303   1451  3031  1   0.999280\n",
       "...     ...   ... ..        ...\n",
       "11417  3787  2869  0   0.001606\n",
       "17164   415   907  0   0.001604\n",
       "19147  2784  1283  0   0.001540\n",
       "719    1985   959  1   0.001522\n",
       "14718   362  1393  0   0.001518\n",
       "17003  2899   518  0   0.001474\n",
       "269    3079   858  1   0.001455\n",
       "20718  4078  4061  0   0.001429\n",
       "11904  2845  2087  0   0.001372\n",
       "17154  3470  2454  0   0.001339\n",
       "10504  3441  1913  1   0.001314\n",
       "2295   4217   380  1   0.001276\n",
       "16547  1524  4258  0   0.001264\n",
       "21105  2303  3841  0   0.001235\n",
       "9932   2400  4214  1   0.001176\n",
       "15895   656   372  0   0.001152\n",
       "1093    959  4410  1   0.001057\n",
       "6862   4175  3701  1   0.001030\n",
       "19151  1850  3946  0   0.001029\n",
       "5981   4310  1444  1   0.001010\n",
       "19250  2843  2697  0   0.000993\n",
       "13553  3943   406  0   0.000906\n",
       "7270   1289  1815  1   0.000867\n",
       "21695  1104  1803  0   0.000830\n",
       "16984  1885  2640  0   0.000770\n",
       "11348  2232  2953  0   0.000751\n",
       "21017  2020  1613  0   0.000722\n",
       "13067   175  3717  0   0.000554\n",
       "6005   2003  4026  1   0.000476\n",
       "21043   697  4401  0   0.000084\n",
       "\n",
       "[22366 rows x 4 columns]"
      ]
     },
     "execution_count": 48,
     "metadata": {},
     "output_type": "execute_result"
    }
   ],
   "source": [
    "df"
   ]
  },
  {
   "cell_type": "code",
   "execution_count": 49,
   "metadata": {
    "collapsed": true
   },
   "outputs": [],
   "source": [
    "df.to_csv(\"../Gene-Network-Embedding/data/ecoli/latest_predictions.txt\", index=False, header=False, sep=\",\")"
   ]
  },
  {
   "cell_type": "code",
   "execution_count": 178,
   "metadata": {
    "collapsed": true
   },
   "outputs": [],
   "source": [
    "test_roc = roc_auc_score(df.iloc[:,2], df.iloc[:,3])\n",
    "test_ap = average_precision_score(df.iloc[:,2], df.iloc[:,3])"
   ]
  },
  {
   "cell_type": "code",
   "execution_count": 92,
   "metadata": {},
   "outputs": [
    {
     "name": "stdout",
     "output_type": "stream",
     "text": [
      "GNE Test ROC score:  0.5077792537597847\n",
      "GNE Test AP score:  0.511080217350957\n"
     ]
    }
   ],
   "source": [
    "print('GNE Test ROC score: ', str(test_roc))\n",
    "print('GNE Test AP score: ', str(test_ap))"
   ]
  },
  {
   "cell_type": "code",
   "execution_count": null,
   "metadata": {
    "collapsed": true
   },
   "outputs": [],
   "source": []
  }
 ],
 "metadata": {
  "kernelspec": {
   "display_name": "Python 3",
   "language": "python",
   "name": "python3"
  },
  "language_info": {
   "codemirror_mode": {
    "name": "ipython",
    "version": 3
   },
   "file_extension": ".py",
   "mimetype": "text/x-python",
   "name": "python",
   "nbconvert_exporter": "python",
   "pygments_lexer": "ipython3",
   "version": "3.6.3"
  }
 },
 "nbformat": 4,
 "nbformat_minor": 2
}
