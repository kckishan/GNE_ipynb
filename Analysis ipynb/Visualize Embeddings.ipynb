{
 "cells": [
  {
   "cell_type": "code",
   "execution_count": 6,
   "metadata": {
    "collapsed": true
   },
   "outputs": [],
   "source": [
    "import pandas as pd\n",
    "import pickle\n",
    "import evaluation"
   ]
  },
  {
   "cell_type": "code",
   "execution_count": 8,
   "metadata": {},
   "outputs": [],
   "source": [
    "node2vec_embeddings = evaluation.load_embedding(\"./output/yeast/deepWalk_embeddings/final_emb_0.2.txt\", 5950, combineAttribute=False)"
   ]
  },
  {
   "cell_type": "code",
   "execution_count": 9,
   "metadata": {},
   "outputs": [
    {
     "data": {
      "text/plain": [
       "(5950, 128)"
      ]
     },
     "execution_count": 9,
     "metadata": {},
     "output_type": "execute_result"
    }
   ],
   "source": [
    "node2vec_embeddings.shape"
   ]
  },
  {
   "cell_type": "code",
   "execution_count": 11,
   "metadata": {},
   "outputs": [],
   "source": [
    "pd.DataFrame(node2vec_embeddings).to_csv(\"./output/embedding_visualization/yeast/node2vec_yeast_embeddings.txt\", header=False, index=False, sep=\"\\t\")"
   ]
  },
  {
   "cell_type": "code",
   "execution_count": 12,
   "metadata": {
    "collapsed": true
   },
   "outputs": [],
   "source": [
    "line_embeddings = evaluation.load_embedding(\"./output/yeast/line_embeddings/emb_8.txt\", 5950, combineAttribute=False)\n",
    "line_embeddings.shape\n",
    "pd.DataFrame(line_embeddings).to_csv(\"./output/embedding_visualization/yeast/line_yeast_embeddings.txt\", header=False, index=False, sep=\"\\t\")"
   ]
  },
  {
   "cell_type": "code",
   "execution_count": 13,
   "metadata": {
    "collapsed": true
   },
   "outputs": [],
   "source": [
    "line_embeddings = evaluation.load_embedding(\"./output/ecoli/line_embeddings/emb_8.txt\", 4511, combineAttribute=False)\n",
    "line_embeddings.shape\n",
    "pd.DataFrame(line_embeddings).to_csv(\"./output/embedding_visualization/ecoli/line_yeast_embeddings.txt\", header=False, index=False, sep=\"\\t\")"
   ]
  },
  {
   "cell_type": "code",
   "execution_count": 14,
   "metadata": {
    "collapsed": true
   },
   "outputs": [],
   "source": [
    "node2vec_embeddings = evaluation.load_embedding(\"./output/ecoli/deepWalk_embeddings/final_emb_0.2.txt\", 4511, combineAttribute=False)\n",
    "node2vec_embeddings.shape\n",
    "pd.DataFrame(node2vec_embeddings).to_csv(\"./output/embedding_visualization/ecoli/node2vec_ecoli_embeddings.txt\", header=False, index=False, sep=\"\\t\")"
   ]
  },
  {
   "cell_type": "code",
   "execution_count": 24,
   "metadata": {
    "collapsed": true
   },
   "outputs": [],
   "source": [
    "gene_list = pd.read_csv(\"./data/ecoli/net3_gene_ids.tsv\", header=0, sep=\"\\t\")"
   ]
  },
  {
   "cell_type": "code",
   "execution_count": 25,
   "metadata": {},
   "outputs": [],
   "source": [
    "gene_list = gene_list.iloc[:,1]"
   ]
  },
  {
   "cell_type": "code",
   "execution_count": 26,
   "metadata": {
    "collapsed": true
   },
   "outputs": [],
   "source": [
    "pd.DataFrame(gene_list).to_csv(\"./output/embedding_visualization/ecoli/ecoli_ids.txt\", header=False, index=False, sep=\"\\t\")"
   ]
  }
 ],
 "metadata": {
  "kernelspec": {
   "display_name": "Python 3",
   "language": "python",
   "name": "python3"
  },
  "language_info": {
   "codemirror_mode": {
    "name": "ipython",
    "version": 3
   },
   "file_extension": ".py",
   "mimetype": "text/x-python",
   "name": "python",
   "nbconvert_exporter": "python",
   "pygments_lexer": "ipython3",
   "version": "3.6.3"
  }
 },
 "nbformat": 4,
 "nbformat_minor": 2
}
