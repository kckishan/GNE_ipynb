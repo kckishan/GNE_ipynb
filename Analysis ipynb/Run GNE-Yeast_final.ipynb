{
 "cells": [
  {
   "cell_type": "code",
   "execution_count": 35,
   "metadata": {},
   "outputs": [],
   "source": [
    "import pickle \n",
    "import LoadData as data\n",
    "import numpy as np\n",
    "from GNE import GNE\n",
    "from evaluation import *\n",
    "from utils import *\n",
    "import pandas as pd\n",
    "import scipy.sparse as sp\n",
    "import random"
   ]
  },
  {
   "cell_type": "code",
   "execution_count": null,
   "metadata": {
    "collapsed": true
   },
   "outputs": [],
   "source": [
    "def split_seq(seq, num_splits):\n",
    "        newseq = []\n",
    "        splitsize = 1.0/num_splits*len(seq)\n",
    "        for i in range(num_splits):\n",
    "                newseq.append(seq[int(round(i*splitsize)):int(round((i+1)*splitsize))])\n",
    "        return newseq"
   ]
  },
  {
   "cell_type": "code",
   "execution_count": null,
   "metadata": {
    "collapsed": true
   },
   "outputs": [],
   "source": []
  },
  {
   "cell_type": "code",
   "execution_count": 43,
   "metadata": {
    "collapsed": true
   },
   "outputs": [],
   "source": [
    "path = './data/ecoli/'"
   ]
  },
  {
   "cell_type": "code",
   "execution_count": 44,
   "metadata": {},
   "outputs": [
    {
     "name": "stdout",
     "output_type": "stream",
     "text": [
      "### Loading [./data/ecoli/edgelist_biogrid.txt]...\n"
     ]
    }
   ],
   "source": [
    "\n",
    "geneids = pd.read_csv(path + \"gene_ids.tsv\", sep=\" \")\n",
    "num_genes = geneids.shape[0]\n",
    "link_file = path + \"edgelist_biogrid.txt\"\n",
    "\n",
    "adj = load_network(link_file, num_genes)"
   ]
  },
  {
   "cell_type": "code",
   "execution_count": 45,
   "metadata": {},
   "outputs": [
    {
     "data": {
      "text/plain": [
       "148340.0"
      ]
     },
     "execution_count": 45,
     "metadata": {},
     "output_type": "execute_result"
    }
   ],
   "source": [
    "np.sum(adj)"
   ]
  },
  {
   "cell_type": "code",
   "execution_count": null,
   "metadata": {
    "collapsed": true
   },
   "outputs": [],
   "source": [
    "def create_dataset_for_comparison(path, adj):\n",
    "    print(\"Creating 2 split of data\")\n",
    "    g = nx.Graph(adj)\n",
    "    adj = nx.to_scipy_sparse_matrix(g)\n",
    "    # Remove diagonal elements\n",
    "    adj = adj - sp.dia_matrix((adj.diagonal()[np.newaxis, :], [0]), shape=adj.shape)\n",
    "    adj.eliminate_zeros()\n",
    "\n",
    "    # Split link information to train and validation with test split size\n",
    "    edgelist = convertAdjMatrixToSortedRankTSV(adj.todense())\n",
    "    geneids = edgelist.iloc[:, :2]\n",
    "    col1 = np.array(geneids).min(axis=1).astype(int)\n",
    "    col2 = np.array(geneids).max(axis=1).astype(int)\n",
    "    col3 = np.array(edgelist.iloc[:, 2])\n",
    "    data_df = pd.DataFrame()\n",
    "    data_df['i'] = col1\n",
    "    data_df['j'] = col2\n",
    "    data_df['k'] = col3\n",
    "    data_df = data_df.drop_duplicates()\n",
    "\n",
    "    pos_edges = data_df.loc[data_df.iloc[:, 2] == 1]\n",
    "    neg_edgelist = data_df.loc[data_df.iloc[:, 2] == 0]\n",
    "    ind = random.sample(range(len(neg_edgelist)), pos_edges.shape[0])\n",
    "    neg_edges = pd.DataFrame(np.random.permutation(neg_edgelist.values))\n",
    "    neg_edges = neg_edges.iloc[ind, :]\n",
    "\n",
    "#     assert set(map(tuple, pos_edges)).isdisjoint(set(map(tuple, neg_edges)))\n",
    "    return pos_edges, neg_edges"
   ]
  },
  {
   "cell_type": "code",
   "execution_count": null,
   "metadata": {
    "collapsed": true
   },
   "outputs": [],
   "source": [
    "X_pos, X_neg = create_dataset_for_comparison(path, adj)"
   ]
  },
  {
   "cell_type": "code",
   "execution_count": null,
   "metadata": {
    "collapsed": true
   },
   "outputs": [],
   "source": [
    "X_pos, X_neg = X_pos.values, X_neg.values"
   ]
  },
  {
   "cell_type": "code",
   "execution_count": null,
   "metadata": {
    "collapsed": true
   },
   "outputs": [],
   "source": [
    "X_pos, X_neg = X_pos.astype(int), X_neg.astype(int)"
   ]
  },
  {
   "cell_type": "code",
   "execution_count": null,
   "metadata": {
    "collapsed": true
   },
   "outputs": [],
   "source": [
    "randomized_indices = np.random.permutation(range(len(X_pos)))"
   ]
  },
  {
   "cell_type": "code",
   "execution_count": null,
   "metadata": {
    "collapsed": true
   },
   "outputs": [],
   "source": [
    "index_splits = split_seq(range(len(X_pos)), 2)"
   ]
  },
  {
   "cell_type": "code",
   "execution_count": null,
   "metadata": {
    "collapsed": true
   },
   "outputs": [],
   "source": [
    "test_index = randomized_indices[index_splits[1]]"
   ]
  },
  {
   "cell_type": "code",
   "execution_count": null,
   "metadata": {
    "collapsed": true
   },
   "outputs": [],
   "source": [
    "train_index = randomized_indices[index_splits[0]]"
   ]
  },
  {
   "cell_type": "code",
   "execution_count": null,
   "metadata": {
    "collapsed": true
   },
   "outputs": [],
   "source": [
    "train_edges = X_pos[train_index,:]\n",
    "train_edges_false = X_neg[train_index,:]\n",
    "val_edges = X_pos[train_index,:]\n",
    "val_edges_false = X_neg[train_index,:]\n",
    "test_edges = X_pos[test_index,:]\n",
    "test_edges_false = X_neg[test_index,:]"
   ]
  },
  {
   "cell_type": "code",
   "execution_count": null,
   "metadata": {
    "collapsed": true
   },
   "outputs": [],
   "source": [
    "pd.DataFrame(train_edges).to_csv(\"/Users/kk3671/Documents/OpenNE/data/yeast/train_links_0.5_split_1.txt\", index=False, header=False, sep=' ')"
   ]
  },
  {
   "cell_type": "code",
   "execution_count": null,
   "metadata": {
    "collapsed": true
   },
   "outputs": [],
   "source": [
    "pd.DataFrame(test_edges).to_csv(\"/Users/kk3671/Documents/OpenNE/data/yeast/train_links_0.5_split_2.txt\", index=False, header=False, sep=' ')"
   ]
  },
  {
   "cell_type": "code",
   "execution_count": null,
   "metadata": {
    "collapsed": true
   },
   "outputs": [],
   "source": [
    "train_data = np.concatenate([train_edges, train_edges_false])\n",
    "test_data =  np.concatenate([test_edges, test_edges_false])"
   ]
  },
  {
   "cell_type": "code",
   "execution_count": null,
   "metadata": {
    "collapsed": true
   },
   "outputs": [],
   "source": [
    "pd.DataFrame(train_data).to_csv(\"/Users/kk3671/Documents/OpenNE/data/yeast/train_data_1.txt\", index=False, header=False, sep=' ')\n",
    "pd.DataFrame(test_data).to_csv(\"/Users/kk3671/Documents/OpenNE/data/yeast/train_data_2.txt\", index=False, header=False, sep=' ')"
   ]
  },
  {
   "cell_type": "code",
   "execution_count": 46,
   "metadata": {
    "collapsed": true
   },
   "outputs": [],
   "source": [
    "train_data = pd.read_csv(\"/Users/kk3671/Documents/OpenNE/data/ecoli/train_data_1.txt\", header=None, sep=' ')\n",
    "test_data = pd.read_csv(\"/Users/kk3671/Documents/OpenNE/data/ecoli/train_data_2.txt\",  header=None, sep=' ')"
   ]
  },
  {
   "cell_type": "code",
   "execution_count": 7,
   "metadata": {
    "collapsed": true
   },
   "outputs": [],
   "source": [
    "train_edges = train_data.loc[train_data.iloc[:,2]==1].values\n",
    "train_edges_false = train_data.loc[train_data.iloc[:,2]==0].values\n",
    "val_edges = train_data.loc[train_data.iloc[:,2]==1].values\n",
    "val_edges_false = train_data.loc[train_data.iloc[:,2]==0].values\n",
    "test_edges = test_data.loc[test_data.iloc[:,2]==1].values\n",
    "test_edges_false = test_data.loc[test_data.iloc[:,2]==0].values"
   ]
  },
  {
   "cell_type": "code",
   "execution_count": 8,
   "metadata": {},
   "outputs": [
    {
     "data": {
      "text/plain": [
       "(73738, 3)"
      ]
     },
     "execution_count": 8,
     "metadata": {},
     "output_type": "execute_result"
    }
   ],
   "source": [
    "train_edges.shape"
   ]
  },
  {
   "cell_type": "code",
   "execution_count": null,
   "metadata": {
    "collapsed": true
   },
   "outputs": [],
   "source": []
  },
  {
   "cell_type": "code",
   "execution_count": 9,
   "metadata": {
    "collapsed": true
   },
   "outputs": [],
   "source": [
    "a1_rows = set(map(tuple, train_edges))"
   ]
  },
  {
   "cell_type": "code",
   "execution_count": 10,
   "metadata": {
    "collapsed": true
   },
   "outputs": [],
   "source": [
    "a2_rows = set(map(tuple, test_edges))"
   ]
  },
  {
   "cell_type": "code",
   "execution_count": 11,
   "metadata": {},
   "outputs": [
    {
     "data": {
      "text/plain": [
       "True"
      ]
     },
     "execution_count": 11,
     "metadata": {},
     "output_type": "execute_result"
    }
   ],
   "source": [
    "a1_rows.isdisjoint(a2_rows)"
   ]
  },
  {
   "cell_type": "code",
   "execution_count": 12,
   "metadata": {
    "collapsed": true
   },
   "outputs": [],
   "source": [
    "feature_file = path + 'expression_data.tsv'"
   ]
  },
  {
   "cell_type": "code",
   "execution_count": 6,
   "metadata": {},
   "outputs": [],
   "source": [
    "test_split_file = open(path + \"split_data_\" + str(0.9) + \".pkl\", 'rb')\n",
    "dataset = pickle.load(test_split_file)\n",
    "test_split_file.close()"
   ]
  },
  {
   "cell_type": "code",
   "execution_count": 7,
   "metadata": {
    "collapsed": true
   },
   "outputs": [],
   "source": [
    "train_edges = dataset['train_pos']\n",
    "train_edges_false = dataset['train_neg']\n",
    "val_edges = dataset['val_pos']\n",
    "val_edges_false = dataset['val_neg']\n",
    "test_edges = dataset['test_pos']\n",
    "test_edges_false = dataset['test_neg']"
   ]
  },
  {
   "cell_type": "code",
   "execution_count": 10,
   "metadata": {},
   "outputs": [
    {
     "name": "stdout",
     "output_type": "stream",
     "text": [
      "Total nodes: 5950\n",
      "Total edges: 544652.0\n",
      "Training edges (positive): 395875\n",
      "Training edges (negative): 395875\n",
      "Validation edges (positive): 43987\n",
      "Validation edges (negative): 43987\n",
      "Test edges (positive): 48874\n",
      "Test edges (negative): 48874\n"
     ]
    }
   ],
   "source": [
    "# Inspect train/test split\n",
    "print(\"Total nodes:\", adj.shape[0])\n",
    "print(\"Total edges:\", np.sum(adj))  # adj is symmetric, so nnz (num non-zero) = 2*num_edges\n",
    "print(\"Training edges (positive):\", len(train_edges))\n",
    "print(\"Training edges (negative):\", len(train_edges_false))\n",
    "print(\"Validation edges (positive):\", len(val_edges))\n",
    "print(\"Validation edges (negative):\", len(val_edges_false))\n",
    "print(\"Test edges (positive):\", len(test_edges))\n",
    "print(\"Test edges (negative):\", len(test_edges_false))"
   ]
  },
  {
   "cell_type": "code",
   "execution_count": 11,
   "metadata": {
    "collapsed": true
   },
   "outputs": [],
   "source": [
    "validation_edges =  np.concatenate([val_edges, val_edges_false])\n",
    "val_edge_labels = np.concatenate([np.ones(len(val_edges)), np.zeros(len(val_edges_false))])"
   ]
  },
  {
   "cell_type": "code",
   "execution_count": null,
   "metadata": {
    "collapsed": true
   },
   "outputs": [],
   "source": []
  },
  {
   "cell_type": "code",
   "execution_count": 18,
   "metadata": {},
   "outputs": [
    {
     "name": "stdout",
     "output_type": "stream",
     "text": [
      "Constructing Nodes\n",
      "attr_M: 536\n",
      "id_N: 5950\n",
      "Reading training links\n",
      "Constructing Neighborhood maps\n",
      "Constructing train data\n"
     ]
    }
   ],
   "source": [
    "Data = data.LoadData(path, train_links=train_edges, features_file=feature_file)"
   ]
  },
  {
   "cell_type": "code",
   "execution_count": 19,
   "metadata": {},
   "outputs": [
    {
     "data": {
      "text/plain": [
       "395875"
      ]
     },
     "execution_count": 19,
     "metadata": {},
     "output_type": "execute_result"
    }
   ],
   "source": [
    "len(train_edges)"
   ]
  },
  {
   "cell_type": "code",
   "execution_count": 20,
   "metadata": {},
   "outputs": [
    {
     "data": {
      "text/plain": [
       "48874"
      ]
     },
     "execution_count": 20,
     "metadata": {},
     "output_type": "execute_result"
    }
   ],
   "source": [
    "len(test_edges)"
   ]
  },
  {
   "cell_type": "code",
   "execution_count": 21,
   "metadata": {},
   "outputs": [
    {
     "data": {
      "text/plain": [
       "{'alpha': 1,\n",
       " 'attr_embedding_size': 128,\n",
       " 'batch_size': 128,\n",
       " 'epoch': 20,\n",
       " 'id_embedding_size': 128,\n",
       " 'learning_rate': 0.002,\n",
       " 'n_neg_samples': 10,\n",
       " 'representation_size': 128}"
      ]
     },
     "execution_count": 21,
     "metadata": {},
     "output_type": "execute_result"
    }
   ],
   "source": [
    "parameters = {}\n",
    "parameters['id_embedding_size'] = 128\n",
    "parameters['attr_embedding_size'] = 128\n",
    "parameters['batch_size'] = 128\n",
    "parameters['alpha'] = 1\n",
    "parameters['n_neg_samples'] = 10\n",
    "parameters['epoch'] = 20\n",
    "parameters['representation_size'] = 128\n",
    "parameters['learning_rate'] = 0.002\n",
    "parameters"
   ]
  },
  {
   "cell_type": "code",
   "execution_count": 22,
   "metadata": {},
   "outputs": [
    {
     "name": "stdout",
     "output_type": "stream",
     "text": [
      "WARNING:tensorflow:From /Users/kk3671/anaconda3/lib/python3.6/site-packages/tensorflow/python/ops/nn_impl.py:1344: softmax_cross_entropy_with_logits (from tensorflow.python.ops.nn_ops) is deprecated and will be removed in a future version.\n",
      "Instructions for updating:\n",
      "\n",
      "Future major versions of TensorFlow will allow gradients to flow\n",
      "into the labels input on backprop by default.\n",
      "\n",
      "See @{tf.nn.softmax_cross_entropy_with_logits_v2}.\n",
      "\n",
      "{'id_embedding_size': 128, 'attr_embedding_size': 128, 'batch_size': 128, 'alpha': 1, 'n_neg_samples': 10, 'epoch': 20, 'representation_size': 128, 'learning_rate': 0.002}\n"
     ]
    }
   ],
   "source": [
    "model = GNE(path, Data, 2018, parameters)"
   ]
  },
  {
   "cell_type": "code",
   "execution_count": 23,
   "metadata": {
    "scrolled": false
   },
   "outputs": [
    {
     "name": "stdout",
     "output_type": "stream",
     "text": [
      "Using structure and attribute embedding\n",
      "Epoch:      1, Train-Batch Loss: 7.664445485, Validation AUC: 0.613114838 *\n",
      "Epoch:      2, Train-Batch Loss: 5.851905940, Validation AUC: 0.672961554 *\n",
      "Epoch:      3, Train-Batch Loss: 4.208199690, Validation AUC: 0.682378791 *\n",
      "Epoch:      4, Train-Batch Loss: 2.759073359, Validation AUC: 0.721388262 *\n",
      "Epoch:      5, Train-Batch Loss: 1.735395315, Validation AUC: 0.763078638 *\n",
      "Epoch:      6, Train-Batch Loss: 1.383411345, Validation AUC: 0.770957263 *\n",
      "Epoch:      7, Train-Batch Loss: 1.296350274, Validation AUC: 0.774573288 *\n",
      "Epoch:      8, Train-Batch Loss: 1.237961712, Validation AUC: 0.779877368 *\n",
      "Epoch:      9, Train-Batch Loss: 1.212167763, Validation AUC: 0.787016381 *\n",
      "Epoch:     10, Train-Batch Loss: 1.191597908, Validation AUC: 0.790011660 *\n",
      "Epoch:     11, Train-Batch Loss: 1.168718977, Validation AUC: 0.793179585 *\n",
      "Epoch:     12, Train-Batch Loss: 1.165197685, Validation AUC: 0.795553109 *\n",
      "Epoch:     13, Train-Batch Loss: 1.136695454, Validation AUC: 0.797227304 *\n",
      "Epoch:     14, Train-Batch Loss: 1.131972422, Validation AUC: 0.798292934 *\n",
      "Epoch:     15, Train-Batch Loss: 1.132923917, Validation AUC: 0.796923642 \n",
      "Epoch:     16, Train-Batch Loss: 1.129799266, Validation AUC: 0.794773693 \n",
      "Epoch:     17, Train-Batch Loss: 1.099979134, Validation AUC: 0.792049610 \n",
      "No improvement found in a while, stopping optimization.\n"
     ]
    }
   ],
   "source": [
    "embeddings = model.train(validation_edges, val_edge_labels)"
   ]
  },
  {
   "cell_type": "code",
   "execution_count": 24,
   "metadata": {
    "collapsed": true
   },
   "outputs": [],
   "source": [
    "import pandas as pd\n",
    "pd.DataFrame(embeddings).to_csv(\"embeddings_ecoli.txt\", header=False, index=False, sep=\",\")"
   ]
  },
  {
   "cell_type": "code",
   "execution_count": 2,
   "metadata": {
    "collapsed": true
   },
   "outputs": [],
   "source": [
    "embeddings = pd.read_csv(\"embeddings_ecoli.txt\", header=None, sep=\",\").values"
   ]
  },
  {
   "cell_type": "code",
   "execution_count": 12,
   "metadata": {},
   "outputs": [
    {
     "data": {
      "text/plain": [
       "array([[9.940e+02, 4.797e+03, 1.000e+00],\n",
       "       [5.336e+03, 5.768e+03, 1.000e+00],\n",
       "       [7.350e+02, 5.308e+03, 1.000e+00],\n",
       "       ...,\n",
       "       [4.210e+02, 1.777e+03, 1.000e+00],\n",
       "       [3.758e+03, 4.693e+03, 1.000e+00],\n",
       "       [1.625e+03, 3.283e+03, 1.000e+00]])"
      ]
     },
     "execution_count": 12,
     "metadata": {},
     "output_type": "execute_result"
    }
   ],
   "source": [
    "train_edges"
   ]
  },
  {
   "cell_type": "code",
   "execution_count": 13,
   "metadata": {},
   "outputs": [
    {
     "data": {
      "text/plain": [
       "(5950, 128)"
      ]
     },
     "execution_count": 13,
     "metadata": {},
     "output_type": "execute_result"
    }
   ],
   "source": [
    "embeddings.shape"
   ]
  },
  {
   "cell_type": "code",
   "execution_count": 14,
   "metadata": {
    "collapsed": true
   },
   "outputs": [],
   "source": [
    "# Train-set edge embeddings\n",
    "pos_train_edge_embs = get_edge_embeddings(embeddings, train_edges)\n",
    "neg_train_edge_embs = get_edge_embeddings(embeddings, train_edges_false)\n",
    "train_edge_embs = np.concatenate([pos_train_edge_embs, neg_train_edge_embs])\n",
    "# Create train-set edge labels: 1 = real edge, 0 = false edge\n",
    "train_edge_labels = np.concatenate([np.ones(len(train_edges)), np.zeros(len(train_edges_false))])"
   ]
  },
  {
   "cell_type": "code",
   "execution_count": 15,
   "metadata": {
    "collapsed": true
   },
   "outputs": [],
   "source": [
    "# Test-set edge embeddings, labels\n",
    "pos_test_edge_embs = get_edge_embeddings(embeddings, test_edges)\n",
    "neg_test_edge_embs = get_edge_embeddings(embeddings, test_edges_false)\n",
    "test_edge_embs = np.concatenate([pos_test_edge_embs, neg_test_edge_embs])\n",
    "\n",
    "# Create val-set edge labels: 1 = real edge, 0 = false edge\n",
    "test_edge_labels = np.concatenate([np.ones(len(test_edges)), np.zeros(len(test_edges_false))])"
   ]
  },
  {
   "cell_type": "code",
   "execution_count": 16,
   "metadata": {
    "collapsed": true
   },
   "outputs": [],
   "source": [
    "index = np.random.permutation([i for i in range(len(train_edge_labels))])\n",
    "train_data = train_edge_embs[index,:]\n",
    "train_labels = train_edge_labels[index]"
   ]
  },
  {
   "cell_type": "code",
   "execution_count": 17,
   "metadata": {
    "collapsed": true
   },
   "outputs": [],
   "source": [
    "index = np.random.permutation([i for i in range(len(test_edge_labels))])\n",
    "test_data = test_edge_embs[index,:]\n",
    "test_labels = test_edge_labels[index]"
   ]
  },
  {
   "cell_type": "code",
   "execution_count": 18,
   "metadata": {},
   "outputs": [
    {
     "data": {
      "text/plain": [
       "LogisticRegression(C=1.0, class_weight=None, dual=False, fit_intercept=True,\n",
       "          intercept_scaling=1, max_iter=100, multi_class='ovr', n_jobs=1,\n",
       "          penalty='l2', random_state=0, solver='liblinear', tol=0.0001,\n",
       "          verbose=0, warm_start=False)"
      ]
     },
     "execution_count": 18,
     "metadata": {},
     "output_type": "execute_result"
    }
   ],
   "source": [
    "# Train logistic regression classifier on train-set edge embeddings\n",
    "from sklearn.linear_model import LogisticRegression\n",
    "\n",
    "edge_classifier = LogisticRegression(random_state=0)\n",
    "edge_classifier.fit(train_data, train_labels)"
   ]
  },
  {
   "cell_type": "code",
   "execution_count": null,
   "metadata": {
    "collapsed": true
   },
   "outputs": [],
   "source": [
    "test_preds = edge_classifier.predict_proba(test_data)[:, 1]\n",
    "test_roc = roc_auc_score(test_labels, test_preds)\n",
    "test_ap = average_precision_score(test_labels, test_preds)"
   ]
  },
  {
   "cell_type": "code",
   "execution_count": null,
   "metadata": {
    "collapsed": true
   },
   "outputs": [],
   "source": [
    "print('GNE Test ROC score: ', str(test_roc))\n",
    "print('GNE Test AP score: ', str(test_ap))"
   ]
  },
  {
   "cell_type": "code",
   "execution_count": null,
   "metadata": {
    "collapsed": true
   },
   "outputs": [],
   "source": []
  },
  {
   "cell_type": "code",
   "execution_count": null,
   "metadata": {
    "collapsed": true
   },
   "outputs": [],
   "source": [
    "# Ecoli\n",
    "#GNE Test ROC score:  0.940158504921\n",
    "#GNE Test AP score:  0.93897040116"
   ]
  },
  {
   "cell_type": "code",
   "execution_count": null,
   "metadata": {
    "collapsed": true
   },
   "outputs": [],
   "source": [
    "# yeast\n",
    "# GNE Test ROC score:  0.821812518988\n",
    "# GNE Test AP score:  0.80728890868"
   ]
  },
  {
   "cell_type": "code",
   "execution_count": null,
   "metadata": {
    "collapsed": true
   },
   "outputs": [],
   "source": [
    "# Ecoli\n",
    "# Only using attribute embeddings with 90% training interactions\n",
    "# GNE Test ROC score:  0.94749334705\n",
    "# GNE Test AP score:  0.940346079826"
   ]
  },
  {
   "cell_type": "code",
   "execution_count": null,
   "metadata": {
    "collapsed": true
   },
   "outputs": [],
   "source": [
    "# Yeast\n",
    "# Only using attribute embeddings with 90% training interactions\n",
    "# GNE Test ROC score:  0.841304460612\n",
    "# GNE Test AP score:  0.83745133239"
   ]
  },
  {
   "cell_type": "code",
   "execution_count": 40,
   "metadata": {
    "collapsed": true
   },
   "outputs": [],
   "source": [
    "evaluation_data = pd.read_csv(\"/Users/kk3671/Documents/yeast_evaluation_data.txt\", header=None, sep=\" \")"
   ]
  },
  {
   "cell_type": "code",
   "execution_count": 41,
   "metadata": {
    "collapsed": true
   },
   "outputs": [],
   "source": [
    "test_edges = evaluation_data.iloc[:,:2].values"
   ]
  },
  {
   "cell_type": "code",
   "execution_count": 42,
   "metadata": {},
   "outputs": [
    {
     "data": {
      "text/plain": [
       "array([[ 339, 4264],\n",
       "       [ 649, 2147],\n",
       "       [4216, 1904],\n",
       "       ...,\n",
       "       [3962, 1959],\n",
       "       [2822,  435],\n",
       "       [3111, 2705]])"
      ]
     },
     "execution_count": 42,
     "metadata": {},
     "output_type": "execute_result"
    }
   ],
   "source": [
    "test_edges"
   ]
  },
  {
   "cell_type": "code",
   "execution_count": 22,
   "metadata": {
    "collapsed": true
   },
   "outputs": [],
   "source": [
    "test_edge_embs = get_edge_embeddings(embeddings, test_edges)"
   ]
  },
  {
   "cell_type": "code",
   "execution_count": 23,
   "metadata": {
    "collapsed": true
   },
   "outputs": [],
   "source": [
    "test_edge_labels = evaluation_data.iloc[:,2].values"
   ]
  },
  {
   "cell_type": "code",
   "execution_count": 24,
   "metadata": {},
   "outputs": [
    {
     "data": {
      "text/plain": [
       "array([1, 1, 1, ..., 0, 0, 0])"
      ]
     },
     "execution_count": 24,
     "metadata": {},
     "output_type": "execute_result"
    }
   ],
   "source": [
    "test_edge_labels"
   ]
  },
  {
   "cell_type": "code",
   "execution_count": 25,
   "metadata": {
    "collapsed": true
   },
   "outputs": [],
   "source": [
    "\n",
    "test_data = test_edge_embs\n",
    "test_labels = test_edge_labels"
   ]
  },
  {
   "cell_type": "code",
   "execution_count": 26,
   "metadata": {
    "collapsed": true
   },
   "outputs": [],
   "source": [
    "test_preds = edge_classifier.predict_proba(test_data)[:, 1]\n",
    "test_roc = roc_auc_score(test_labels, test_preds)\n",
    "test_ap = average_precision_score(test_labels, test_preds)"
   ]
  },
  {
   "cell_type": "code",
   "execution_count": 27,
   "metadata": {},
   "outputs": [
    {
     "name": "stdout",
     "output_type": "stream",
     "text": [
      "GNE Test ROC score:  0.5090662132803053\n",
      "GNE Test AP score:  0.5051738015186562\n"
     ]
    }
   ],
   "source": [
    "print('GNE Test ROC score: ', str(test_roc))\n",
    "print('GNE Test AP score: ', str(test_ap))"
   ]
  },
  {
   "cell_type": "code",
   "execution_count": 48,
   "metadata": {},
   "outputs": [
    {
     "data": {
      "text/plain": [
       "array([0.85622438, 0.10829569, 0.58840283, ..., 0.11889335, 0.10060936,\n",
       "       0.07469195])"
      ]
     },
     "execution_count": 48,
     "metadata": {},
     "output_type": "execute_result"
    }
   ],
   "source": [
    "test_preds"
   ]
  },
  {
   "cell_type": "code",
   "execution_count": null,
   "metadata": {
    "collapsed": true
   },
   "outputs": [],
   "source": [
    "from sklearn.metrics import precision_recall_curve\n",
    "import matplotlib.pyplot as plt\n",
    "\n",
    "precision, recall, thresholds = precision_recall_curve(test_labels, test_preds)\n",
    "\n",
    "plt.step(recall, precision, color='b', alpha=0.2,\n",
    "         where='post')\n",
    "plt.fill_between(recall, precision, step='post', alpha=0.2,\n",
    "                 color='b')\n",
    "\n",
    "plt.xlabel('Recall')\n",
    "plt.ylabel('Precision')\n",
    "plt.ylim([0.0, 1.05])\n",
    "plt.xlim([0.0, 1.0])\n",
    "plt.title('2-class Precision-Recall curve: AP={0:0.2f}'.format(test_ap))"
   ]
  },
  {
   "cell_type": "code",
   "execution_count": null,
   "metadata": {
    "collapsed": true
   },
   "outputs": [],
   "source": [
    "plt.show()"
   ]
  },
  {
   "cell_type": "code",
   "execution_count": null,
   "metadata": {
    "collapsed": true
   },
   "outputs": [],
   "source": [
    "thresholds"
   ]
  },
  {
   "cell_type": "code",
   "execution_count": null,
   "metadata": {
    "collapsed": true
   },
   "outputs": [],
   "source": [
    "test_preds = edge_classifier.predict(test_data)"
   ]
  },
  {
   "cell_type": "code",
   "execution_count": null,
   "metadata": {
    "collapsed": true
   },
   "outputs": [],
   "source": [
    "confusion_matrix(test_labels, test_preds)"
   ]
  },
  {
   "cell_type": "code",
   "execution_count": null,
   "metadata": {
    "collapsed": true
   },
   "outputs": [],
   "source": [
    "from matplotlib import rcParams\n",
    "rcParams['font.family'] = 'sans-serif'\n",
    "rcParams['font.sans-serif'] = ['Tahoma']\n",
    "import matplotlib.pyplot as plt"
   ]
  },
  {
   "cell_type": "code",
   "execution_count": null,
   "metadata": {
    "collapsed": true
   },
   "outputs": [],
   "source": [
    "from sklearn.metrics import precision_recall_curve\n",
    "import matplotlib.pyplot as plt\n",
    "fig = plt.figure()\n",
    "ax = fig.add_subplot(111)\n",
    "ax.set_ylabel(r\"Recall\", fontsize=16)\n",
    "# ax.axhline(y=0.839)\n",
    "ax.set_xlabel(\"Precision\", fontsize=16)\n",
    "ax.yaxis.set_ticks_position('left')\n",
    "ax.xaxis.set_ticks_position('bottom')\n",
    "\n",
    "precision, recall, thresholds = precision_recall_curve(test_labels, test_preds)\n",
    "\n",
    "ax.plot(recall, precision, color='b', alpha=1, label =\"Precision-Recall curve: area={0:0.2f}\".format(test_ap))\n",
    "ax.legend(fontsize='large')\n",
    "plt.ylim([0.0, 1.05])\n",
    "plt.xlim([0.0, 1.0])\n",
    "plt.savefig('ecoli_pr_curve.eps', dpi =1200)\n",
    "plt.show()"
   ]
  },
  {
   "cell_type": "code",
   "execution_count": 28,
   "metadata": {
    "collapsed": true
   },
   "outputs": [],
   "source": [
    "df = evaluation_data"
   ]
  },
  {
   "cell_type": "code",
   "execution_count": 29,
   "metadata": {},
   "outputs": [
    {
     "data": {
      "text/html": [
       "<div>\n",
       "<style>\n",
       "    .dataframe thead tr:only-child th {\n",
       "        text-align: right;\n",
       "    }\n",
       "\n",
       "    .dataframe thead th {\n",
       "        text-align: left;\n",
       "    }\n",
       "\n",
       "    .dataframe tbody tr th {\n",
       "        vertical-align: top;\n",
       "    }\n",
       "</style>\n",
       "<table border=\"1\" class=\"dataframe\">\n",
       "  <thead>\n",
       "    <tr style=\"text-align: right;\">\n",
       "      <th></th>\n",
       "      <th>0</th>\n",
       "      <th>1</th>\n",
       "      <th>2</th>\n",
       "    </tr>\n",
       "  </thead>\n",
       "  <tbody>\n",
       "    <tr>\n",
       "      <th>0</th>\n",
       "      <td>339</td>\n",
       "      <td>4264</td>\n",
       "      <td>1</td>\n",
       "    </tr>\n",
       "    <tr>\n",
       "      <th>1</th>\n",
       "      <td>649</td>\n",
       "      <td>2147</td>\n",
       "      <td>1</td>\n",
       "    </tr>\n",
       "    <tr>\n",
       "      <th>2</th>\n",
       "      <td>4216</td>\n",
       "      <td>1904</td>\n",
       "      <td>1</td>\n",
       "    </tr>\n",
       "    <tr>\n",
       "      <th>3</th>\n",
       "      <td>1237</td>\n",
       "      <td>3801</td>\n",
       "      <td>1</td>\n",
       "    </tr>\n",
       "    <tr>\n",
       "      <th>4</th>\n",
       "      <td>561</td>\n",
       "      <td>3809</td>\n",
       "      <td>1</td>\n",
       "    </tr>\n",
       "    <tr>\n",
       "      <th>5</th>\n",
       "      <td>226</td>\n",
       "      <td>4198</td>\n",
       "      <td>1</td>\n",
       "    </tr>\n",
       "    <tr>\n",
       "      <th>6</th>\n",
       "      <td>3441</td>\n",
       "      <td>3750</td>\n",
       "      <td>1</td>\n",
       "    </tr>\n",
       "    <tr>\n",
       "      <th>7</th>\n",
       "      <td>2958</td>\n",
       "      <td>2377</td>\n",
       "      <td>1</td>\n",
       "    </tr>\n",
       "    <tr>\n",
       "      <th>8</th>\n",
       "      <td>3689</td>\n",
       "      <td>1729</td>\n",
       "      <td>1</td>\n",
       "    </tr>\n",
       "    <tr>\n",
       "      <th>9</th>\n",
       "      <td>3720</td>\n",
       "      <td>613</td>\n",
       "      <td>1</td>\n",
       "    </tr>\n",
       "    <tr>\n",
       "      <th>10</th>\n",
       "      <td>4142</td>\n",
       "      <td>2543</td>\n",
       "      <td>1</td>\n",
       "    </tr>\n",
       "    <tr>\n",
       "      <th>11</th>\n",
       "      <td>2667</td>\n",
       "      <td>1378</td>\n",
       "      <td>1</td>\n",
       "    </tr>\n",
       "    <tr>\n",
       "      <th>12</th>\n",
       "      <td>3801</td>\n",
       "      <td>980</td>\n",
       "      <td>1</td>\n",
       "    </tr>\n",
       "    <tr>\n",
       "      <th>13</th>\n",
       "      <td>2531</td>\n",
       "      <td>4034</td>\n",
       "      <td>1</td>\n",
       "    </tr>\n",
       "    <tr>\n",
       "      <th>14</th>\n",
       "      <td>2387</td>\n",
       "      <td>2578</td>\n",
       "      <td>1</td>\n",
       "    </tr>\n",
       "    <tr>\n",
       "      <th>15</th>\n",
       "      <td>2974</td>\n",
       "      <td>3507</td>\n",
       "      <td>1</td>\n",
       "    </tr>\n",
       "    <tr>\n",
       "      <th>16</th>\n",
       "      <td>3217</td>\n",
       "      <td>3617</td>\n",
       "      <td>1</td>\n",
       "    </tr>\n",
       "    <tr>\n",
       "      <th>17</th>\n",
       "      <td>1883</td>\n",
       "      <td>4264</td>\n",
       "      <td>1</td>\n",
       "    </tr>\n",
       "    <tr>\n",
       "      <th>18</th>\n",
       "      <td>4381</td>\n",
       "      <td>2151</td>\n",
       "      <td>1</td>\n",
       "    </tr>\n",
       "    <tr>\n",
       "      <th>19</th>\n",
       "      <td>2515</td>\n",
       "      <td>4343</td>\n",
       "      <td>1</td>\n",
       "    </tr>\n",
       "    <tr>\n",
       "      <th>20</th>\n",
       "      <td>619</td>\n",
       "      <td>2973</td>\n",
       "      <td>1</td>\n",
       "    </tr>\n",
       "    <tr>\n",
       "      <th>21</th>\n",
       "      <td>1669</td>\n",
       "      <td>339</td>\n",
       "      <td>1</td>\n",
       "    </tr>\n",
       "    <tr>\n",
       "      <th>22</th>\n",
       "      <td>967</td>\n",
       "      <td>1853</td>\n",
       "      <td>1</td>\n",
       "    </tr>\n",
       "    <tr>\n",
       "      <th>23</th>\n",
       "      <td>1100</td>\n",
       "      <td>3456</td>\n",
       "      <td>1</td>\n",
       "    </tr>\n",
       "    <tr>\n",
       "      <th>24</th>\n",
       "      <td>1706</td>\n",
       "      <td>2311</td>\n",
       "      <td>1</td>\n",
       "    </tr>\n",
       "    <tr>\n",
       "      <th>25</th>\n",
       "      <td>2495</td>\n",
       "      <td>366</td>\n",
       "      <td>1</td>\n",
       "    </tr>\n",
       "    <tr>\n",
       "      <th>26</th>\n",
       "      <td>1093</td>\n",
       "      <td>2710</td>\n",
       "      <td>1</td>\n",
       "    </tr>\n",
       "    <tr>\n",
       "      <th>27</th>\n",
       "      <td>756</td>\n",
       "      <td>3358</td>\n",
       "      <td>1</td>\n",
       "    </tr>\n",
       "    <tr>\n",
       "      <th>28</th>\n",
       "      <td>4095</td>\n",
       "      <td>2543</td>\n",
       "      <td>1</td>\n",
       "    </tr>\n",
       "    <tr>\n",
       "      <th>29</th>\n",
       "      <td>3441</td>\n",
       "      <td>4321</td>\n",
       "      <td>1</td>\n",
       "    </tr>\n",
       "    <tr>\n",
       "      <th>...</th>\n",
       "      <td>...</td>\n",
       "      <td>...</td>\n",
       "      <td>...</td>\n",
       "    </tr>\n",
       "    <tr>\n",
       "      <th>22336</th>\n",
       "      <td>1300</td>\n",
       "      <td>163</td>\n",
       "      <td>0</td>\n",
       "    </tr>\n",
       "    <tr>\n",
       "      <th>22337</th>\n",
       "      <td>1590</td>\n",
       "      <td>3776</td>\n",
       "      <td>0</td>\n",
       "    </tr>\n",
       "    <tr>\n",
       "      <th>22338</th>\n",
       "      <td>4358</td>\n",
       "      <td>1301</td>\n",
       "      <td>0</td>\n",
       "    </tr>\n",
       "    <tr>\n",
       "      <th>22339</th>\n",
       "      <td>3590</td>\n",
       "      <td>923</td>\n",
       "      <td>0</td>\n",
       "    </tr>\n",
       "    <tr>\n",
       "      <th>22340</th>\n",
       "      <td>3906</td>\n",
       "      <td>1599</td>\n",
       "      <td>0</td>\n",
       "    </tr>\n",
       "    <tr>\n",
       "      <th>22341</th>\n",
       "      <td>3372</td>\n",
       "      <td>3682</td>\n",
       "      <td>0</td>\n",
       "    </tr>\n",
       "    <tr>\n",
       "      <th>22342</th>\n",
       "      <td>3548</td>\n",
       "      <td>4061</td>\n",
       "      <td>0</td>\n",
       "    </tr>\n",
       "    <tr>\n",
       "      <th>22343</th>\n",
       "      <td>4088</td>\n",
       "      <td>533</td>\n",
       "      <td>0</td>\n",
       "    </tr>\n",
       "    <tr>\n",
       "      <th>22344</th>\n",
       "      <td>70</td>\n",
       "      <td>3844</td>\n",
       "      <td>0</td>\n",
       "    </tr>\n",
       "    <tr>\n",
       "      <th>22345</th>\n",
       "      <td>2446</td>\n",
       "      <td>340</td>\n",
       "      <td>0</td>\n",
       "    </tr>\n",
       "    <tr>\n",
       "      <th>22346</th>\n",
       "      <td>2080</td>\n",
       "      <td>4380</td>\n",
       "      <td>0</td>\n",
       "    </tr>\n",
       "    <tr>\n",
       "      <th>22347</th>\n",
       "      <td>2882</td>\n",
       "      <td>4222</td>\n",
       "      <td>0</td>\n",
       "    </tr>\n",
       "    <tr>\n",
       "      <th>22348</th>\n",
       "      <td>3171</td>\n",
       "      <td>629</td>\n",
       "      <td>0</td>\n",
       "    </tr>\n",
       "    <tr>\n",
       "      <th>22349</th>\n",
       "      <td>3459</td>\n",
       "      <td>434</td>\n",
       "      <td>0</td>\n",
       "    </tr>\n",
       "    <tr>\n",
       "      <th>22350</th>\n",
       "      <td>98</td>\n",
       "      <td>73</td>\n",
       "      <td>0</td>\n",
       "    </tr>\n",
       "    <tr>\n",
       "      <th>22351</th>\n",
       "      <td>2145</td>\n",
       "      <td>2126</td>\n",
       "      <td>0</td>\n",
       "    </tr>\n",
       "    <tr>\n",
       "      <th>22352</th>\n",
       "      <td>1025</td>\n",
       "      <td>2471</td>\n",
       "      <td>0</td>\n",
       "    </tr>\n",
       "    <tr>\n",
       "      <th>22353</th>\n",
       "      <td>2041</td>\n",
       "      <td>869</td>\n",
       "      <td>0</td>\n",
       "    </tr>\n",
       "    <tr>\n",
       "      <th>22354</th>\n",
       "      <td>1525</td>\n",
       "      <td>3495</td>\n",
       "      <td>0</td>\n",
       "    </tr>\n",
       "    <tr>\n",
       "      <th>22355</th>\n",
       "      <td>3632</td>\n",
       "      <td>2782</td>\n",
       "      <td>0</td>\n",
       "    </tr>\n",
       "    <tr>\n",
       "      <th>22356</th>\n",
       "      <td>2288</td>\n",
       "      <td>3292</td>\n",
       "      <td>0</td>\n",
       "    </tr>\n",
       "    <tr>\n",
       "      <th>22357</th>\n",
       "      <td>1815</td>\n",
       "      <td>3483</td>\n",
       "      <td>0</td>\n",
       "    </tr>\n",
       "    <tr>\n",
       "      <th>22358</th>\n",
       "      <td>4443</td>\n",
       "      <td>2840</td>\n",
       "      <td>0</td>\n",
       "    </tr>\n",
       "    <tr>\n",
       "      <th>22359</th>\n",
       "      <td>131</td>\n",
       "      <td>1473</td>\n",
       "      <td>0</td>\n",
       "    </tr>\n",
       "    <tr>\n",
       "      <th>22360</th>\n",
       "      <td>4508</td>\n",
       "      <td>3029</td>\n",
       "      <td>0</td>\n",
       "    </tr>\n",
       "    <tr>\n",
       "      <th>22361</th>\n",
       "      <td>1382</td>\n",
       "      <td>1371</td>\n",
       "      <td>0</td>\n",
       "    </tr>\n",
       "    <tr>\n",
       "      <th>22362</th>\n",
       "      <td>4314</td>\n",
       "      <td>1467</td>\n",
       "      <td>0</td>\n",
       "    </tr>\n",
       "    <tr>\n",
       "      <th>22363</th>\n",
       "      <td>3962</td>\n",
       "      <td>1959</td>\n",
       "      <td>0</td>\n",
       "    </tr>\n",
       "    <tr>\n",
       "      <th>22364</th>\n",
       "      <td>2822</td>\n",
       "      <td>435</td>\n",
       "      <td>0</td>\n",
       "    </tr>\n",
       "    <tr>\n",
       "      <th>22365</th>\n",
       "      <td>3111</td>\n",
       "      <td>2705</td>\n",
       "      <td>0</td>\n",
       "    </tr>\n",
       "  </tbody>\n",
       "</table>\n",
       "<p>22366 rows × 3 columns</p>\n",
       "</div>"
      ],
      "text/plain": [
       "          0     1  2\n",
       "0       339  4264  1\n",
       "1       649  2147  1\n",
       "2      4216  1904  1\n",
       "3      1237  3801  1\n",
       "4       561  3809  1\n",
       "5       226  4198  1\n",
       "6      3441  3750  1\n",
       "7      2958  2377  1\n",
       "8      3689  1729  1\n",
       "9      3720   613  1\n",
       "10     4142  2543  1\n",
       "11     2667  1378  1\n",
       "12     3801   980  1\n",
       "13     2531  4034  1\n",
       "14     2387  2578  1\n",
       "15     2974  3507  1\n",
       "16     3217  3617  1\n",
       "17     1883  4264  1\n",
       "18     4381  2151  1\n",
       "19     2515  4343  1\n",
       "20      619  2973  1\n",
       "21     1669   339  1\n",
       "22      967  1853  1\n",
       "23     1100  3456  1\n",
       "24     1706  2311  1\n",
       "25     2495   366  1\n",
       "26     1093  2710  1\n",
       "27      756  3358  1\n",
       "28     4095  2543  1\n",
       "29     3441  4321  1\n",
       "...     ...   ... ..\n",
       "22336  1300   163  0\n",
       "22337  1590  3776  0\n",
       "22338  4358  1301  0\n",
       "22339  3590   923  0\n",
       "22340  3906  1599  0\n",
       "22341  3372  3682  0\n",
       "22342  3548  4061  0\n",
       "22343  4088   533  0\n",
       "22344    70  3844  0\n",
       "22345  2446   340  0\n",
       "22346  2080  4380  0\n",
       "22347  2882  4222  0\n",
       "22348  3171   629  0\n",
       "22349  3459   434  0\n",
       "22350    98    73  0\n",
       "22351  2145  2126  0\n",
       "22352  1025  2471  0\n",
       "22353  2041   869  0\n",
       "22354  1525  3495  0\n",
       "22355  3632  2782  0\n",
       "22356  2288  3292  0\n",
       "22357  1815  3483  0\n",
       "22358  4443  2840  0\n",
       "22359   131  1473  0\n",
       "22360  4508  3029  0\n",
       "22361  1382  1371  0\n",
       "22362  4314  1467  0\n",
       "22363  3962  1959  0\n",
       "22364  2822   435  0\n",
       "22365  3111  2705  0\n",
       "\n",
       "[22366 rows x 3 columns]"
      ]
     },
     "execution_count": 29,
     "metadata": {},
     "output_type": "execute_result"
    }
   ],
   "source": [
    "df"
   ]
  },
  {
   "cell_type": "code",
   "execution_count": 30,
   "metadata": {
    "collapsed": true
   },
   "outputs": [],
   "source": [
    "df['predicted'] = test_preds"
   ]
  },
  {
   "cell_type": "code",
   "execution_count": 31,
   "metadata": {
    "collapsed": true
   },
   "outputs": [],
   "source": [
    "df = df.sort_values(['predicted'], ascending=False)"
   ]
  },
  {
   "cell_type": "code",
   "execution_count": 32,
   "metadata": {
    "collapsed": true
   },
   "outputs": [],
   "source": [
    "test_roc = roc_auc_score(df.iloc[:,2], df.iloc[:,3])\n",
    "test_ap = average_precision_score(df.iloc[:,2], df.iloc[:,3])"
   ]
  },
  {
   "cell_type": "code",
   "execution_count": 33,
   "metadata": {},
   "outputs": [
    {
     "name": "stdout",
     "output_type": "stream",
     "text": [
      "GNE Test ROC score:  0.5090662132803053\n",
      "GNE Test AP score:  0.5051738015186562\n"
     ]
    }
   ],
   "source": [
    "print('GNE Test ROC score: ', str(test_roc))\n",
    "print('GNE Test AP score: ', str(test_ap))"
   ]
  },
  {
   "cell_type": "code",
   "execution_count": 34,
   "metadata": {
    "collapsed": true
   },
   "outputs": [],
   "source": [
    "df.to_csv(\"../Gene-Network-Embedding/data/yeast/latest_predictions.txt\", index=False, header=False, sep=\",\")"
   ]
  },
  {
   "cell_type": "code",
   "execution_count": null,
   "metadata": {
    "collapsed": true
   },
   "outputs": [],
   "source": []
  }
 ],
 "metadata": {
  "kernelspec": {
   "display_name": "Python 3",
   "language": "python",
   "name": "python3"
  },
  "language_info": {
   "codemirror_mode": {
    "name": "ipython",
    "version": 3
   },
   "file_extension": ".py",
   "mimetype": "text/x-python",
   "name": "python",
   "nbconvert_exporter": "python",
   "pygments_lexer": "ipython3",
   "version": "3.6.3"
  }
 },
 "nbformat": 4,
 "nbformat_minor": 2
}
