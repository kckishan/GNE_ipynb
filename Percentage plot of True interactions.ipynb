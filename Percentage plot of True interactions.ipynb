{
 "cells": [
  {
   "cell_type": "code",
   "execution_count": 1,
   "metadata": {},
   "outputs": [],
   "source": [
    "import pandas as pd\n",
    "import numpy as np\n",
    "import matplotlib.pyplot as plt\n",
    "from matplotlib import rc"
   ]
  },
  {
   "cell_type": "code",
   "execution_count": 29,
   "metadata": {},
   "outputs": [],
   "source": [
    "organism = \"ecoli\""
   ]
  },
  {
   "cell_type": "code",
   "execution_count": 240,
   "metadata": {},
   "outputs": [],
   "source": [
    "tfp_df = pd.read_csv('data/'+organism+'/'+organism+'_true_interactions_from_false_positives.txt', sep=\",\", header=None)"
   ]
  },
  {
   "cell_type": "code",
   "execution_count": 241,
   "metadata": {},
   "outputs": [],
   "source": [
    "tfp_df = tfp_df.drop_duplicates()"
   ]
  },
  {
   "cell_type": "code",
   "execution_count": 204,
   "metadata": {},
   "outputs": [
    {
     "name": "stderr",
     "output_type": "stream",
     "text": [
      "/Users/kishan_kc/anaconda3/lib/python3.6/site-packages/pandas/core/indexing.py:517: SettingWithCopyWarning: \n",
      "A value is trying to be set on a copy of a slice from a DataFrame.\n",
      "Try using .loc[row_indexer,col_indexer] = value instead\n",
      "\n",
      "See the caveats in the documentation: http://pandas.pydata.org/pandas-docs/stable/indexing.html#indexing-view-versus-copy\n",
      "  self.obj[item] = s\n"
     ]
    }
   ],
   "source": [
    "tfp_df.iloc[:,2] = round(tfp_df.iloc[:,2] , 3)"
   ]
  },
  {
   "cell_type": "code",
   "execution_count": 284,
   "metadata": {},
   "outputs": [],
   "source": [
    "tfp_df.iloc[:,0] = tfp_df.iloc[:,0].str.strip()"
   ]
  },
  {
   "cell_type": "code",
   "execution_count": 170,
   "metadata": {},
   "outputs": [],
   "source": [
    "fp_df_1 = pd.read_csv('data/'+organism+'/'+organism+'_prediction_false_positives.txt', sep=\",\", header=0)"
   ]
  },
  {
   "cell_type": "code",
   "execution_count": 285,
   "metadata": {},
   "outputs": [],
   "source": [
    "tfp_df.iloc[:,1] = tfp_df.iloc[:,1].str.strip()"
   ]
  },
  {
   "cell_type": "code",
   "execution_count": 242,
   "metadata": {},
   "outputs": [],
   "source": [
    "fp_df = pd.read_csv('data/'+organism+'/'+organism+'_prediction_false_positives.csv', sep=\",\", header=0)"
   ]
  },
  {
   "cell_type": "code",
   "execution_count": 286,
   "metadata": {},
   "outputs": [],
   "source": [
    "fp_df = fp_df.drop_duplicates()"
   ]
  },
  {
   "cell_type": "code",
   "execution_count": null,
   "metadata": {},
   "outputs": [],
   "source": []
  },
  {
   "cell_type": "code",
   "execution_count": 294,
   "metadata": {},
   "outputs": [],
   "source": [
    "fp_df['Input'] = fp_df['Input'].str.strip()\n",
    "fp_df['Input.1']= fp_df['Input.1'].str.strip()"
   ]
  },
  {
   "cell_type": "code",
   "execution_count": 331,
   "metadata": {},
   "outputs": [
    {
     "data": {
      "text/html": [
       "<div>\n",
       "<style>\n",
       "    .dataframe thead tr:only-child th {\n",
       "        text-align: right;\n",
       "    }\n",
       "\n",
       "    .dataframe thead th {\n",
       "        text-align: left;\n",
       "    }\n",
       "\n",
       "    .dataframe tbody tr th {\n",
       "        vertical-align: top;\n",
       "    }\n",
       "</style>\n",
       "<table border=\"1\" class=\"dataframe\">\n",
       "  <thead>\n",
       "    <tr style=\"text-align: right;\">\n",
       "      <th></th>\n",
       "      <th>#</th>\n",
       "      <th>Input</th>\n",
       "      <th>Gene Name</th>\n",
       "      <th>Description</th>\n",
       "      <th>Input.1</th>\n",
       "      <th>Gene Name.1</th>\n",
       "      <th>Description.1</th>\n",
       "      <th>prob</th>\n",
       "    </tr>\n",
       "  </thead>\n",
       "  <tbody>\n",
       "    <tr>\n",
       "      <th>22</th>\n",
       "      <td>13</td>\n",
       "      <td>YGR092W</td>\n",
       "      <td>DBF2</td>\n",
       "      <td>Ser/Thr kinase involved in transcription and s...</td>\n",
       "      <td>YLR200W</td>\n",
       "      <td>YKE2</td>\n",
       "      <td>Subunit of the heterohexameric Gim/prefoldin p...</td>\n",
       "      <td>0.981647</td>\n",
       "    </tr>\n",
       "    <tr>\n",
       "      <th>1459</th>\n",
       "      <td>1456</td>\n",
       "      <td>YGR092W</td>\n",
       "      <td>DBF2</td>\n",
       "      <td>Ser/Thr kinase involved in transcription and s...</td>\n",
       "      <td>YJR010C-A</td>\n",
       "      <td>SPC1</td>\n",
       "      <td>Subunit of the signal peptidase complex (SPC);...</td>\n",
       "      <td>0.662097</td>\n",
       "    </tr>\n",
       "    <tr>\n",
       "      <th>2089</th>\n",
       "      <td>2088</td>\n",
       "      <td>YGR092W</td>\n",
       "      <td>DBF2</td>\n",
       "      <td>Ser/Thr kinase involved in transcription and s...</td>\n",
       "      <td>YPL056C</td>\n",
       "      <td>LCL1</td>\n",
       "      <td>Putative protein of unknown function; deletion...</td>\n",
       "      <td>0.563679</td>\n",
       "    </tr>\n",
       "  </tbody>\n",
       "</table>\n",
       "</div>"
      ],
      "text/plain": [
       "         #    Input Gene Name  \\\n",
       "22      13  YGR092W      DBF2   \n",
       "1459  1456  YGR092W      DBF2   \n",
       "2089  2088  YGR092W      DBF2   \n",
       "\n",
       "                                            Description    Input.1  \\\n",
       "22    Ser/Thr kinase involved in transcription and s...    YLR200W   \n",
       "1459  Ser/Thr kinase involved in transcription and s...  YJR010C-A   \n",
       "2089  Ser/Thr kinase involved in transcription and s...    YPL056C   \n",
       "\n",
       "     Gene Name.1                                      Description.1      prob  \n",
       "22          YKE2  Subunit of the heterohexameric Gim/prefoldin p...  0.981647  \n",
       "1459        SPC1  Subunit of the signal peptidase complex (SPC);...  0.662097  \n",
       "2089        LCL1  Putative protein of unknown function; deletion...  0.563679  "
      ]
     },
     "execution_count": 331,
     "metadata": {},
     "output_type": "execute_result"
    }
   ],
   "source": []
  },
  {
   "cell_type": "code",
   "execution_count": 332,
   "metadata": {},
   "outputs": [
    {
     "data": {
      "text/html": [
       "<div>\n",
       "<style>\n",
       "    .dataframe thead tr:only-child th {\n",
       "        text-align: right;\n",
       "    }\n",
       "\n",
       "    .dataframe thead th {\n",
       "        text-align: left;\n",
       "    }\n",
       "\n",
       "    .dataframe tbody tr th {\n",
       "        vertical-align: top;\n",
       "    }\n",
       "</style>\n",
       "<table border=\"1\" class=\"dataframe\">\n",
       "  <thead>\n",
       "    <tr style=\"text-align: right;\">\n",
       "      <th></th>\n",
       "      <th>#</th>\n",
       "      <th>Input</th>\n",
       "      <th>Gene Name</th>\n",
       "      <th>Description</th>\n",
       "      <th>Input.1</th>\n",
       "      <th>Gene Name.1</th>\n",
       "      <th>Description.1</th>\n",
       "      <th>prob</th>\n",
       "    </tr>\n",
       "  </thead>\n",
       "  <tbody>\n",
       "    <tr>\n",
       "      <th>370</th>\n",
       "      <td>364</td>\n",
       "      <td>YHR134W</td>\n",
       "      <td>WSS1</td>\n",
       "      <td>SUMO-ligase and SUMO-targeted metalloprotease;...</td>\n",
       "      <td>YGR092W</td>\n",
       "      <td>DBF2</td>\n",
       "      <td>Ser/Thr kinase involved in transcription and s...</td>\n",
       "      <td>0.884028</td>\n",
       "    </tr>\n",
       "    <tr>\n",
       "      <th>2481</th>\n",
       "      <td>2481</td>\n",
       "      <td>YHR171W</td>\n",
       "      <td>ATG7</td>\n",
       "      <td>Autophagy-related protein and dual specificity...</td>\n",
       "      <td>YGR092W</td>\n",
       "      <td>DBF2</td>\n",
       "      <td>Ser/Thr kinase involved in transcription and s...</td>\n",
       "      <td>0.513150</td>\n",
       "    </tr>\n",
       "  </tbody>\n",
       "</table>\n",
       "</div>"
      ],
      "text/plain": [
       "         #    Input Gene Name  \\\n",
       "370    364  YHR134W      WSS1   \n",
       "2481  2481  YHR171W      ATG7   \n",
       "\n",
       "                                            Description  Input.1 Gene Name.1  \\\n",
       "370   SUMO-ligase and SUMO-targeted metalloprotease;...  YGR092W        DBF2   \n",
       "2481  Autophagy-related protein and dual specificity...  YGR092W        DBF2   \n",
       "\n",
       "                                          Description.1      prob  \n",
       "370   Ser/Thr kinase involved in transcription and s...  0.884028  \n",
       "2481  Ser/Thr kinase involved in transcription and s...  0.513150  "
      ]
     },
     "execution_count": 332,
     "metadata": {},
     "output_type": "execute_result"
    }
   ],
   "source": []
  },
  {
   "cell_type": "code",
   "execution_count": 336,
   "metadata": {},
   "outputs": [],
   "source": [
    "merged_1 = pd.merge(fp_df, tfp_df, right_on=[0,1], left_on=[\"Input\", \"Input.1\"], how=\"left\")\n",
    "merged_2 = pd.merge(fp_df, tfp_df, right_on=[0,1],left_on=[\"Input.1\", \"Input\"])"
   ]
  },
  {
   "cell_type": "code",
   "execution_count": null,
   "metadata": {},
   "outputs": [],
   "source": []
  },
  {
   "cell_type": "code",
   "execution_count": 206,
   "metadata": {},
   "outputs": [],
   "source": [
    "fp_df['prob']= round(fp_df['prob'] , 3)"
   ]
  },
  {
   "cell_type": "code",
   "execution_count": 352,
   "metadata": {},
   "outputs": [],
   "source": [
    "merged = pd.concat([merged_1, merged_2])\n",
    "merged=merged.drop_duplicates(keep=\"first\")"
   ]
  },
  {
   "cell_type": "code",
   "execution_count": 389,
   "metadata": {},
   "outputs": [],
   "source": [
    "df = merged"
   ]
  },
  {
   "cell_type": "code",
   "execution_count": 390,
   "metadata": {},
   "outputs": [],
   "source": [
    "true_pos = ~df.iloc[:,8].isnull()"
   ]
  },
  {
   "cell_type": "code",
   "execution_count": 391,
   "metadata": {},
   "outputs": [],
   "source": [
    "df ['true'] = true_pos * 1"
   ]
  },
  {
   "cell_type": "code",
   "execution_count": null,
   "metadata": {},
   "outputs": [],
   "source": []
  },
  {
   "cell_type": "code",
   "execution_count": 392,
   "metadata": {},
   "outputs": [],
   "source": [
    "df = df.iloc[:,[0,1,2,3,4,5,6,7,11]]"
   ]
  },
  {
   "cell_type": "code",
   "execution_count": 400,
   "metadata": {},
   "outputs": [],
   "source": [
    "df = df.sort_values(by=\"prob\", ascending=False)"
   ]
  },
  {
   "cell_type": "code",
   "execution_count": 402,
   "metadata": {},
   "outputs": [
    {
     "data": {
      "text/plain": [
       "128"
      ]
     },
     "execution_count": 402,
     "metadata": {},
     "output_type": "execute_result"
    }
   ],
   "source": []
  },
  {
   "cell_type": "code",
   "execution_count": null,
   "metadata": {},
   "outputs": [],
   "source": []
  },
  {
   "cell_type": "code",
   "execution_count": 404,
   "metadata": {},
   "outputs": [],
   "source": [
    "df.to_csv(\"./data/\"+organism+\"/\"+organism+\"_true_interactions_with_false_positives.csv\", header=True, index=None, sep=\",\")"
   ]
  },
  {
   "cell_type": "code",
   "execution_count": 30,
   "metadata": {},
   "outputs": [],
   "source": [
    "df = pd.read_csv(\"./data/\"+organism+\"/\"+organism+\"_true_interactions_with_false_positives.csv\", header=0, sep=\",\")"
   ]
  },
  {
   "cell_type": "code",
   "execution_count": 34,
   "metadata": {},
   "outputs": [],
   "source": [
    "df_bar = df.loc[:,['prob', 'true']]"
   ]
  },
  {
   "cell_type": "code",
   "execution_count": 35,
   "metadata": {},
   "outputs": [],
   "source": [
    "import math"
   ]
  },
  {
   "cell_type": "code",
   "execution_count": 36,
   "metadata": {},
   "outputs": [],
   "source": [
    "df_bar['prob_round'] = df['prob'].apply(lambda x: math.floor(x*10)/10)"
   ]
  },
  {
   "cell_type": "code",
   "execution_count": 38,
   "metadata": {},
   "outputs": [],
   "source": [
    "df_bar = df_bar.groupby(['prob_round','true']).size().unstack(fill_value=0)"
   ]
  },
  {
   "cell_type": "code",
   "execution_count": 39,
   "metadata": {},
   "outputs": [
    {
     "data": {
      "text/html": [
       "<div>\n",
       "<style>\n",
       "    .dataframe thead tr:only-child th {\n",
       "        text-align: right;\n",
       "    }\n",
       "\n",
       "    .dataframe thead th {\n",
       "        text-align: left;\n",
       "    }\n",
       "\n",
       "    .dataframe tbody tr th {\n",
       "        vertical-align: top;\n",
       "    }\n",
       "</style>\n",
       "<table border=\"1\" class=\"dataframe\">\n",
       "  <thead>\n",
       "    <tr style=\"text-align: right;\">\n",
       "      <th>true</th>\n",
       "      <th>0</th>\n",
       "      <th>1</th>\n",
       "    </tr>\n",
       "    <tr>\n",
       "      <th>prob_round</th>\n",
       "      <th></th>\n",
       "      <th></th>\n",
       "    </tr>\n",
       "  </thead>\n",
       "  <tbody>\n",
       "    <tr>\n",
       "      <th>0.5</th>\n",
       "      <td>145</td>\n",
       "      <td>3</td>\n",
       "    </tr>\n",
       "    <tr>\n",
       "      <th>0.6</th>\n",
       "      <td>123</td>\n",
       "      <td>2</td>\n",
       "    </tr>\n",
       "    <tr>\n",
       "      <th>0.7</th>\n",
       "      <td>112</td>\n",
       "      <td>6</td>\n",
       "    </tr>\n",
       "    <tr>\n",
       "      <th>0.8</th>\n",
       "      <td>106</td>\n",
       "      <td>13</td>\n",
       "    </tr>\n",
       "    <tr>\n",
       "      <th>0.9</th>\n",
       "      <td>307</td>\n",
       "      <td>54</td>\n",
       "    </tr>\n",
       "  </tbody>\n",
       "</table>\n",
       "</div>"
      ],
      "text/plain": [
       "true          0   1\n",
       "prob_round         \n",
       "0.5         145   3\n",
       "0.6         123   2\n",
       "0.7         112   6\n",
       "0.8         106  13\n",
       "0.9         307  54"
      ]
     },
     "execution_count": 39,
     "metadata": {},
     "output_type": "execute_result"
    }
   ],
   "source": [
    "df_bar"
   ]
  },
  {
   "cell_type": "code",
   "execution_count": 40,
   "metadata": {},
   "outputs": [],
   "source": [
    "df_bar['percent'] = df_bar[1]/df_bar[0]"
   ]
  },
  {
   "cell_type": "code",
   "execution_count": 41,
   "metadata": {},
   "outputs": [
    {
     "data": {
      "image/png": "[encoded data removed]",
      "text/plain": [
       "<matplotlib.figure.Figure at 0x11bd31710>"
      ]
     },
     "metadata": {},
     "output_type": "display_data"
    }
   ],
   "source": [
    "# Values of each group\n",
    "bars1 = df_bar['percent'] * 100\n",
    " \n",
    "# Heights of bars1 + bars2 (TO DO better)\n",
    "bars = [1, 1, 1, 1, 1]\n",
    " \n",
    "# The position of the bars on the x-axis\n",
    "r = [1,2,3,4,5]\n",
    "ticks = [0.5,1.5,2.5,3.5,4.5,5.5]\n",
    "# Names of group and bar width\n",
    "names = df_bar.index\n",
    "barWidth = 1\n",
    " \n",
    "# Create plots with pre-defined labels.\n",
    "# Alternatively, you can pass labels explicitly when calling `legend`.\n",
    "# plt.figure(figsize=(12, 5))\n",
    "fig, ax = plt.subplots()\n",
    "# Create brown bars\n",
    "ax.bar(r, bars1, color='green', edgecolor='black', width=barWidth, alpha=0.5, label='True Interactions identified')\n",
    "\n",
    "tick_names = [0.5,0.6,0.7,0.8,0.9,1.0]\n",
    "# Custom X axis\n",
    "plt.xticks(ticks, tick_names)\n",
    "plt.xlabel(\"Probability\", fontsize=14)\n",
    "plt.ylabel(\"Percent, %\", fontsize=14)\n",
    "plt.title('True interactions identified from predictions', fontsize=15)\n",
    "plt.savefig(organism+'_false_positives.eps', dpi=1200)\n",
    "# Show graphic\n",
    "plt.show()\n"
   ]
  },
  {
   "cell_type": "code",
   "execution_count": null,
   "metadata": {},
   "outputs": [],
   "source": []
  },
  {
   "cell_type": "code",
   "execution_count": null,
   "metadata": {},
   "outputs": [],
   "source": []
  },
  {
   "cell_type": "code",
   "execution_count": null,
   "metadata": {},
   "outputs": [],
   "source": []
  }
 ],
 "metadata": {
  "kernelspec": {
   "display_name": "Python 3",
   "language": "python",
   "name": "python3"
  },
  "language_info": {
   "codemirror_mode": {
    "name": "ipython",
    "version": 3
   },
   "file_extension": ".py",
   "mimetype": "text/x-python",
   "name": "python",
   "nbconvert_exporter": "python",
   "pygments_lexer": "ipython3",
   "version": "3.6.3"
  }
 },
 "nbformat": 4,
 "nbformat_minor": 2
}
